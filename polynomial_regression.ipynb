{
 "cells": [
  {
   "cell_type": "code",
   "execution_count": 80,
   "id": "ea2795b3-7c70-467c-8e3a-87b2cea68faf",
   "metadata": {},
   "outputs": [],
   "source": [
    "import numpy as np\n",
    "import matplotlib.pyplot as plt\n",
    "\n",
    "from sklearn.model_selection import train_test_split\n",
    "\n",
    "from sklearn.linear_model import LinearRegression,SGDRegressor\n",
    "\n",
    "from sklearn.preprocessing import PolynomialFeatures,StandardScaler\n",
    "\n",
    "from sklearn.metrics import r2_score\n",
    "\n",
    "from sklearn.pipeline import Pipeline"
   ]
  },
  {
   "cell_type": "code",
   "execution_count": 81,
   "id": "0b26ea2c-b734-42e8-a530-02203ade35a6",
   "metadata": {},
   "outputs": [],
   "source": [
    "X = 6 * np.random.rand(200, 1) - 3\n",
    "y = 0.8 * X**2 + 0.9 * X + 2 + np.random.randn(200, 1)\n",
    "\n",
    "# y = 0.8x^2 + 0.9x + 2\n"
   ]
  },
  {
   "cell_type": "code",
   "execution_count": 82,
   "id": "c40a0225-585c-4693-b591-1093f5292000",
   "metadata": {},
   "outputs": [
    {
     "data": {
      "image/png": "[encoded data removed]",
      "text/plain": [
       "<Figure size 640x480 with 1 Axes>"
      ]
     },
     "metadata": {},
     "output_type": "display_data"
    }
   ],
   "source": [
    "plt.plot(X, y,'b.')\n",
    "plt.xlabel(\"X\")\n",
    "plt.ylabel(\"y\")\n",
    "plt.show()"
   ]
  },
  {
   "cell_type": "code",
   "execution_count": 83,
   "id": "5a640952-ecae-4bc1-b246-a6c6ab63a9b6",
   "metadata": {},
   "outputs": [],
   "source": [
    "# Train test split\n",
    "X_train,X_test,y_train,y_test = train_test_split(X,y,test_size=0.2,random_state=2)"
   ]
  },
  {
   "cell_type": "code",
   "execution_count": 84,
   "id": "8a983df8-0da7-421f-a63d-4bfaa3ee4ff8",
   "metadata": {},
   "outputs": [],
   "source": [
    "# Applying linear regression\n",
    "lr = LinearRegression()"
   ]
  },
  {
   "cell_type": "code",
   "execution_count": 85,
   "id": "580a7079-f125-46f2-adac-9f33e1ce7bd9",
   "metadata": {},
   "outputs": [
    {
     "data": {
      "text/html": [
       "<style>#sk-container-id-6 {\n",
       "  /* Definition of color scheme common for light and dark mode */\n",
       "  --sklearn-color-text: black;\n",
       "  --sklearn-color-line: gray;\n",
       "  /* Definition of color scheme for unfitted estimators */\n",
       "  --sklearn-color-unfitted-level-0: #fff5e6;\n",
       "  --sklearn-color-unfitted-level-1: #f6e4d2;\n",
       "  --sklearn-color-unfitted-level-2: #ffe0b3;\n",
       "  --sklearn-color-unfitted-level-3: chocolate;\n",
       "  /* Definition of color scheme for fitted estimators */\n",
       "  --sklearn-color-fitted-level-0: #f0f8ff;\n",
       "  --sklearn-color-fitted-level-1: #d4ebff;\n",
       "  --sklearn-color-fitted-level-2: #b3dbfd;\n",
       "  --sklearn-color-fitted-level-3: cornflowerblue;\n",
       "\n",
       "  /* Specific color for light theme */\n",
       "  --sklearn-color-text-on-default-background: var(--sg-text-color, var(--theme-code-foreground, var(--jp-content-font-color1, black)));\n",
       "  --sklearn-color-background: var(--sg-background-color, var(--theme-background, var(--jp-layout-color0, white)));\n",
       "  --sklearn-color-border-box: var(--sg-text-color, var(--theme-code-foreground, var(--jp-content-font-color1, black)));\n",
       "  --sklearn-color-icon: #696969;\n",
       "\n",
       "  @media (prefers-color-scheme: dark) {\n",
       "    /* Redefinition of color scheme for dark theme */\n",
       "    --sklearn-color-text-on-default-background: var(--sg-text-color, var(--theme-code-foreground, var(--jp-content-font-color1, white)));\n",
       "    --sklearn-color-background: var(--sg-background-color, var(--theme-background, var(--jp-layout-color0, #111)));\n",
       "    --sklearn-color-border-box: var(--sg-text-color, var(--theme-code-foreground, var(--jp-content-font-color1, white)));\n",
       "    --sklearn-color-icon: #878787;\n",
       "  }\n",
       "}\n",
       "\n",
       "#sk-container-id-6 {\n",
       "  color: var(--sklearn-color-text);\n",
       "}\n",
       "\n",
       "#sk-container-id-6 pre {\n",
       "  padding: 0;\n",
       "}\n",
       "\n",
       "#sk-container-id-6 input.sk-hidden--visually {\n",
       "  border: 0;\n",
       "  clip: rect(1px 1px 1px 1px);\n",
       "  clip: rect(1px, 1px, 1px, 1px);\n",
       "  height: 1px;\n",
       "  margin: -1px;\n",
       "  overflow: hidden;\n",
       "  padding: 0;\n",
       "  position: absolute;\n",
       "  width: 1px;\n",
       "}\n",
       "\n",
       "#sk-container-id-6 div.sk-dashed-wrapped {\n",
       "  border: 1px dashed var(--sklearn-color-line);\n",
       "  margin: 0 0.4em 0.5em 0.4em;\n",
       "  box-sizing: border-box;\n",
       "  padding-bottom: 0.4em;\n",
       "  background-color: var(--sklearn-color-background);\n",
       "}\n",
       "\n",
       "#sk-container-id-6 div.sk-container {\n",
       "  /* jupyter's `normalize.less` sets `[hidden] { display: none; }`\n",
       "     but bootstrap.min.css set `[hidden] { display: none !important; }`\n",
       "     so we also need the `!important` here to be able to override the\n",
       "     default hidden behavior on the sphinx rendered scikit-learn.org.\n",
       "     See: https://github.com/scikit-learn/scikit-learn/issues/21755 */\n",
       "  display: inline-block !important;\n",
       "  position: relative;\n",
       "}\n",
       "\n",
       "#sk-container-id-6 div.sk-text-repr-fallback {\n",
       "  display: none;\n",
       "}\n",
       "\n",
       "div.sk-parallel-item,\n",
       "div.sk-serial,\n",
       "div.sk-item {\n",
       "  /* draw centered vertical line to link estimators */\n",
       "  background-image: linear-gradient(var(--sklearn-color-text-on-default-background), var(--sklearn-color-text-on-default-background));\n",
       "  background-size: 2px 100%;\n",
       "  background-repeat: no-repeat;\n",
       "  background-position: center center;\n",
       "}\n",
       "\n",
       "/* Parallel-specific style estimator block */\n",
       "\n",
       "#sk-container-id-6 div.sk-parallel-item::after {\n",
       "  content: \"\";\n",
       "  width: 100%;\n",
       "  border-bottom: 2px solid var(--sklearn-color-text-on-default-background);\n",
       "  flex-grow: 1;\n",
       "}\n",
       "\n",
       "#sk-container-id-6 div.sk-parallel {\n",
       "  display: flex;\n",
       "  align-items: stretch;\n",
       "  justify-content: center;\n",
       "  background-color: var(--sklearn-color-background);\n",
       "  position: relative;\n",
       "}\n",
       "\n",
       "#sk-container-id-6 div.sk-parallel-item {\n",
       "  display: flex;\n",
       "  flex-direction: column;\n",
       "}\n",
       "\n",
       "#sk-container-id-6 div.sk-parallel-item:first-child::after {\n",
       "  align-self: flex-end;\n",
       "  width: 50%;\n",
       "}\n",
       "\n",
       "#sk-container-id-6 div.sk-parallel-item:last-child::after {\n",
       "  align-self: flex-start;\n",
       "  width: 50%;\n",
       "}\n",
       "\n",
       "#sk-container-id-6 div.sk-parallel-item:only-child::after {\n",
       "  width: 0;\n",
       "}\n",
       "\n",
       "/* Serial-specific style estimator block */\n",
       "\n",
       "#sk-container-id-6 div.sk-serial {\n",
       "  display: flex;\n",
       "  flex-direction: column;\n",
       "  align-items: center;\n",
       "  background-color: var(--sklearn-color-background);\n",
       "  padding-right: 1em;\n",
       "  padding-left: 1em;\n",
       "}\n",
       "\n",
       "\n",
       "/* Toggleable style: style used for estimator/Pipeline/ColumnTransformer box that is\n",
       "clickable and can be expanded/collapsed.\n",
       "- Pipeline and ColumnTransformer use this feature and define the default style\n",
       "- Estimators will overwrite some part of the style using the `sk-estimator` class\n",
       "*/\n",
       "\n",
       "/* Pipeline and ColumnTransformer style (default) */\n",
       "\n",
       "#sk-container-id-6 div.sk-toggleable {\n",
       "  /* Default theme specific background. It is overwritten whether we have a\n",
       "  specific estimator or a Pipeline/ColumnTransformer */\n",
       "  background-color: var(--sklearn-color-background);\n",
       "}\n",
       "\n",
       "/* Toggleable label */\n",
       "#sk-container-id-6 label.sk-toggleable__label {\n",
       "  cursor: pointer;\n",
       "  display: block;\n",
       "  width: 100%;\n",
       "  margin-bottom: 0;\n",
       "  padding: 0.5em;\n",
       "  box-sizing: border-box;\n",
       "  text-align: center;\n",
       "}\n",
       "\n",
       "#sk-container-id-6 label.sk-toggleable__label-arrow:before {\n",
       "  /* Arrow on the left of the label */\n",
       "  content: \"▸\";\n",
       "  float: left;\n",
       "  margin-right: 0.25em;\n",
       "  color: var(--sklearn-color-icon);\n",
       "}\n",
       "\n",
       "#sk-container-id-6 label.sk-toggleable__label-arrow:hover:before {\n",
       "  color: var(--sklearn-color-text);\n",
       "}\n",
       "\n",
       "/* Toggleable content - dropdown */\n",
       "\n",
       "#sk-container-id-6 div.sk-toggleable__content {\n",
       "  max-height: 0;\n",
       "  max-width: 0;\n",
       "  overflow: hidden;\n",
       "  text-align: left;\n",
       "  /* unfitted */\n",
       "  background-color: var(--sklearn-color-unfitted-level-0);\n",
       "}\n",
       "\n",
       "#sk-container-id-6 div.sk-toggleable__content.fitted {\n",
       "  /* fitted */\n",
       "  background-color: var(--sklearn-color-fitted-level-0);\n",
       "}\n",
       "\n",
       "#sk-container-id-6 div.sk-toggleable__content pre {\n",
       "  margin: 0.2em;\n",
       "  border-radius: 0.25em;\n",
       "  color: var(--sklearn-color-text);\n",
       "  /* unfitted */\n",
       "  background-color: var(--sklearn-color-unfitted-level-0);\n",
       "}\n",
       "\n",
       "#sk-container-id-6 div.sk-toggleable__content.fitted pre {\n",
       "  /* unfitted */\n",
       "  background-color: var(--sklearn-color-fitted-level-0);\n",
       "}\n",
       "\n",
       "#sk-container-id-6 input.sk-toggleable__control:checked~div.sk-toggleable__content {\n",
       "  /* Expand drop-down */\n",
       "  max-height: 200px;\n",
       "  max-width: 100%;\n",
       "  overflow: auto;\n",
       "}\n",
       "\n",
       "#sk-container-id-6 input.sk-toggleable__control:checked~label.sk-toggleable__label-arrow:before {\n",
       "  content: \"▾\";\n",
       "}\n",
       "\n",
       "/* Pipeline/ColumnTransformer-specific style */\n",
       "\n",
       "#sk-container-id-6 div.sk-label input.sk-toggleable__control:checked~label.sk-toggleable__label {\n",
       "  color: var(--sklearn-color-text);\n",
       "  background-color: var(--sklearn-color-unfitted-level-2);\n",
       "}\n",
       "\n",
       "#sk-container-id-6 div.sk-label.fitted input.sk-toggleable__control:checked~label.sk-toggleable__label {\n",
       "  background-color: var(--sklearn-color-fitted-level-2);\n",
       "}\n",
       "\n",
       "/* Estimator-specific style */\n",
       "\n",
       "/* Colorize estimator box */\n",
       "#sk-container-id-6 div.sk-estimator input.sk-toggleable__control:checked~label.sk-toggleable__label {\n",
       "  /* unfitted */\n",
       "  background-color: var(--sklearn-color-unfitted-level-2);\n",
       "}\n",
       "\n",
       "#sk-container-id-6 div.sk-estimator.fitted input.sk-toggleable__control:checked~label.sk-toggleable__label {\n",
       "  /* fitted */\n",
       "  background-color: var(--sklearn-color-fitted-level-2);\n",
       "}\n",
       "\n",
       "#sk-container-id-6 div.sk-label label.sk-toggleable__label,\n",
       "#sk-container-id-6 div.sk-label label {\n",
       "  /* The background is the default theme color */\n",
       "  color: var(--sklearn-color-text-on-default-background);\n",
       "}\n",
       "\n",
       "/* On hover, darken the color of the background */\n",
       "#sk-container-id-6 div.sk-label:hover label.sk-toggleable__label {\n",
       "  color: var(--sklearn-color-text);\n",
       "  background-color: var(--sklearn-color-unfitted-level-2);\n",
       "}\n",
       "\n",
       "/* Label box, darken color on hover, fitted */\n",
       "#sk-container-id-6 div.sk-label.fitted:hover label.sk-toggleable__label.fitted {\n",
       "  color: var(--sklearn-color-text);\n",
       "  background-color: var(--sklearn-color-fitted-level-2);\n",
       "}\n",
       "\n",
       "/* Estimator label */\n",
       "\n",
       "#sk-container-id-6 div.sk-label label {\n",
       "  font-family: monospace;\n",
       "  font-weight: bold;\n",
       "  display: inline-block;\n",
       "  line-height: 1.2em;\n",
       "}\n",
       "\n",
       "#sk-container-id-6 div.sk-label-container {\n",
       "  text-align: center;\n",
       "}\n",
       "\n",
       "/* Estimator-specific */\n",
       "#sk-container-id-6 div.sk-estimator {\n",
       "  font-family: monospace;\n",
       "  border: 1px dotted var(--sklearn-color-border-box);\n",
       "  border-radius: 0.25em;\n",
       "  box-sizing: border-box;\n",
       "  margin-bottom: 0.5em;\n",
       "  /* unfitted */\n",
       "  background-color: var(--sklearn-color-unfitted-level-0);\n",
       "}\n",
       "\n",
       "#sk-container-id-6 div.sk-estimator.fitted {\n",
       "  /* fitted */\n",
       "  background-color: var(--sklearn-color-fitted-level-0);\n",
       "}\n",
       "\n",
       "/* on hover */\n",
       "#sk-container-id-6 div.sk-estimator:hover {\n",
       "  /* unfitted */\n",
       "  background-color: var(--sklearn-color-unfitted-level-2);\n",
       "}\n",
       "\n",
       "#sk-container-id-6 div.sk-estimator.fitted:hover {\n",
       "  /* fitted */\n",
       "  background-color: var(--sklearn-color-fitted-level-2);\n",
       "}\n",
       "\n",
       "/* Specification for estimator info (e.g. \"i\" and \"?\") */\n",
       "\n",
       "/* Common style for \"i\" and \"?\" */\n",
       "\n",
       ".sk-estimator-doc-link,\n",
       "a:link.sk-estimator-doc-link,\n",
       "a:visited.sk-estimator-doc-link {\n",
       "  float: right;\n",
       "  font-size: smaller;\n",
       "  line-height: 1em;\n",
       "  font-family: monospace;\n",
       "  background-color: var(--sklearn-color-background);\n",
       "  border-radius: 1em;\n",
       "  height: 1em;\n",
       "  width: 1em;\n",
       "  text-decoration: none !important;\n",
       "  margin-left: 1ex;\n",
       "  /* unfitted */\n",
       "  border: var(--sklearn-color-unfitted-level-1) 1pt solid;\n",
       "  color: var(--sklearn-color-unfitted-level-1);\n",
       "}\n",
       "\n",
       ".sk-estimator-doc-link.fitted,\n",
       "a:link.sk-estimator-doc-link.fitted,\n",
       "a:visited.sk-estimator-doc-link.fitted {\n",
       "  /* fitted */\n",
       "  border: var(--sklearn-color-fitted-level-1) 1pt solid;\n",
       "  color: var(--sklearn-color-fitted-level-1);\n",
       "}\n",
       "\n",
       "/* On hover */\n",
       "div.sk-estimator:hover .sk-estimator-doc-link:hover,\n",
       ".sk-estimator-doc-link:hover,\n",
       "div.sk-label-container:hover .sk-estimator-doc-link:hover,\n",
       ".sk-estimator-doc-link:hover {\n",
       "  /* unfitted */\n",
       "  background-color: var(--sklearn-color-unfitted-level-3);\n",
       "  color: var(--sklearn-color-background);\n",
       "  text-decoration: none;\n",
       "}\n",
       "\n",
       "div.sk-estimator.fitted:hover .sk-estimator-doc-link.fitted:hover,\n",
       ".sk-estimator-doc-link.fitted:hover,\n",
       "div.sk-label-container:hover .sk-estimator-doc-link.fitted:hover,\n",
       ".sk-estimator-doc-link.fitted:hover {\n",
       "  /* fitted */\n",
       "  background-color: var(--sklearn-color-fitted-level-3);\n",
       "  color: var(--sklearn-color-background);\n",
       "  text-decoration: none;\n",
       "}\n",
       "\n",
       "/* Span, style for the box shown on hovering the info icon */\n",
       ".sk-estimator-doc-link span {\n",
       "  display: none;\n",
       "  z-index: 9999;\n",
       "  position: relative;\n",
       "  font-weight: normal;\n",
       "  right: .2ex;\n",
       "  padding: .5ex;\n",
       "  margin: .5ex;\n",
       "  width: min-content;\n",
       "  min-width: 20ex;\n",
       "  max-width: 50ex;\n",
       "  color: var(--sklearn-color-text);\n",
       "  box-shadow: 2pt 2pt 4pt #999;\n",
       "  /* unfitted */\n",
       "  background: var(--sklearn-color-unfitted-level-0);\n",
       "  border: .5pt solid var(--sklearn-color-unfitted-level-3);\n",
       "}\n",
       "\n",
       ".sk-estimator-doc-link.fitted span {\n",
       "  /* fitted */\n",
       "  background: var(--sklearn-color-fitted-level-0);\n",
       "  border: var(--sklearn-color-fitted-level-3);\n",
       "}\n",
       "\n",
       ".sk-estimator-doc-link:hover span {\n",
       "  display: block;\n",
       "}\n",
       "\n",
       "/* \"?\"-specific style due to the `<a>` HTML tag */\n",
       "\n",
       "#sk-container-id-6 a.estimator_doc_link {\n",
       "  float: right;\n",
       "  font-size: 1rem;\n",
       "  line-height: 1em;\n",
       "  font-family: monospace;\n",
       "  background-color: var(--sklearn-color-background);\n",
       "  border-radius: 1rem;\n",
       "  height: 1rem;\n",
       "  width: 1rem;\n",
       "  text-decoration: none;\n",
       "  /* unfitted */\n",
       "  color: var(--sklearn-color-unfitted-level-1);\n",
       "  border: var(--sklearn-color-unfitted-level-1) 1pt solid;\n",
       "}\n",
       "\n",
       "#sk-container-id-6 a.estimator_doc_link.fitted {\n",
       "  /* fitted */\n",
       "  border: var(--sklearn-color-fitted-level-1) 1pt solid;\n",
       "  color: var(--sklearn-color-fitted-level-1);\n",
       "}\n",
       "\n",
       "/* On hover */\n",
       "#sk-container-id-6 a.estimator_doc_link:hover {\n",
       "  /* unfitted */\n",
       "  background-color: var(--sklearn-color-unfitted-level-3);\n",
       "  color: var(--sklearn-color-background);\n",
       "  text-decoration: none;\n",
       "}\n",
       "\n",
       "#sk-container-id-6 a.estimator_doc_link.fitted:hover {\n",
       "  /* fitted */\n",
       "  background-color: var(--sklearn-color-fitted-level-3);\n",
       "}\n",
       "</style><div id=\"sk-container-id-6\" class=\"sk-top-container\"><div class=\"sk-text-repr-fallback\"><pre>LinearRegression()</pre><b>In a Jupyter environment, please rerun this cell to show the HTML representation or trust the notebook. <br />On GitHub, the HTML representation is unable to render, please try loading this page with nbviewer.org.</b></div><div class=\"sk-container\" hidden><div class=\"sk-item\"><div class=\"sk-estimator fitted sk-toggleable\"><input class=\"sk-toggleable__control sk-hidden--visually\" id=\"sk-estimator-id-6\" type=\"checkbox\" checked><label for=\"sk-estimator-id-6\" class=\"sk-toggleable__label fitted sk-toggleable__label-arrow fitted\">&nbsp;&nbsp;LinearRegression<a class=\"sk-estimator-doc-link fitted\" rel=\"noreferrer\" target=\"_blank\" href=\"https://scikit-learn.org/1.4/modules/generated/sklearn.linear_model.LinearRegression.html\">?<span>Documentation for LinearRegression</span></a><span class=\"sk-estimator-doc-link fitted\">i<span>Fitted</span></span></label><div class=\"sk-toggleable__content fitted\"><pre>LinearRegression()</pre></div> </div></div></div></div>"
      ],
      "text/plain": [
       "LinearRegression()"
      ]
     },
     "execution_count": 85,
     "metadata": {},
     "output_type": "execute_result"
    }
   ],
   "source": [
    "lr.fit(X_train,y_train)\n"
   ]
  },
  {
   "cell_type": "code",
   "execution_count": 86,
   "id": "e2216b2a-884c-402b-aee2-7acbc2374e81",
   "metadata": {},
   "outputs": [
    {
     "data": {
      "text/plain": [
       "0.25799942436600964"
      ]
     },
     "execution_count": 86,
     "metadata": {},
     "output_type": "execute_result"
    }
   ],
   "source": [
    "y_pred = lr.predict(X_test)\n",
    "r2_score(y_test,y_pred)"
   ]
  },
  {
   "cell_type": "code",
   "execution_count": 87,
   "id": "c633ec68-374c-438d-89f6-8d76034265a6",
   "metadata": {},
   "outputs": [
    {
     "data": {
      "image/png": "[encoded data removed]",
      "text/plain": [
       "<Figure size 640x480 with 1 Axes>"
      ]
     },
     "metadata": {},
     "output_type": "display_data"
    }
   ],
   "source": [
    "plt.plot(X_train,lr.predict(X_train),color='r')\n",
    "plt.plot(X, y, \"b.\")\n",
    "plt.xlabel(\"X\")\n",
    "plt.ylabel(\"y\")\n",
    "plt.show()"
   ]
  },
  {
   "cell_type": "code",
   "execution_count": 88,
   "id": "f19f6d33-bc95-47f9-bcd9-fa64e3379425",
   "metadata": {},
   "outputs": [],
   "source": [
    "# Applying Polynomial Linear Regression\n",
    "# degree 2\n",
    "poly = PolynomialFeatures(degree=2,include_bias=True)\n",
    "\n",
    "X_train_trans = poly.fit_transform(X_train)\n",
    "X_test_trans = poly.transform(X_test)"
   ]
  },
  {
   "cell_type": "code",
   "execution_count": 89,
   "id": "57416065-1b94-435b-a3a7-9f6a00027381",
   "metadata": {},
   "outputs": [
    {
     "name": "stdout",
     "output_type": "stream",
     "text": [
      "[2.12634303]\n",
      "[1.         2.12634303 4.52133469]\n"
     ]
    }
   ],
   "source": [
    "print(X_train[0])\n",
    "print(X_train_trans[0])\n"
   ]
  },
  {
   "cell_type": "code",
   "execution_count": 90,
   "id": "10faccfb-8663-40c8-8478-6e2c4fc22e1c",
   "metadata": {},
   "outputs": [],
   "source": [
    "# include_bias parameter"
   ]
  },
  {
   "cell_type": "code",
   "execution_count": 91,
   "id": "1cebfb26-c1ef-4a77-a988-c3207e01eaa5",
   "metadata": {},
   "outputs": [
    {
     "data": {
      "text/html": [
       "<style>#sk-container-id-7 {\n",
       "  /* Definition of color scheme common for light and dark mode */\n",
       "  --sklearn-color-text: black;\n",
       "  --sklearn-color-line: gray;\n",
       "  /* Definition of color scheme for unfitted estimators */\n",
       "  --sklearn-color-unfitted-level-0: #fff5e6;\n",
       "  --sklearn-color-unfitted-level-1: #f6e4d2;\n",
       "  --sklearn-color-unfitted-level-2: #ffe0b3;\n",
       "  --sklearn-color-unfitted-level-3: chocolate;\n",
       "  /* Definition of color scheme for fitted estimators */\n",
       "  --sklearn-color-fitted-level-0: #f0f8ff;\n",
       "  --sklearn-color-fitted-level-1: #d4ebff;\n",
       "  --sklearn-color-fitted-level-2: #b3dbfd;\n",
       "  --sklearn-color-fitted-level-3: cornflowerblue;\n",
       "\n",
       "  /* Specific color for light theme */\n",
       "  --sklearn-color-text-on-default-background: var(--sg-text-color, var(--theme-code-foreground, var(--jp-content-font-color1, black)));\n",
       "  --sklearn-color-background: var(--sg-background-color, var(--theme-background, var(--jp-layout-color0, white)));\n",
       "  --sklearn-color-border-box: var(--sg-text-color, var(--theme-code-foreground, var(--jp-content-font-color1, black)));\n",
       "  --sklearn-color-icon: #696969;\n",
       "\n",
       "  @media (prefers-color-scheme: dark) {\n",
       "    /* Redefinition of color scheme for dark theme */\n",
       "    --sklearn-color-text-on-default-background: var(--sg-text-color, var(--theme-code-foreground, var(--jp-content-font-color1, white)));\n",
       "    --sklearn-color-background: var(--sg-background-color, var(--theme-background, var(--jp-layout-color0, #111)));\n",
       "    --sklearn-color-border-box: var(--sg-text-color, var(--theme-code-foreground, var(--jp-content-font-color1, white)));\n",
       "    --sklearn-color-icon: #878787;\n",
       "  }\n",
       "}\n",
       "\n",
       "#sk-container-id-7 {\n",
       "  color: var(--sklearn-color-text);\n",
       "}\n",
       "\n",
       "#sk-container-id-7 pre {\n",
       "  padding: 0;\n",
       "}\n",
       "\n",
       "#sk-container-id-7 input.sk-hidden--visually {\n",
       "  border: 0;\n",
       "  clip: rect(1px 1px 1px 1px);\n",
       "  clip: rect(1px, 1px, 1px, 1px);\n",
       "  height: 1px;\n",
       "  margin: -1px;\n",
       "  overflow: hidden;\n",
       "  padding: 0;\n",
       "  position: absolute;\n",
       "  width: 1px;\n",
       "}\n",
       "\n",
       "#sk-container-id-7 div.sk-dashed-wrapped {\n",
       "  border: 1px dashed var(--sklearn-color-line);\n",
       "  margin: 0 0.4em 0.5em 0.4em;\n",
       "  box-sizing: border-box;\n",
       "  padding-bottom: 0.4em;\n",
       "  background-color: var(--sklearn-color-background);\n",
       "}\n",
       "\n",
       "#sk-container-id-7 div.sk-container {\n",
       "  /* jupyter's `normalize.less` sets `[hidden] { display: none; }`\n",
       "     but bootstrap.min.css set `[hidden] { display: none !important; }`\n",
       "     so we also need the `!important` here to be able to override the\n",
       "     default hidden behavior on the sphinx rendered scikit-learn.org.\n",
       "     See: https://github.com/scikit-learn/scikit-learn/issues/21755 */\n",
       "  display: inline-block !important;\n",
       "  position: relative;\n",
       "}\n",
       "\n",
       "#sk-container-id-7 div.sk-text-repr-fallback {\n",
       "  display: none;\n",
       "}\n",
       "\n",
       "div.sk-parallel-item,\n",
       "div.sk-serial,\n",
       "div.sk-item {\n",
       "  /* draw centered vertical line to link estimators */\n",
       "  background-image: linear-gradient(var(--sklearn-color-text-on-default-background), var(--sklearn-color-text-on-default-background));\n",
       "  background-size: 2px 100%;\n",
       "  background-repeat: no-repeat;\n",
       "  background-position: center center;\n",
       "}\n",
       "\n",
       "/* Parallel-specific style estimator block */\n",
       "\n",
       "#sk-container-id-7 div.sk-parallel-item::after {\n",
       "  content: \"\";\n",
       "  width: 100%;\n",
       "  border-bottom: 2px solid var(--sklearn-color-text-on-default-background);\n",
       "  flex-grow: 1;\n",
       "}\n",
       "\n",
       "#sk-container-id-7 div.sk-parallel {\n",
       "  display: flex;\n",
       "  align-items: stretch;\n",
       "  justify-content: center;\n",
       "  background-color: var(--sklearn-color-background);\n",
       "  position: relative;\n",
       "}\n",
       "\n",
       "#sk-container-id-7 div.sk-parallel-item {\n",
       "  display: flex;\n",
       "  flex-direction: column;\n",
       "}\n",
       "\n",
       "#sk-container-id-7 div.sk-parallel-item:first-child::after {\n",
       "  align-self: flex-end;\n",
       "  width: 50%;\n",
       "}\n",
       "\n",
       "#sk-container-id-7 div.sk-parallel-item:last-child::after {\n",
       "  align-self: flex-start;\n",
       "  width: 50%;\n",
       "}\n",
       "\n",
       "#sk-container-id-7 div.sk-parallel-item:only-child::after {\n",
       "  width: 0;\n",
       "}\n",
       "\n",
       "/* Serial-specific style estimator block */\n",
       "\n",
       "#sk-container-id-7 div.sk-serial {\n",
       "  display: flex;\n",
       "  flex-direction: column;\n",
       "  align-items: center;\n",
       "  background-color: var(--sklearn-color-background);\n",
       "  padding-right: 1em;\n",
       "  padding-left: 1em;\n",
       "}\n",
       "\n",
       "\n",
       "/* Toggleable style: style used for estimator/Pipeline/ColumnTransformer box that is\n",
       "clickable and can be expanded/collapsed.\n",
       "- Pipeline and ColumnTransformer use this feature and define the default style\n",
       "- Estimators will overwrite some part of the style using the `sk-estimator` class\n",
       "*/\n",
       "\n",
       "/* Pipeline and ColumnTransformer style (default) */\n",
       "\n",
       "#sk-container-id-7 div.sk-toggleable {\n",
       "  /* Default theme specific background. It is overwritten whether we have a\n",
       "  specific estimator or a Pipeline/ColumnTransformer */\n",
       "  background-color: var(--sklearn-color-background);\n",
       "}\n",
       "\n",
       "/* Toggleable label */\n",
       "#sk-container-id-7 label.sk-toggleable__label {\n",
       "  cursor: pointer;\n",
       "  display: block;\n",
       "  width: 100%;\n",
       "  margin-bottom: 0;\n",
       "  padding: 0.5em;\n",
       "  box-sizing: border-box;\n",
       "  text-align: center;\n",
       "}\n",
       "\n",
       "#sk-container-id-7 label.sk-toggleable__label-arrow:before {\n",
       "  /* Arrow on the left of the label */\n",
       "  content: \"▸\";\n",
       "  float: left;\n",
       "  margin-right: 0.25em;\n",
       "  color: var(--sklearn-color-icon);\n",
       "}\n",
       "\n",
       "#sk-container-id-7 label.sk-toggleable__label-arrow:hover:before {\n",
       "  color: var(--sklearn-color-text);\n",
       "}\n",
       "\n",
       "/* Toggleable content - dropdown */\n",
       "\n",
       "#sk-container-id-7 div.sk-toggleable__content {\n",
       "  max-height: 0;\n",
       "  max-width: 0;\n",
       "  overflow: hidden;\n",
       "  text-align: left;\n",
       "  /* unfitted */\n",
       "  background-color: var(--sklearn-color-unfitted-level-0);\n",
       "}\n",
       "\n",
       "#sk-container-id-7 div.sk-toggleable__content.fitted {\n",
       "  /* fitted */\n",
       "  background-color: var(--sklearn-color-fitted-level-0);\n",
       "}\n",
       "\n",
       "#sk-container-id-7 div.sk-toggleable__content pre {\n",
       "  margin: 0.2em;\n",
       "  border-radius: 0.25em;\n",
       "  color: var(--sklearn-color-text);\n",
       "  /* unfitted */\n",
       "  background-color: var(--sklearn-color-unfitted-level-0);\n",
       "}\n",
       "\n",
       "#sk-container-id-7 div.sk-toggleable__content.fitted pre {\n",
       "  /* unfitted */\n",
       "  background-color: var(--sklearn-color-fitted-level-0);\n",
       "}\n",
       "\n",
       "#sk-container-id-7 input.sk-toggleable__control:checked~div.sk-toggleable__content {\n",
       "  /* Expand drop-down */\n",
       "  max-height: 200px;\n",
       "  max-width: 100%;\n",
       "  overflow: auto;\n",
       "}\n",
       "\n",
       "#sk-container-id-7 input.sk-toggleable__control:checked~label.sk-toggleable__label-arrow:before {\n",
       "  content: \"▾\";\n",
       "}\n",
       "\n",
       "/* Pipeline/ColumnTransformer-specific style */\n",
       "\n",
       "#sk-container-id-7 div.sk-label input.sk-toggleable__control:checked~label.sk-toggleable__label {\n",
       "  color: var(--sklearn-color-text);\n",
       "  background-color: var(--sklearn-color-unfitted-level-2);\n",
       "}\n",
       "\n",
       "#sk-container-id-7 div.sk-label.fitted input.sk-toggleable__control:checked~label.sk-toggleable__label {\n",
       "  background-color: var(--sklearn-color-fitted-level-2);\n",
       "}\n",
       "\n",
       "/* Estimator-specific style */\n",
       "\n",
       "/* Colorize estimator box */\n",
       "#sk-container-id-7 div.sk-estimator input.sk-toggleable__control:checked~label.sk-toggleable__label {\n",
       "  /* unfitted */\n",
       "  background-color: var(--sklearn-color-unfitted-level-2);\n",
       "}\n",
       "\n",
       "#sk-container-id-7 div.sk-estimator.fitted input.sk-toggleable__control:checked~label.sk-toggleable__label {\n",
       "  /* fitted */\n",
       "  background-color: var(--sklearn-color-fitted-level-2);\n",
       "}\n",
       "\n",
       "#sk-container-id-7 div.sk-label label.sk-toggleable__label,\n",
       "#sk-container-id-7 div.sk-label label {\n",
       "  /* The background is the default theme color */\n",
       "  color: var(--sklearn-color-text-on-default-background);\n",
       "}\n",
       "\n",
       "/* On hover, darken the color of the background */\n",
       "#sk-container-id-7 div.sk-label:hover label.sk-toggleable__label {\n",
       "  color: var(--sklearn-color-text);\n",
       "  background-color: var(--sklearn-color-unfitted-level-2);\n",
       "}\n",
       "\n",
       "/* Label box, darken color on hover, fitted */\n",
       "#sk-container-id-7 div.sk-label.fitted:hover label.sk-toggleable__label.fitted {\n",
       "  color: var(--sklearn-color-text);\n",
       "  background-color: var(--sklearn-color-fitted-level-2);\n",
       "}\n",
       "\n",
       "/* Estimator label */\n",
       "\n",
       "#sk-container-id-7 div.sk-label label {\n",
       "  font-family: monospace;\n",
       "  font-weight: bold;\n",
       "  display: inline-block;\n",
       "  line-height: 1.2em;\n",
       "}\n",
       "\n",
       "#sk-container-id-7 div.sk-label-container {\n",
       "  text-align: center;\n",
       "}\n",
       "\n",
       "/* Estimator-specific */\n",
       "#sk-container-id-7 div.sk-estimator {\n",
       "  font-family: monospace;\n",
       "  border: 1px dotted var(--sklearn-color-border-box);\n",
       "  border-radius: 0.25em;\n",
       "  box-sizing: border-box;\n",
       "  margin-bottom: 0.5em;\n",
       "  /* unfitted */\n",
       "  background-color: var(--sklearn-color-unfitted-level-0);\n",
       "}\n",
       "\n",
       "#sk-container-id-7 div.sk-estimator.fitted {\n",
       "  /* fitted */\n",
       "  background-color: var(--sklearn-color-fitted-level-0);\n",
       "}\n",
       "\n",
       "/* on hover */\n",
       "#sk-container-id-7 div.sk-estimator:hover {\n",
       "  /* unfitted */\n",
       "  background-color: var(--sklearn-color-unfitted-level-2);\n",
       "}\n",
       "\n",
       "#sk-container-id-7 div.sk-estimator.fitted:hover {\n",
       "  /* fitted */\n",
       "  background-color: var(--sklearn-color-fitted-level-2);\n",
       "}\n",
       "\n",
       "/* Specification for estimator info (e.g. \"i\" and \"?\") */\n",
       "\n",
       "/* Common style for \"i\" and \"?\" */\n",
       "\n",
       ".sk-estimator-doc-link,\n",
       "a:link.sk-estimator-doc-link,\n",
       "a:visited.sk-estimator-doc-link {\n",
       "  float: right;\n",
       "  font-size: smaller;\n",
       "  line-height: 1em;\n",
       "  font-family: monospace;\n",
       "  background-color: var(--sklearn-color-background);\n",
       "  border-radius: 1em;\n",
       "  height: 1em;\n",
       "  width: 1em;\n",
       "  text-decoration: none !important;\n",
       "  margin-left: 1ex;\n",
       "  /* unfitted */\n",
       "  border: var(--sklearn-color-unfitted-level-1) 1pt solid;\n",
       "  color: var(--sklearn-color-unfitted-level-1);\n",
       "}\n",
       "\n",
       ".sk-estimator-doc-link.fitted,\n",
       "a:link.sk-estimator-doc-link.fitted,\n",
       "a:visited.sk-estimator-doc-link.fitted {\n",
       "  /* fitted */\n",
       "  border: var(--sklearn-color-fitted-level-1) 1pt solid;\n",
       "  color: var(--sklearn-color-fitted-level-1);\n",
       "}\n",
       "\n",
       "/* On hover */\n",
       "div.sk-estimator:hover .sk-estimator-doc-link:hover,\n",
       ".sk-estimator-doc-link:hover,\n",
       "div.sk-label-container:hover .sk-estimator-doc-link:hover,\n",
       ".sk-estimator-doc-link:hover {\n",
       "  /* unfitted */\n",
       "  background-color: var(--sklearn-color-unfitted-level-3);\n",
       "  color: var(--sklearn-color-background);\n",
       "  text-decoration: none;\n",
       "}\n",
       "\n",
       "div.sk-estimator.fitted:hover .sk-estimator-doc-link.fitted:hover,\n",
       ".sk-estimator-doc-link.fitted:hover,\n",
       "div.sk-label-container:hover .sk-estimator-doc-link.fitted:hover,\n",
       ".sk-estimator-doc-link.fitted:hover {\n",
       "  /* fitted */\n",
       "  background-color: var(--sklearn-color-fitted-level-3);\n",
       "  color: var(--sklearn-color-background);\n",
       "  text-decoration: none;\n",
       "}\n",
       "\n",
       "/* Span, style for the box shown on hovering the info icon */\n",
       ".sk-estimator-doc-link span {\n",
       "  display: none;\n",
       "  z-index: 9999;\n",
       "  position: relative;\n",
       "  font-weight: normal;\n",
       "  right: .2ex;\n",
       "  padding: .5ex;\n",
       "  margin: .5ex;\n",
       "  width: min-content;\n",
       "  min-width: 20ex;\n",
       "  max-width: 50ex;\n",
       "  color: var(--sklearn-color-text);\n",
       "  box-shadow: 2pt 2pt 4pt #999;\n",
       "  /* unfitted */\n",
       "  background: var(--sklearn-color-unfitted-level-0);\n",
       "  border: .5pt solid var(--sklearn-color-unfitted-level-3);\n",
       "}\n",
       "\n",
       ".sk-estimator-doc-link.fitted span {\n",
       "  /* fitted */\n",
       "  background: var(--sklearn-color-fitted-level-0);\n",
       "  border: var(--sklearn-color-fitted-level-3);\n",
       "}\n",
       "\n",
       ".sk-estimator-doc-link:hover span {\n",
       "  display: block;\n",
       "}\n",
       "\n",
       "/* \"?\"-specific style due to the `<a>` HTML tag */\n",
       "\n",
       "#sk-container-id-7 a.estimator_doc_link {\n",
       "  float: right;\n",
       "  font-size: 1rem;\n",
       "  line-height: 1em;\n",
       "  font-family: monospace;\n",
       "  background-color: var(--sklearn-color-background);\n",
       "  border-radius: 1rem;\n",
       "  height: 1rem;\n",
       "  width: 1rem;\n",
       "  text-decoration: none;\n",
       "  /* unfitted */\n",
       "  color: var(--sklearn-color-unfitted-level-1);\n",
       "  border: var(--sklearn-color-unfitted-level-1) 1pt solid;\n",
       "}\n",
       "\n",
       "#sk-container-id-7 a.estimator_doc_link.fitted {\n",
       "  /* fitted */\n",
       "  border: var(--sklearn-color-fitted-level-1) 1pt solid;\n",
       "  color: var(--sklearn-color-fitted-level-1);\n",
       "}\n",
       "\n",
       "/* On hover */\n",
       "#sk-container-id-7 a.estimator_doc_link:hover {\n",
       "  /* unfitted */\n",
       "  background-color: var(--sklearn-color-unfitted-level-3);\n",
       "  color: var(--sklearn-color-background);\n",
       "  text-decoration: none;\n",
       "}\n",
       "\n",
       "#sk-container-id-7 a.estimator_doc_link.fitted:hover {\n",
       "  /* fitted */\n",
       "  background-color: var(--sklearn-color-fitted-level-3);\n",
       "}\n",
       "</style><div id=\"sk-container-id-7\" class=\"sk-top-container\"><div class=\"sk-text-repr-fallback\"><pre>LinearRegression()</pre><b>In a Jupyter environment, please rerun this cell to show the HTML representation or trust the notebook. <br />On GitHub, the HTML representation is unable to render, please try loading this page with nbviewer.org.</b></div><div class=\"sk-container\" hidden><div class=\"sk-item\"><div class=\"sk-estimator fitted sk-toggleable\"><input class=\"sk-toggleable__control sk-hidden--visually\" id=\"sk-estimator-id-7\" type=\"checkbox\" checked><label for=\"sk-estimator-id-7\" class=\"sk-toggleable__label fitted sk-toggleable__label-arrow fitted\">&nbsp;&nbsp;LinearRegression<a class=\"sk-estimator-doc-link fitted\" rel=\"noreferrer\" target=\"_blank\" href=\"https://scikit-learn.org/1.4/modules/generated/sklearn.linear_model.LinearRegression.html\">?<span>Documentation for LinearRegression</span></a><span class=\"sk-estimator-doc-link fitted\">i<span>Fitted</span></span></label><div class=\"sk-toggleable__content fitted\"><pre>LinearRegression()</pre></div> </div></div></div></div>"
      ],
      "text/plain": [
       "LinearRegression()"
      ]
     },
     "execution_count": 91,
     "metadata": {},
     "output_type": "execute_result"
    }
   ],
   "source": [
    "lr = LinearRegression()\n",
    "lr.fit(X_train_trans,y_train)\n"
   ]
  },
  {
   "cell_type": "code",
   "execution_count": 92,
   "id": "4f42814e-8549-4272-88af-8fa79e76b11f",
   "metadata": {},
   "outputs": [],
   "source": [
    "y_pred = lr.predict(X_test_trans)"
   ]
  },
  {
   "cell_type": "code",
   "execution_count": 93,
   "id": "5e234972-b58f-41da-97fe-0d2acd0ea838",
   "metadata": {},
   "outputs": [
    {
     "data": {
      "text/plain": [
       "0.8665837154426441"
      ]
     },
     "execution_count": 93,
     "metadata": {},
     "output_type": "execute_result"
    }
   ],
   "source": [
    "\n",
    "r2_score(y_test,y_pred)"
   ]
  },
  {
   "cell_type": "code",
   "execution_count": 94,
   "id": "66fd91a2-e00e-4426-921e-eab4cb738caf",
   "metadata": {},
   "outputs": [
    {
     "name": "stdout",
     "output_type": "stream",
     "text": [
      "[[0.         0.8119677  0.80808811]]\n",
      "[1.99790758]\n"
     ]
    }
   ],
   "source": [
    "print(lr.coef_)\n",
    "print(lr.intercept_)"
   ]
  },
  {
   "cell_type": "code",
   "execution_count": 95,
   "id": "9191ed01-1c41-4416-bd31-a17c984b8b14",
   "metadata": {},
   "outputs": [],
   "source": [
    "X_new=np.linspace(-3, 3, 200).reshape(200, 1)\n",
    "X_new_poly = poly.transform(X_new)\n",
    "y_new = lr.predict(X_new_poly)"
   ]
  },
  {
   "cell_type": "code",
   "execution_count": 96,
   "id": "cd8cac15-db73-49c6-b476-dc624ed6849b",
   "metadata": {},
   "outputs": [
    {
     "data": {
      "image/png": "[encoded data removed]",
      "text/plain": [
       "<Figure size 640x480 with 1 Axes>"
      ]
     },
     "metadata": {},
     "output_type": "display_data"
    }
   ],
   "source": [
    "plt.plot(X_new, y_new, \"r-\", linewidth=2, label=\"Predictions\")\n",
    "plt.plot(X_train, y_train, \"b.\",label='Training points')\n",
    "plt.plot(X_test, y_test, \"g.\",label='Testing points')\n",
    "plt.xlabel(\"X\")\n",
    "plt.ylabel(\"y\")\n",
    "plt.legend()\n",
    "plt.show()"
   ]
  },
  {
   "cell_type": "code",
   "execution_count": 97,
   "id": "66a67daf-7582-4438-adc0-a779e87baf4b",
   "metadata": {},
   "outputs": [],
   "source": [
    "def polynomial_regression(degree):\n",
    "    X_new=np.linspace(-3, 3, 100).reshape(100, 1)\n",
    "    X_new_poly = poly.transform(X_new)\n",
    "\n",
    "    polybig_features = PolynomialFeatures(degree=degree, include_bias=False)\n",
    "    std_scaler = StandardScaler()\n",
    "    lin_reg = LinearRegression()\n",
    "    polynomial_regression = Pipeline([\n",
    "            (\"poly_features\", polybig_features),\n",
    "            (\"std_scaler\", std_scaler),\n",
    "            (\"lin_reg\", lin_reg),\n",
    "        ])\n",
    "    polynomial_regression.fit(X, y)\n",
    "    y_newbig = polynomial_regression.predict(X_new)\n",
    "    plt.plot(X_new, y_newbig,'r', label=\"Degree \" + str(degree), linewidth=2)\n",
    "\n",
    "    plt.plot(X_train, y_train, \"b.\", linewidth=3)\n",
    "    plt.plot(X_test, y_test, \"g.\", linewidth=3)\n",
    "    plt.legend(loc=\"upper left\")\n",
    "    plt.xlabel(\"X\")\n",
    "    plt.ylabel(\"y\")\n",
    "    plt.axis([-3, 3, 0, 10])\n",
    "    plt.show()"
   ]
  },
  {
   "cell_type": "code",
   "execution_count": 98,
   "id": "4c4ab6bb-a2f7-4606-9645-8c8d50f85790",
   "metadata": {},
   "outputs": [
    {
     "data": {
      "image/png": "[encoded data removed]",
      "text/plain": [
       "<Figure size 640x480 with 1 Axes>"
      ]
     },
     "metadata": {},
     "output_type": "display_data"
    }
   ],
   "source": [
    "polynomial_regression(140)"
   ]
  },
  {
   "cell_type": "code",
   "execution_count": 99,
   "id": "868397b5-6ba3-4060-9d00-f8e28f36f3b4",
   "metadata": {},
   "outputs": [
    {
     "data": {
      "text/plain": [
       "array([[0],\n",
       "       [1],\n",
       "       [2]], dtype=int64)"
      ]
     },
     "execution_count": 99,
     "metadata": {},
     "output_type": "execute_result"
    }
   ],
   "source": [
    "\n",
    "poly.powers_"
   ]
  },
  {
   "cell_type": "code",
   "execution_count": 100,
   "id": "90241b10-b53e-4eff-b5df-b353c4eeb261",
   "metadata": {},
   "outputs": [
    {
     "name": "stderr",
     "output_type": "stream",
     "text": [
      "C:\\ProgramData\\anaconda3\\Lib\\site-packages\\sklearn\\utils\\validation.py:1300: DataConversionWarning:\n",
      "\n",
      "A column-vector y was passed when a 1d array was expected. Please change the shape of y to (n_samples, ), for example using ravel().\n",
      "\n"
     ]
    },
    {
     "data": {
      "image/png": "[encoded data removed]",
      "text/plain": [
       "<Figure size 640x480 with 1 Axes>"
      ]
     },
     "metadata": {},
     "output_type": "display_data"
    }
   ],
   "source": [
    "# Applying Gradient Descent\n",
    "\n",
    "poly = PolynomialFeatures(degree=2)\n",
    "\n",
    "X_train_trans = poly.fit_transform(X_train)\n",
    "X_test_trans = poly.transform(X_test)\n",
    "\n",
    "sgd = SGDRegressor(max_iter=100)\n",
    "sgd.fit(X_train_trans,y_train)\n",
    "\n",
    "X_new=np.linspace(-2.9, 2.8, 200).reshape(200, 1)\n",
    "X_new_poly = poly.transform(X_new)\n",
    "y_new = sgd.predict(X_new_poly)\n",
    "\n",
    "y_pred = sgd.predict(X_test_trans)\n",
    "\n",
    "plt.plot(X_new, y_new, \"r-\", linewidth=2, label=\"Predictions \" + str(round(r2_score(y_test,y_pred),2)))\n",
    "plt.plot(X_train, y_train, \"b.\",label='Training points')\n",
    "plt.plot(X_test, y_test, \"g.\",label='Testing points')\n",
    "plt.xlabel(\"X\")\n",
    "plt.ylabel(\"y\")\n",
    "plt.legend()\n",
    "plt.show()"
   ]
  },
  {
   "cell_type": "code",
   "execution_count": 101,
   "id": "c67f41c2-0070-4020-97c7-f767026214af",
   "metadata": {},
   "outputs": [],
   "source": [
    "# 3D polynomial regression\n",
    "x = 7 * np.random.rand(100, 1) - 2.8\n",
    "y = 7 * np.random.rand(100, 1) - 2.8\n",
    "\n",
    "z = x**2 + y**2 + 0.2*x + 0.2*y + 0.1*x*y +2 + np.random.randn(100, 1)\n",
    "# z = x^2 + y^2 + 0.2x + 0.2y + 0.1xy + 2"
   ]
  },
  {
   "cell_type": "code",
   "execution_count": 102,
   "id": "cda3b7f7-11bb-4e66-9173-45b86f22daf2",
   "metadata": {},
   "outputs": [
    {
     "data": {
      "application/vnd.plotly.v1+json": {
       "config": {
        "plotlyServerURL": "https://plot.ly"
       },
       "data": [
        {
         "hovertemplate": "x=%{x}<br>y=%{y}<br>z=%{z}<extra></extra>",
         "legendgroup": "",
         "marker": {
          "color": "#636efa",
          "symbol": "circle"
         },
         "mode": "markers",
         "name": "",
         "scene": "scene",
         "showlegend": false,
         "type": "scatter3d",
         "x": [
          -2.3287895942665218,
          2.9237027660885744,
          -0.4843716630487136,
          1.6446933480656538,
          -0.5060186246203027,
          -2.337180306447115,
          -0.6665054828780095,
          -0.6374760208528905,
          0.7997765865832314,
          -2.455772576650216,
          1.3203935142951426,
          3.9349973063552293,
          2.349363402513397,
          3.2259662341307243,
          -0.44995561144219964,
          1.6816839765554787,
          0.0024306753096832168,
          3.204704329702464,
          -2.3304930236380654,
          3.578071280085344,
          1.6128349780784275,
          1.1142398656665753,
          -1.326593510559849,
          -2.1795578477468545,
          -1.7976295284311248,
          3.221079584422979,
          -0.527052323181664,
          -1.8929274804090344,
          -2.4799627670902136,
          0.003968386375384547,
          0.5502758219661921,
          -0.3448826562182945,
          0.4637247673924354,
          2.3986322748808417,
          -2.7703227858557913,
          3.5927245888237893,
          2.0414288658007784,
          4.055416992410424,
          1.5518848770281979,
          0.43429479842303076,
          3.172275064237988,
          1.4698793842025069,
          3.4571076081791228,
          0.7065951949690676,
          -0.07684579605067832,
          -1.330790292180628,
          -2.6898126354898313,
          -0.7412227270137253,
          -0.6192441819980039,
          -2.583905039809662,
          3.9769936530341283,
          2.0248155330714734,
          0.7919639867673793,
          3.462125210578101,
          3.646803562968879,
          3.5989142265647853,
          4.021227564244135,
          1.1125863812745793,
          1.2380801439807874,
          3.4999189428792468,
          0.2838697849702658,
          -1.8395038747294228,
          -0.5384483163144331,
          -1.7814251711109277,
          3.3983908829727607,
          3.005922933412278,
          3.7879653935156288,
          -0.6611525650200081,
          0.09489591551765253,
          2.6475720829119807,
          -0.28405178801690445,
          -0.841955188527868,
          3.8798395920226945,
          4.005513429139341,
          3.1431412385345103,
          3.011033824258817,
          -2.105839180878055,
          3.9887196486503855,
          3.9554453657558613,
          -0.11087644846618216,
          -0.32794720239542974,
          1.7325421142443833,
          -1.5808715862927003,
          -0.41894725731734717,
          0.9403668555089317,
          -1.56047422942463,
          0.30178810227706965,
          -1.3681095565869612,
          4.048556384998699,
          0.6089008555544808,
          3.14581279129244,
          0.6380621693325792,
          3.865075797404968,
          0.5373466488909346,
          -1.514727487078477,
          1.2267819241635953,
          4.186684308344927,
          2.6024672674112272,
          -1.055559189946237,
          -1.152377725111878
         ],
         "y": [
          -1.2935832159182452,
          1.6069915736055034,
          2.854865154118163,
          -1.0347661287357675,
          1.3100411015279407,
          -2.104741581465844,
          3.391922800642666,
          3.387139296037131,
          -1.2353269022782927,
          0.6598795643204172,
          2.1573522010596458,
          2.4787785039215464,
          -1.6888397319643094,
          -0.7118986094165454,
          -0.8759401644154194,
          0.10480831547451386,
          -0.25424331074457474,
          -0.6725671452834181,
          -1.2881837681976656,
          -1.4328310540998168,
          -2.6665603113097465,
          -0.7200338249773166,
          0.47071813365211845,
          2.8249521833092057,
          -2.6101200739298127,
          -2.448620515114495,
          2.321686090119628,
          -1.9561315863514543,
          -2.6912400463367074,
          2.6047955712048445,
          1.3288471128109887,
          0.5363350423148683,
          -2.1865872016510104,
          2.417097382571896,
          1.243762840263627,
          3.941317452857648,
          1.7573808371020743,
          2.1307398687267822,
          2.004544437904192,
          1.260405020333585,
          1.475681383105968,
          1.9276320232753372,
          3.5977099648088116,
          0.4226321155380197,
          -1.6553380006803105,
          -0.8856193910749948,
          0.8019556916810049,
          0.670074074690445,
          4.068773130977671,
          -0.48436772007151285,
          1.998294226146868,
          -1.8548412928487183,
          -0.7616113855667663,
          1.3481214441359084,
          -2.5723003156294997,
          2.32389258102672,
          -0.2419233918102175,
          1.1720452042998568,
          -2.7137063520412625,
          0.6481199818514933,
          2.6441101243615037,
          -2.6608843819470174,
          -1.2276543313567099,
          0.3741174366508657,
          1.7707522175606787,
          1.222211271212137,
          -0.42224245400006977,
          0.8513443694778338,
          -0.3122043044301299,
          1.6329638911182256,
          -2.4480770519672417,
          3.706675884199613,
          3.5386069639764965,
          -0.12315032284547822,
          3.8388437164809552,
          3.01404827472237,
          2.9515502862729424,
          -0.765196861487806,
          2.573565726301873,
          0.3836830885753466,
          0.8901175997270085,
          -1.360144463499031,
          -0.24452081903328793,
          0.9194538938732961,
          3.5097170768862407,
          -2.4089665603898824,
          2.9757770747347214,
          -1.307803692052791,
          2.1256959107823503,
          3.252774980232445,
          -2.4868633397747493,
          2.0430603104834972,
          1.7970803045745605,
          -2.742171277622965,
          3.7384127097911053,
          -0.3683461856183752,
          -0.0635546080381637,
          3.2665026644896544,
          2.2100278731937584,
          2.7355533023545524
         ],
         "z": [
          10.276521274914357,
          15.728501147792374,
          9.935834231141175,
          5.691020258778583,
          3.648042421299992,
          11.725901937535992,
          13.649028083779907,
          13.41675337513101,
          6.444209038848017,
          7.473287419137012,
          9.049909156089251,
          24.975923065908027,
          10.58273913266291,
          11.227469094854692,
          0.995882800809613,
          5.103045696587784,
          3.3893027166568848,
          12.250018225046185,
          9.307173758141797,
          15.516176906700448,
          12.484138253105519,
          3.7884634560567667,
          4.027993979810239,
          14.798872233441982,
          13.04983051762533,
          17.678330555747674,
          6.602968895217052,
          6.061338754400911,
          16.417479942892534,
          11.804823453721921,
          4.201448167121782,
          3.1362810708781357,
          5.3476888905348705,
          15.805277523403367,
          9.483571047740107,
          33.19749808799098,
          10.807148986674964,
          27.39340637723451,
          10.870602313679207,
          4.683184557480144,
          16.434574193729407,
          7.780468450053748,
          29.808124804279405,
          1.7504736650977222,
          5.650797130501868,
          5.053934497654518,
          8.092759033901237,
          2.2671283376757025,
          18.911056392538956,
          6.819155089515788,
          24.15173443196507,
          9.289332037613342,
          3.1722708841565868,
          16.722145794000465,
          19.85429845171912,
          21.91540599041044,
          19.659915708079534,
          5.595926996377047,
          10.445716191021337,
          16.583487675184582,
          11.370491671665567,
          10.954561267285893,
          3.6497969579360823,
          3.7020120639544913,
          18.56870945387833,
          14.452078603434755,
          18.436538924086236,
          1.8379306430692777,
          2.0903280742497605,
          14.078331275731218,
          6.519280790786039,
          15.893303077084079,
          30.43163835839213,
          18.978611407850856,
          28.762390490397152,
          22.256042423327624,
          15.658466681050983,
          19.11617280519129,
          27.353316531621616,
          1.2860508233603978,
          4.309179726957289,
          5.587192927194368,
          3.5171761114291966,
          3.2191528623686922,
          16.560095570231994,
          9.42952055723006,
          11.679192577041492,
          4.162466230239527,
          24.32068523016609,
          14.769695628777297,
          16.924970245572926,
          8.688606119948227,
          22.204630652913995,
          9.357480371570558,
          17.16234103825604,
          3.222689698509726,
          20.10599068681129,
          21.489128111448775,
          6.610406758251303,
          10.197821192716804
         ]
        }
       ],
       "layout": {
        "autosize": true,
        "legend": {
         "tracegroupgap": 0
        },
        "margin": {
         "t": 60
        },
        "scene": {
         "aspectmode": "auto",
         "aspectratio": {
          "x": 1,
          "y": 1,
          "z": 1
         },
         "domain": {
          "x": [
           0,
           1
          ],
          "y": [
           0,
           1
          ]
         },
         "xaxis": {
          "title": {
           "text": "x"
          },
          "type": "linear"
         },
         "yaxis": {
          "title": {
           "text": "y"
          },
          "type": "linear"
         },
         "zaxis": {
          "title": {
           "text": "z"
          },
          "type": "linear"
         }
        },
        "template": {
         "data": {
          "bar": [
           {
            "error_x": {
             "color": "#2a3f5f"
            },
            "error_y": {
             "color": "#2a3f5f"
            },
            "marker": {
             "line": {
              "color": "#E5ECF6",
              "width": 0.5
             },
             "pattern": {
              "fillmode": "overlay",
              "size": 10,
              "solidity": 0.2
             }
            },
            "type": "bar"
           }
          ],
          "barpolar": [
           {
            "marker": {
             "line": {
              "color": "#E5ECF6",
              "width": 0.5
             },
             "pattern": {
              "fillmode": "overlay",
              "size": 10,
              "solidity": 0.2
             }
            },
            "type": "barpolar"
           }
          ],
          "carpet": [
           {
            "aaxis": {
             "endlinecolor": "#2a3f5f",
             "gridcolor": "white",
             "linecolor": "white",
             "minorgridcolor": "white",
             "startlinecolor": "#2a3f5f"
            },
            "baxis": {
             "endlinecolor": "#2a3f5f",
             "gridcolor": "white",
             "linecolor": "white",
             "minorgridcolor": "white",
             "startlinecolor": "#2a3f5f"
            },
            "type": "carpet"
           }
          ],
          "choropleth": [
           {
            "colorbar": {
             "outlinewidth": 0,
             "ticks": ""
            },
            "type": "choropleth"
           }
          ],
          "contour": [
           {
            "colorbar": {
             "outlinewidth": 0,
             "ticks": ""
            },
            "colorscale": [
             [
              0,
              "#0d0887"
             ],
             [
              0.1111111111111111,
              "#46039f"
             ],
             [
              0.2222222222222222,
              "#7201a8"
             ],
             [
              0.3333333333333333,
              "#9c179e"
             ],
             [
              0.4444444444444444,
              "#bd3786"
             ],
             [
              0.5555555555555556,
              "#d8576b"
             ],
             [
              0.6666666666666666,
              "#ed7953"
             ],
             [
              0.7777777777777778,
              "#fb9f3a"
             ],
             [
              0.8888888888888888,
              "#fdca26"
             ],
             [
              1,
              "#f0f921"
             ]
            ],
            "type": "contour"
           }
          ],
          "contourcarpet": [
           {
            "colorbar": {
             "outlinewidth": 0,
             "ticks": ""
            },
            "type": "contourcarpet"
           }
          ],
          "heatmap": [
           {
            "colorbar": {
             "outlinewidth": 0,
             "ticks": ""
            },
            "colorscale": [
             [
              0,
              "#0d0887"
             ],
             [
              0.1111111111111111,
              "#46039f"
             ],
             [
              0.2222222222222222,
              "#7201a8"
             ],
             [
              0.3333333333333333,
              "#9c179e"
             ],
             [
              0.4444444444444444,
              "#bd3786"
             ],
             [
              0.5555555555555556,
              "#d8576b"
             ],
             [
              0.6666666666666666,
              "#ed7953"
             ],
             [
              0.7777777777777778,
              "#fb9f3a"
             ],
             [
              0.8888888888888888,
              "#fdca26"
             ],
             [
              1,
              "#f0f921"
             ]
            ],
            "type": "heatmap"
           }
          ],
          "heatmapgl": [
           {
            "colorbar": {
             "outlinewidth": 0,
             "ticks": ""
            },
            "colorscale": [
             [
              0,
              "#0d0887"
             ],
             [
              0.1111111111111111,
              "#46039f"
             ],
             [
              0.2222222222222222,
              "#7201a8"
             ],
             [
              0.3333333333333333,
              "#9c179e"
             ],
             [
              0.4444444444444444,
              "#bd3786"
             ],
             [
              0.5555555555555556,
              "#d8576b"
             ],
             [
              0.6666666666666666,
              "#ed7953"
             ],
             [
              0.7777777777777778,
              "#fb9f3a"
             ],
             [
              0.8888888888888888,
              "#fdca26"
             ],
             [
              1,
              "#f0f921"
             ]
            ],
            "type": "heatmapgl"
           }
          ],
          "histogram": [
           {
            "marker": {
             "pattern": {
              "fillmode": "overlay",
              "size": 10,
              "solidity": 0.2
             }
            },
            "type": "histogram"
           }
          ],
          "histogram2d": [
           {
            "colorbar": {
             "outlinewidth": 0,
             "ticks": ""
            },
            "colorscale": [
             [
              0,
              "#0d0887"
             ],
             [
              0.1111111111111111,
              "#46039f"
             ],
             [
              0.2222222222222222,
              "#7201a8"
             ],
             [
              0.3333333333333333,
              "#9c179e"
             ],
             [
              0.4444444444444444,
              "#bd3786"
             ],
             [
              0.5555555555555556,
              "#d8576b"
             ],
             [
              0.6666666666666666,
              "#ed7953"
             ],
             [
              0.7777777777777778,
              "#fb9f3a"
             ],
             [
              0.8888888888888888,
              "#fdca26"
             ],
             [
              1,
              "#f0f921"
             ]
            ],
            "type": "histogram2d"
           }
          ],
          "histogram2dcontour": [
           {
            "colorbar": {
             "outlinewidth": 0,
             "ticks": ""
            },
            "colorscale": [
             [
              0,
              "#0d0887"
             ],
             [
              0.1111111111111111,
              "#46039f"
             ],
             [
              0.2222222222222222,
              "#7201a8"
             ],
             [
              0.3333333333333333,
              "#9c179e"
             ],
             [
              0.4444444444444444,
              "#bd3786"
             ],
             [
              0.5555555555555556,
              "#d8576b"
             ],
             [
              0.6666666666666666,
              "#ed7953"
             ],
             [
              0.7777777777777778,
              "#fb9f3a"
             ],
             [
              0.8888888888888888,
              "#fdca26"
             ],
             [
              1,
              "#f0f921"
             ]
            ],
            "type": "histogram2dcontour"
           }
          ],
          "mesh3d": [
           {
            "colorbar": {
             "outlinewidth": 0,
             "ticks": ""
            },
            "type": "mesh3d"
           }
          ],
          "parcoords": [
           {
            "line": {
             "colorbar": {
              "outlinewidth": 0,
              "ticks": ""
             }
            },
            "type": "parcoords"
           }
          ],
          "pie": [
           {
            "automargin": true,
            "type": "pie"
           }
          ],
          "scatter": [
           {
            "fillpattern": {
             "fillmode": "overlay",
             "size": 10,
             "solidity": 0.2
            },
            "type": "scatter"
           }
          ],
          "scatter3d": [
           {
            "line": {
             "colorbar": {
              "outlinewidth": 0,
              "ticks": ""
             }
            },
            "marker": {
             "colorbar": {
              "outlinewidth": 0,
              "ticks": ""
             }
            },
            "type": "scatter3d"
           }
          ],
          "scattercarpet": [
           {
            "marker": {
             "colorbar": {
              "outlinewidth": 0,
              "ticks": ""
             }
            },
            "type": "scattercarpet"
           }
          ],
          "scattergeo": [
           {
            "marker": {
             "colorbar": {
              "outlinewidth": 0,
              "ticks": ""
             }
            },
            "type": "scattergeo"
           }
          ],
          "scattergl": [
           {
            "marker": {
             "colorbar": {
              "outlinewidth": 0,
              "ticks": ""
             }
            },
            "type": "scattergl"
           }
          ],
          "scattermapbox": [
           {
            "marker": {
             "colorbar": {
              "outlinewidth": 0,
              "ticks": ""
             }
            },
            "type": "scattermapbox"
           }
          ],
          "scatterpolar": [
           {
            "marker": {
             "colorbar": {
              "outlinewidth": 0,
              "ticks": ""
             }
            },
            "type": "scatterpolar"
           }
          ],
          "scatterpolargl": [
           {
            "marker": {
             "colorbar": {
              "outlinewidth": 0,
              "ticks": ""
             }
            },
            "type": "scatterpolargl"
           }
          ],
          "scatterternary": [
           {
            "marker": {
             "colorbar": {
              "outlinewidth": 0,
              "ticks": ""
             }
            },
            "type": "scatterternary"
           }
          ],
          "surface": [
           {
            "colorbar": {
             "outlinewidth": 0,
             "ticks": ""
            },
            "colorscale": [
             [
              0,
              "#0d0887"
             ],
             [
              0.1111111111111111,
              "#46039f"
             ],
             [
              0.2222222222222222,
              "#7201a8"
             ],
             [
              0.3333333333333333,
              "#9c179e"
             ],
             [
              0.4444444444444444,
              "#bd3786"
             ],
             [
              0.5555555555555556,
              "#d8576b"
             ],
             [
              0.6666666666666666,
              "#ed7953"
             ],
             [
              0.7777777777777778,
              "#fb9f3a"
             ],
             [
              0.8888888888888888,
              "#fdca26"
             ],
             [
              1,
              "#f0f921"
             ]
            ],
            "type": "surface"
           }
          ],
          "table": [
           {
            "cells": {
             "fill": {
              "color": "#EBF0F8"
             },
             "line": {
              "color": "white"
             }
            },
            "header": {
             "fill": {
              "color": "#C8D4E3"
             },
             "line": {
              "color": "white"
             }
            },
            "type": "table"
           }
          ]
         },
         "layout": {
          "annotationdefaults": {
           "arrowcolor": "#2a3f5f",
           "arrowhead": 0,
           "arrowwidth": 1
          },
          "autotypenumbers": "strict",
          "coloraxis": {
           "colorbar": {
            "outlinewidth": 0,
            "ticks": ""
           }
          },
          "colorscale": {
           "diverging": [
            [
             0,
             "#8e0152"
            ],
            [
             0.1,
             "#c51b7d"
            ],
            [
             0.2,
             "#de77ae"
            ],
            [
             0.3,
             "#f1b6da"
            ],
            [
             0.4,
             "#fde0ef"
            ],
            [
             0.5,
             "#f7f7f7"
            ],
            [
             0.6,
             "#e6f5d0"
            ],
            [
             0.7,
             "#b8e186"
            ],
            [
             0.8,
             "#7fbc41"
            ],
            [
             0.9,
             "#4d9221"
            ],
            [
             1,
             "#276419"
            ]
           ],
           "sequential": [
            [
             0,
             "#0d0887"
            ],
            [
             0.1111111111111111,
             "#46039f"
            ],
            [
             0.2222222222222222,
             "#7201a8"
            ],
            [
             0.3333333333333333,
             "#9c179e"
            ],
            [
             0.4444444444444444,
             "#bd3786"
            ],
            [
             0.5555555555555556,
             "#d8576b"
            ],
            [
             0.6666666666666666,
             "#ed7953"
            ],
            [
             0.7777777777777778,
             "#fb9f3a"
            ],
            [
             0.8888888888888888,
             "#fdca26"
            ],
            [
             1,
             "#f0f921"
            ]
           ],
           "sequentialminus": [
            [
             0,
             "#0d0887"
            ],
            [
             0.1111111111111111,
             "#46039f"
            ],
            [
             0.2222222222222222,
             "#7201a8"
            ],
            [
             0.3333333333333333,
             "#9c179e"
            ],
            [
             0.4444444444444444,
             "#bd3786"
            ],
            [
             0.5555555555555556,
             "#d8576b"
            ],
            [
             0.6666666666666666,
             "#ed7953"
            ],
            [
             0.7777777777777778,
             "#fb9f3a"
            ],
            [
             0.8888888888888888,
             "#fdca26"
            ],
            [
             1,
             "#f0f921"
            ]
           ]
          },
          "colorway": [
           "#636efa",
           "#EF553B",
           "#00cc96",
           "#ab63fa",
           "#FFA15A",
           "#19d3f3",
           "#FF6692",
           "#B6E880",
           "#FF97FF",
           "#FECB52"
          ],
          "font": {
           "color": "#2a3f5f"
          },
          "geo": {
           "bgcolor": "white",
           "lakecolor": "white",
           "landcolor": "#E5ECF6",
           "showlakes": true,
           "showland": true,
           "subunitcolor": "white"
          },
          "hoverlabel": {
           "align": "left"
          },
          "hovermode": "closest",
          "mapbox": {
           "style": "light"
          },
          "paper_bgcolor": "white",
          "plot_bgcolor": "#E5ECF6",
          "polar": {
           "angularaxis": {
            "gridcolor": "white",
            "linecolor": "white",
            "ticks": ""
           },
           "bgcolor": "#E5ECF6",
           "radialaxis": {
            "gridcolor": "white",
            "linecolor": "white",
            "ticks": ""
           }
          },
          "scene": {
           "xaxis": {
            "backgroundcolor": "#E5ECF6",
            "gridcolor": "white",
            "gridwidth": 2,
            "linecolor": "white",
            "showbackground": true,
            "ticks": "",
            "zerolinecolor": "white"
           },
           "yaxis": {
            "backgroundcolor": "#E5ECF6",
            "gridcolor": "white",
            "gridwidth": 2,
            "linecolor": "white",
            "showbackground": true,
            "ticks": "",
            "zerolinecolor": "white"
           },
           "zaxis": {
            "backgroundcolor": "#E5ECF6",
            "gridcolor": "white",
            "gridwidth": 2,
            "linecolor": "white",
            "showbackground": true,
            "ticks": "",
            "zerolinecolor": "white"
           }
          },
          "shapedefaults": {
           "line": {
            "color": "#2a3f5f"
           }
          },
          "ternary": {
           "aaxis": {
            "gridcolor": "white",
            "linecolor": "white",
            "ticks": ""
           },
           "baxis": {
            "gridcolor": "white",
            "linecolor": "white",
            "ticks": ""
           },
           "bgcolor": "#E5ECF6",
           "caxis": {
            "gridcolor": "white",
            "linecolor": "white",
            "ticks": ""
           }
          },
          "title": {
           "x": 0.05
          },
          "xaxis": {
           "automargin": true,
           "gridcolor": "white",
           "linecolor": "white",
           "ticks": "",
           "title": {
            "standoff": 15
           },
           "zerolinecolor": "white",
           "zerolinewidth": 2
          },
          "yaxis": {
           "automargin": true,
           "gridcolor": "white",
           "linecolor": "white",
           "ticks": "",
           "title": {
            "standoff": 15
           },
           "zerolinecolor": "white",
           "zerolinewidth": 2
          }
         }
        }
       }
      },
      "image/png": "[encoded data removed]",
      "text/html": [
       "<div>                            <div id=\"b7b56b0e-9c44-4a6a-877b-4dcf13e4e197\" class=\"plotly-graph-div\" style=\"height:525px; width:100%;\"></div>            <script type=\"text/javascript\">                require([\"plotly\"], function(Plotly) {                    window.PLOTLYENV=window.PLOTLYENV || {};                                    if (document.getElementById(\"b7b56b0e-9c44-4a6a-877b-4dcf13e4e197\")) {                    Plotly.newPlot(                        \"b7b56b0e-9c44-4a6a-877b-4dcf13e4e197\",                        [{\"hovertemplate\":\"x=%{x}\\u003cbr\\u003ey=%{y}\\u003cbr\\u003ez=%{z}\\u003cextra\\u003e\\u003c\\u002fextra\\u003e\",\"legendgroup\":\"\",\"marker\":{\"color\":\"#636efa\",\"symbol\":\"circle\"},\"mode\":\"markers\",\"name\":\"\",\"scene\":\"scene\",\"showlegend\":false,\"x\":[-2.3287895942665218,2.9237027660885744,-0.4843716630487136,1.6446933480656538,-0.5060186246203027,-2.337180306447115,-0.6665054828780095,-0.6374760208528905,0.7997765865832314,-2.455772576650216,1.3203935142951426,3.9349973063552293,2.349363402513397,3.2259662341307243,-0.44995561144219964,1.6816839765554787,0.0024306753096832168,3.204704329702464,-2.3304930236380654,3.578071280085344,1.6128349780784275,1.1142398656665753,-1.326593510559849,-2.1795578477468545,-1.7976295284311248,3.221079584422979,-0.527052323181664,-1.8929274804090344,-2.4799627670902136,0.003968386375384547,0.5502758219661921,-0.3448826562182945,0.4637247673924354,2.3986322748808417,-2.7703227858557913,3.5927245888237893,2.0414288658007784,4.055416992410424,1.5518848770281979,0.43429479842303076,3.172275064237988,1.4698793842025069,3.4571076081791228,0.7065951949690676,-0.07684579605067832,-1.330790292180628,-2.6898126354898313,-0.7412227270137253,-0.6192441819980039,-2.583905039809662,3.9769936530341283,2.0248155330714734,0.7919639867673793,3.462125210578101,3.646803562968879,3.5989142265647853,4.021227564244135,1.1125863812745793,1.2380801439807874,3.4999189428792468,0.2838697849702658,-1.8395038747294228,-0.5384483163144331,-1.7814251711109277,3.3983908829727607,3.005922933412278,3.7879653935156288,-0.6611525650200081,0.09489591551765253,2.6475720829119807,-0.28405178801690445,-0.841955188527868,3.8798395920226945,4.005513429139341,3.1431412385345103,3.011033824258817,-2.105839180878055,3.9887196486503855,3.9554453657558613,-0.11087644846618216,-0.32794720239542974,1.7325421142443833,-1.5808715862927003,-0.41894725731734717,0.9403668555089317,-1.56047422942463,0.30178810227706965,-1.3681095565869612,4.048556384998699,0.6089008555544808,3.14581279129244,0.6380621693325792,3.865075797404968,0.5373466488909346,-1.514727487078477,1.2267819241635953,4.186684308344927,2.6024672674112272,-1.055559189946237,-1.152377725111878],\"y\":[-1.2935832159182452,1.6069915736055034,2.854865154118163,-1.0347661287357675,1.3100411015279407,-2.104741581465844,3.391922800642666,3.387139296037131,-1.2353269022782927,0.6598795643204172,2.1573522010596458,2.4787785039215464,-1.6888397319643094,-0.7118986094165454,-0.8759401644154194,0.10480831547451386,-0.25424331074457474,-0.6725671452834181,-1.2881837681976656,-1.4328310540998168,-2.6665603113097465,-0.7200338249773166,0.47071813365211845,2.8249521833092057,-2.6101200739298127,-2.448620515114495,2.321686090119628,-1.9561315863514543,-2.6912400463367074,2.6047955712048445,1.3288471128109887,0.5363350423148683,-2.1865872016510104,2.417097382571896,1.243762840263627,3.941317452857648,1.7573808371020743,2.1307398687267822,2.004544437904192,1.260405020333585,1.475681383105968,1.9276320232753372,3.5977099648088116,0.4226321155380197,-1.6553380006803105,-0.8856193910749948,0.8019556916810049,0.670074074690445,4.068773130977671,-0.48436772007151285,1.998294226146868,-1.8548412928487183,-0.7616113855667663,1.3481214441359084,-2.5723003156294997,2.32389258102672,-0.2419233918102175,1.1720452042998568,-2.7137063520412625,0.6481199818514933,2.6441101243615037,-2.6608843819470174,-1.2276543313567099,0.3741174366508657,1.7707522175606787,1.222211271212137,-0.42224245400006977,0.8513443694778338,-0.3122043044301299,1.6329638911182256,-2.4480770519672417,3.706675884199613,3.5386069639764965,-0.12315032284547822,3.8388437164809552,3.01404827472237,2.9515502862729424,-0.765196861487806,2.573565726301873,0.3836830885753466,0.8901175997270085,-1.360144463499031,-0.24452081903328793,0.9194538938732961,3.5097170768862407,-2.4089665603898824,2.9757770747347214,-1.307803692052791,2.1256959107823503,3.252774980232445,-2.4868633397747493,2.0430603104834972,1.7970803045745605,-2.742171277622965,3.7384127097911053,-0.3683461856183752,-0.0635546080381637,3.2665026644896544,2.2100278731937584,2.7355533023545524],\"z\":[10.276521274914357,15.728501147792374,9.935834231141175,5.691020258778583,3.648042421299992,11.725901937535992,13.649028083779907,13.41675337513101,6.444209038848017,7.473287419137012,9.049909156089251,24.975923065908027,10.58273913266291,11.227469094854692,0.995882800809613,5.103045696587784,3.3893027166568848,12.250018225046185,9.307173758141797,15.516176906700448,12.484138253105519,3.7884634560567667,4.027993979810239,14.798872233441982,13.04983051762533,17.678330555747674,6.602968895217052,6.061338754400911,16.417479942892534,11.804823453721921,4.201448167121782,3.1362810708781357,5.3476888905348705,15.805277523403367,9.483571047740107,33.19749808799098,10.807148986674964,27.39340637723451,10.870602313679207,4.683184557480144,16.434574193729407,7.780468450053748,29.808124804279405,1.7504736650977222,5.650797130501868,5.053934497654518,8.092759033901237,2.2671283376757025,18.911056392538956,6.819155089515788,24.15173443196507,9.289332037613342,3.1722708841565868,16.722145794000465,19.85429845171912,21.91540599041044,19.659915708079534,5.595926996377047,10.445716191021337,16.583487675184582,11.370491671665567,10.954561267285893,3.6497969579360823,3.7020120639544913,18.56870945387833,14.452078603434755,18.436538924086236,1.8379306430692777,2.0903280742497605,14.078331275731218,6.519280790786039,15.893303077084079,30.43163835839213,18.978611407850856,28.762390490397152,22.256042423327624,15.658466681050983,19.11617280519129,27.353316531621616,1.2860508233603978,4.309179726957289,5.587192927194368,3.5171761114291966,3.2191528623686922,16.560095570231994,9.42952055723006,11.679192577041492,4.162466230239527,24.32068523016609,14.769695628777297,16.924970245572926,8.688606119948227,22.204630652913995,9.357480371570558,17.16234103825604,3.222689698509726,20.10599068681129,21.489128111448775,6.610406758251303,10.197821192716804],\"type\":\"scatter3d\"}],                        {\"template\":{\"data\":{\"histogram2dcontour\":[{\"type\":\"histogram2dcontour\",\"colorbar\":{\"outlinewidth\":0,\"ticks\":\"\"},\"colorscale\":[[0.0,\"#0d0887\"],[0.1111111111111111,\"#46039f\"],[0.2222222222222222,\"#7201a8\"],[0.3333333333333333,\"#9c179e\"],[0.4444444444444444,\"#bd3786\"],[0.5555555555555556,\"#d8576b\"],[0.6666666666666666,\"#ed7953\"],[0.7777777777777778,\"#fb9f3a\"],[0.8888888888888888,\"#fdca26\"],[1.0,\"#f0f921\"]]}],\"choropleth\":[{\"type\":\"choropleth\",\"colorbar\":{\"outlinewidth\":0,\"ticks\":\"\"}}],\"histogram2d\":[{\"type\":\"histogram2d\",\"colorbar\":{\"outlinewidth\":0,\"ticks\":\"\"},\"colorscale\":[[0.0,\"#0d0887\"],[0.1111111111111111,\"#46039f\"],[0.2222222222222222,\"#7201a8\"],[0.3333333333333333,\"#9c179e\"],[0.4444444444444444,\"#bd3786\"],[0.5555555555555556,\"#d8576b\"],[0.6666666666666666,\"#ed7953\"],[0.7777777777777778,\"#fb9f3a\"],[0.8888888888888888,\"#fdca26\"],[1.0,\"#f0f921\"]]}],\"heatmap\":[{\"type\":\"heatmap\",\"colorbar\":{\"outlinewidth\":0,\"ticks\":\"\"},\"colorscale\":[[0.0,\"#0d0887\"],[0.1111111111111111,\"#46039f\"],[0.2222222222222222,\"#7201a8\"],[0.3333333333333333,\"#9c179e\"],[0.4444444444444444,\"#bd3786\"],[0.5555555555555556,\"#d8576b\"],[0.6666666666666666,\"#ed7953\"],[0.7777777777777778,\"#fb9f3a\"],[0.8888888888888888,\"#fdca26\"],[1.0,\"#f0f921\"]]}],\"heatmapgl\":[{\"type\":\"heatmapgl\",\"colorbar\":{\"outlinewidth\":0,\"ticks\":\"\"},\"colorscale\":[[0.0,\"#0d0887\"],[0.1111111111111111,\"#46039f\"],[0.2222222222222222,\"#7201a8\"],[0.3333333333333333,\"#9c179e\"],[0.4444444444444444,\"#bd3786\"],[0.5555555555555556,\"#d8576b\"],[0.6666666666666666,\"#ed7953\"],[0.7777777777777778,\"#fb9f3a\"],[0.8888888888888888,\"#fdca26\"],[1.0,\"#f0f921\"]]}],\"contourcarpet\":[{\"type\":\"contourcarpet\",\"colorbar\":{\"outlinewidth\":0,\"ticks\":\"\"}}],\"contour\":[{\"type\":\"contour\",\"colorbar\":{\"outlinewidth\":0,\"ticks\":\"\"},\"colorscale\":[[0.0,\"#0d0887\"],[0.1111111111111111,\"#46039f\"],[0.2222222222222222,\"#7201a8\"],[0.3333333333333333,\"#9c179e\"],[0.4444444444444444,\"#bd3786\"],[0.5555555555555556,\"#d8576b\"],[0.6666666666666666,\"#ed7953\"],[0.7777777777777778,\"#fb9f3a\"],[0.8888888888888888,\"#fdca26\"],[1.0,\"#f0f921\"]]}],\"surface\":[{\"type\":\"surface\",\"colorbar\":{\"outlinewidth\":0,\"ticks\":\"\"},\"colorscale\":[[0.0,\"#0d0887\"],[0.1111111111111111,\"#46039f\"],[0.2222222222222222,\"#7201a8\"],[0.3333333333333333,\"#9c179e\"],[0.4444444444444444,\"#bd3786\"],[0.5555555555555556,\"#d8576b\"],[0.6666666666666666,\"#ed7953\"],[0.7777777777777778,\"#fb9f3a\"],[0.8888888888888888,\"#fdca26\"],[1.0,\"#f0f921\"]]}],\"mesh3d\":[{\"type\":\"mesh3d\",\"colorbar\":{\"outlinewidth\":0,\"ticks\":\"\"}}],\"scatter\":[{\"fillpattern\":{\"fillmode\":\"overlay\",\"size\":10,\"solidity\":0.2},\"type\":\"scatter\"}],\"parcoords\":[{\"type\":\"parcoords\",\"line\":{\"colorbar\":{\"outlinewidth\":0,\"ticks\":\"\"}}}],\"scatterpolargl\":[{\"type\":\"scatterpolargl\",\"marker\":{\"colorbar\":{\"outlinewidth\":0,\"ticks\":\"\"}}}],\"bar\":[{\"error_x\":{\"color\":\"#2a3f5f\"},\"error_y\":{\"color\":\"#2a3f5f\"},\"marker\":{\"line\":{\"color\":\"#E5ECF6\",\"width\":0.5},\"pattern\":{\"fillmode\":\"overlay\",\"size\":10,\"solidity\":0.2}},\"type\":\"bar\"}],\"scattergeo\":[{\"type\":\"scattergeo\",\"marker\":{\"colorbar\":{\"outlinewidth\":0,\"ticks\":\"\"}}}],\"scatterpolar\":[{\"type\":\"scatterpolar\",\"marker\":{\"colorbar\":{\"outlinewidth\":0,\"ticks\":\"\"}}}],\"histogram\":[{\"marker\":{\"pattern\":{\"fillmode\":\"overlay\",\"size\":10,\"solidity\":0.2}},\"type\":\"histogram\"}],\"scattergl\":[{\"type\":\"scattergl\",\"marker\":{\"colorbar\":{\"outlinewidth\":0,\"ticks\":\"\"}}}],\"scatter3d\":[{\"type\":\"scatter3d\",\"line\":{\"colorbar\":{\"outlinewidth\":0,\"ticks\":\"\"}},\"marker\":{\"colorbar\":{\"outlinewidth\":0,\"ticks\":\"\"}}}],\"scattermapbox\":[{\"type\":\"scattermapbox\",\"marker\":{\"colorbar\":{\"outlinewidth\":0,\"ticks\":\"\"}}}],\"scatterternary\":[{\"type\":\"scatterternary\",\"marker\":{\"colorbar\":{\"outlinewidth\":0,\"ticks\":\"\"}}}],\"scattercarpet\":[{\"type\":\"scattercarpet\",\"marker\":{\"colorbar\":{\"outlinewidth\":0,\"ticks\":\"\"}}}],\"carpet\":[{\"aaxis\":{\"endlinecolor\":\"#2a3f5f\",\"gridcolor\":\"white\",\"linecolor\":\"white\",\"minorgridcolor\":\"white\",\"startlinecolor\":\"#2a3f5f\"},\"baxis\":{\"endlinecolor\":\"#2a3f5f\",\"gridcolor\":\"white\",\"linecolor\":\"white\",\"minorgridcolor\":\"white\",\"startlinecolor\":\"#2a3f5f\"},\"type\":\"carpet\"}],\"table\":[{\"cells\":{\"fill\":{\"color\":\"#EBF0F8\"},\"line\":{\"color\":\"white\"}},\"header\":{\"fill\":{\"color\":\"#C8D4E3\"},\"line\":{\"color\":\"white\"}},\"type\":\"table\"}],\"barpolar\":[{\"marker\":{\"line\":{\"color\":\"#E5ECF6\",\"width\":0.5},\"pattern\":{\"fillmode\":\"overlay\",\"size\":10,\"solidity\":0.2}},\"type\":\"barpolar\"}],\"pie\":[{\"automargin\":true,\"type\":\"pie\"}]},\"layout\":{\"autotypenumbers\":\"strict\",\"colorway\":[\"#636efa\",\"#EF553B\",\"#00cc96\",\"#ab63fa\",\"#FFA15A\",\"#19d3f3\",\"#FF6692\",\"#B6E880\",\"#FF97FF\",\"#FECB52\"],\"font\":{\"color\":\"#2a3f5f\"},\"hovermode\":\"closest\",\"hoverlabel\":{\"align\":\"left\"},\"paper_bgcolor\":\"white\",\"plot_bgcolor\":\"#E5ECF6\",\"polar\":{\"bgcolor\":\"#E5ECF6\",\"angularaxis\":{\"gridcolor\":\"white\",\"linecolor\":\"white\",\"ticks\":\"\"},\"radialaxis\":{\"gridcolor\":\"white\",\"linecolor\":\"white\",\"ticks\":\"\"}},\"ternary\":{\"bgcolor\":\"#E5ECF6\",\"aaxis\":{\"gridcolor\":\"white\",\"linecolor\":\"white\",\"ticks\":\"\"},\"baxis\":{\"gridcolor\":\"white\",\"linecolor\":\"white\",\"ticks\":\"\"},\"caxis\":{\"gridcolor\":\"white\",\"linecolor\":\"white\",\"ticks\":\"\"}},\"coloraxis\":{\"colorbar\":{\"outlinewidth\":0,\"ticks\":\"\"}},\"colorscale\":{\"sequential\":[[0.0,\"#0d0887\"],[0.1111111111111111,\"#46039f\"],[0.2222222222222222,\"#7201a8\"],[0.3333333333333333,\"#9c179e\"],[0.4444444444444444,\"#bd3786\"],[0.5555555555555556,\"#d8576b\"],[0.6666666666666666,\"#ed7953\"],[0.7777777777777778,\"#fb9f3a\"],[0.8888888888888888,\"#fdca26\"],[1.0,\"#f0f921\"]],\"sequentialminus\":[[0.0,\"#0d0887\"],[0.1111111111111111,\"#46039f\"],[0.2222222222222222,\"#7201a8\"],[0.3333333333333333,\"#9c179e\"],[0.4444444444444444,\"#bd3786\"],[0.5555555555555556,\"#d8576b\"],[0.6666666666666666,\"#ed7953\"],[0.7777777777777778,\"#fb9f3a\"],[0.8888888888888888,\"#fdca26\"],[1.0,\"#f0f921\"]],\"diverging\":[[0,\"#8e0152\"],[0.1,\"#c51b7d\"],[0.2,\"#de77ae\"],[0.3,\"#f1b6da\"],[0.4,\"#fde0ef\"],[0.5,\"#f7f7f7\"],[0.6,\"#e6f5d0\"],[0.7,\"#b8e186\"],[0.8,\"#7fbc41\"],[0.9,\"#4d9221\"],[1,\"#276419\"]]},\"xaxis\":{\"gridcolor\":\"white\",\"linecolor\":\"white\",\"ticks\":\"\",\"title\":{\"standoff\":15},\"zerolinecolor\":\"white\",\"automargin\":true,\"zerolinewidth\":2},\"yaxis\":{\"gridcolor\":\"white\",\"linecolor\":\"white\",\"ticks\":\"\",\"title\":{\"standoff\":15},\"zerolinecolor\":\"white\",\"automargin\":true,\"zerolinewidth\":2},\"scene\":{\"xaxis\":{\"backgroundcolor\":\"#E5ECF6\",\"gridcolor\":\"white\",\"linecolor\":\"white\",\"showbackground\":true,\"ticks\":\"\",\"zerolinecolor\":\"white\",\"gridwidth\":2},\"yaxis\":{\"backgroundcolor\":\"#E5ECF6\",\"gridcolor\":\"white\",\"linecolor\":\"white\",\"showbackground\":true,\"ticks\":\"\",\"zerolinecolor\":\"white\",\"gridwidth\":2},\"zaxis\":{\"backgroundcolor\":\"#E5ECF6\",\"gridcolor\":\"white\",\"linecolor\":\"white\",\"showbackground\":true,\"ticks\":\"\",\"zerolinecolor\":\"white\",\"gridwidth\":2}},\"shapedefaults\":{\"line\":{\"color\":\"#2a3f5f\"}},\"annotationdefaults\":{\"arrowcolor\":\"#2a3f5f\",\"arrowhead\":0,\"arrowwidth\":1},\"geo\":{\"bgcolor\":\"white\",\"landcolor\":\"#E5ECF6\",\"subunitcolor\":\"white\",\"showland\":true,\"showlakes\":true,\"lakecolor\":\"white\"},\"title\":{\"x\":0.05},\"mapbox\":{\"style\":\"light\"}}},\"scene\":{\"domain\":{\"x\":[0.0,1.0],\"y\":[0.0,1.0]},\"xaxis\":{\"title\":{\"text\":\"x\"}},\"yaxis\":{\"title\":{\"text\":\"y\"}},\"zaxis\":{\"title\":{\"text\":\"z\"}}},\"legend\":{\"tracegroupgap\":0},\"margin\":{\"t\":60}},                        {\"responsive\": true}                    ).then(function(){\n",
       "                            \n",
       "var gd = document.getElementById('b7b56b0e-9c44-4a6a-877b-4dcf13e4e197');\n",
       "var x = new MutationObserver(function (mutations, observer) {{\n",
       "        var display = window.getComputedStyle(gd).display;\n",
       "        if (!display || display === 'none') {{\n",
       "            console.log([gd, 'removed!']);\n",
       "            Plotly.purge(gd);\n",
       "            observer.disconnect();\n",
       "        }}\n",
       "}});\n",
       "\n",
       "// Listen for the removal of the full notebook cells\n",
       "var notebookContainer = gd.closest('#notebook-container');\n",
       "if (notebookContainer) {{\n",
       "    x.observe(notebookContainer, {childList: true});\n",
       "}}\n",
       "\n",
       "// Listen for the clearing of the current output cell\n",
       "var outputEl = gd.closest('.output');\n",
       "if (outputEl) {{\n",
       "    x.observe(outputEl, {childList: true});\n",
       "}}\n",
       "\n",
       "                        })                };                });            </script>        </div>"
      ]
     },
     "metadata": {},
     "output_type": "display_data"
    }
   ],
   "source": [
    "import plotly.express as px\n",
    "df = px.data.iris()\n",
    "fig = px.scatter_3d(df, x=x.ravel(), y=y.ravel(), z=z.ravel())\n",
    "fig.show()"
   ]
  },
  {
   "cell_type": "code",
   "execution_count": 103,
   "id": "6a8662f7-1bd6-4622-97f6-52c60cb7a5c3",
   "metadata": {},
   "outputs": [],
   "source": [
    "lr = LinearRegression()\n",
    "lr.fit(np.array([x,y]).reshape(100,2),z)\n",
    "\n",
    "x_input = np.linspace(x.min(), x.max(), 10)\n",
    "y_input = np.linspace(y.min(), y.max(), 10)\n",
    "xGrid, yGrid = np.meshgrid(x_input,y_input)\n",
    "\n",
    "final = np.vstack((xGrid.ravel().reshape(1,100),yGrid.ravel().reshape(1,100))).T\n",
    "\n",
    "z_final = lr.predict(final).reshape(10,10)"
   ]
  },
  {
   "cell_type": "code",
   "execution_count": 104,
   "id": "7b828460-7c9a-4d33-b1aa-72a3a3576677",
   "metadata": {},
   "outputs": [
    {
     "data": {
      "application/vnd.plotly.v1+json": {
       "config": {
        "plotlyServerURL": "https://plot.ly"
       },
       "data": [
        {
         "hovertemplate": "x=%{x}<br>y=%{y}<br>z=%{z}<extra></extra>",
         "legendgroup": "",
         "marker": {
          "color": "#636efa",
          "symbol": "circle"
         },
         "mode": "markers",
         "name": "",
         "scene": "scene",
         "showlegend": false,
         "type": "scatter3d",
         "x": [
          -2.3287895942665218,
          2.9237027660885744,
          -0.4843716630487136,
          1.6446933480656538,
          -0.5060186246203027,
          -2.337180306447115,
          -0.6665054828780095,
          -0.6374760208528905,
          0.7997765865832314,
          -2.455772576650216,
          1.3203935142951426,
          3.9349973063552293,
          2.349363402513397,
          3.2259662341307243,
          -0.44995561144219964,
          1.6816839765554787,
          0.0024306753096832168,
          3.204704329702464,
          -2.3304930236380654,
          3.578071280085344,
          1.6128349780784275,
          1.1142398656665753,
          -1.326593510559849,
          -2.1795578477468545,
          -1.7976295284311248,
          3.221079584422979,
          -0.527052323181664,
          -1.8929274804090344,
          -2.4799627670902136,
          0.003968386375384547,
          0.5502758219661921,
          -0.3448826562182945,
          0.4637247673924354,
          2.3986322748808417,
          -2.7703227858557913,
          3.5927245888237893,
          2.0414288658007784,
          4.055416992410424,
          1.5518848770281979,
          0.43429479842303076,
          3.172275064237988,
          1.4698793842025069,
          3.4571076081791228,
          0.7065951949690676,
          -0.07684579605067832,
          -1.330790292180628,
          -2.6898126354898313,
          -0.7412227270137253,
          -0.6192441819980039,
          -2.583905039809662,
          3.9769936530341283,
          2.0248155330714734,
          0.7919639867673793,
          3.462125210578101,
          3.646803562968879,
          3.5989142265647853,
          4.021227564244135,
          1.1125863812745793,
          1.2380801439807874,
          3.4999189428792468,
          0.2838697849702658,
          -1.8395038747294228,
          -0.5384483163144331,
          -1.7814251711109277,
          3.3983908829727607,
          3.005922933412278,
          3.7879653935156288,
          -0.6611525650200081,
          0.09489591551765253,
          2.6475720829119807,
          -0.28405178801690445,
          -0.841955188527868,
          3.8798395920226945,
          4.005513429139341,
          3.1431412385345103,
          3.011033824258817,
          -2.105839180878055,
          3.9887196486503855,
          3.9554453657558613,
          -0.11087644846618216,
          -0.32794720239542974,
          1.7325421142443833,
          -1.5808715862927003,
          -0.41894725731734717,
          0.9403668555089317,
          -1.56047422942463,
          0.30178810227706965,
          -1.3681095565869612,
          4.048556384998699,
          0.6089008555544808,
          3.14581279129244,
          0.6380621693325792,
          3.865075797404968,
          0.5373466488909346,
          -1.514727487078477,
          1.2267819241635953,
          4.186684308344927,
          2.6024672674112272,
          -1.055559189946237,
          -1.152377725111878
         ],
         "y": [
          -1.2935832159182452,
          1.6069915736055034,
          2.854865154118163,
          -1.0347661287357675,
          1.3100411015279407,
          -2.104741581465844,
          3.391922800642666,
          3.387139296037131,
          -1.2353269022782927,
          0.6598795643204172,
          2.1573522010596458,
          2.4787785039215464,
          -1.6888397319643094,
          -0.7118986094165454,
          -0.8759401644154194,
          0.10480831547451386,
          -0.25424331074457474,
          -0.6725671452834181,
          -1.2881837681976656,
          -1.4328310540998168,
          -2.6665603113097465,
          -0.7200338249773166,
          0.47071813365211845,
          2.8249521833092057,
          -2.6101200739298127,
          -2.448620515114495,
          2.321686090119628,
          -1.9561315863514543,
          -2.6912400463367074,
          2.6047955712048445,
          1.3288471128109887,
          0.5363350423148683,
          -2.1865872016510104,
          2.417097382571896,
          1.243762840263627,
          3.941317452857648,
          1.7573808371020743,
          2.1307398687267822,
          2.004544437904192,
          1.260405020333585,
          1.475681383105968,
          1.9276320232753372,
          3.5977099648088116,
          0.4226321155380197,
          -1.6553380006803105,
          -0.8856193910749948,
          0.8019556916810049,
          0.670074074690445,
          4.068773130977671,
          -0.48436772007151285,
          1.998294226146868,
          -1.8548412928487183,
          -0.7616113855667663,
          1.3481214441359084,
          -2.5723003156294997,
          2.32389258102672,
          -0.2419233918102175,
          1.1720452042998568,
          -2.7137063520412625,
          0.6481199818514933,
          2.6441101243615037,
          -2.6608843819470174,
          -1.2276543313567099,
          0.3741174366508657,
          1.7707522175606787,
          1.222211271212137,
          -0.42224245400006977,
          0.8513443694778338,
          -0.3122043044301299,
          1.6329638911182256,
          -2.4480770519672417,
          3.706675884199613,
          3.5386069639764965,
          -0.12315032284547822,
          3.8388437164809552,
          3.01404827472237,
          2.9515502862729424,
          -0.765196861487806,
          2.573565726301873,
          0.3836830885753466,
          0.8901175997270085,
          -1.360144463499031,
          -0.24452081903328793,
          0.9194538938732961,
          3.5097170768862407,
          -2.4089665603898824,
          2.9757770747347214,
          -1.307803692052791,
          2.1256959107823503,
          3.252774980232445,
          -2.4868633397747493,
          2.0430603104834972,
          1.7970803045745605,
          -2.742171277622965,
          3.7384127097911053,
          -0.3683461856183752,
          -0.0635546080381637,
          3.2665026644896544,
          2.2100278731937584,
          2.7355533023545524
         ],
         "z": [
          10.276521274914357,
          15.728501147792374,
          9.935834231141175,
          5.691020258778583,
          3.648042421299992,
          11.725901937535992,
          13.649028083779907,
          13.41675337513101,
          6.444209038848017,
          7.473287419137012,
          9.049909156089251,
          24.975923065908027,
          10.58273913266291,
          11.227469094854692,
          0.995882800809613,
          5.103045696587784,
          3.3893027166568848,
          12.250018225046185,
          9.307173758141797,
          15.516176906700448,
          12.484138253105519,
          3.7884634560567667,
          4.027993979810239,
          14.798872233441982,
          13.04983051762533,
          17.678330555747674,
          6.602968895217052,
          6.061338754400911,
          16.417479942892534,
          11.804823453721921,
          4.201448167121782,
          3.1362810708781357,
          5.3476888905348705,
          15.805277523403367,
          9.483571047740107,
          33.19749808799098,
          10.807148986674964,
          27.39340637723451,
          10.870602313679207,
          4.683184557480144,
          16.434574193729407,
          7.780468450053748,
          29.808124804279405,
          1.7504736650977222,
          5.650797130501868,
          5.053934497654518,
          8.092759033901237,
          2.2671283376757025,
          18.911056392538956,
          6.819155089515788,
          24.15173443196507,
          9.289332037613342,
          3.1722708841565868,
          16.722145794000465,
          19.85429845171912,
          21.91540599041044,
          19.659915708079534,
          5.595926996377047,
          10.445716191021337,
          16.583487675184582,
          11.370491671665567,
          10.954561267285893,
          3.6497969579360823,
          3.7020120639544913,
          18.56870945387833,
          14.452078603434755,
          18.436538924086236,
          1.8379306430692777,
          2.0903280742497605,
          14.078331275731218,
          6.519280790786039,
          15.893303077084079,
          30.43163835839213,
          18.978611407850856,
          28.762390490397152,
          22.256042423327624,
          15.658466681050983,
          19.11617280519129,
          27.353316531621616,
          1.2860508233603978,
          4.309179726957289,
          5.587192927194368,
          3.5171761114291966,
          3.2191528623686922,
          16.560095570231994,
          9.42952055723006,
          11.679192577041492,
          4.162466230239527,
          24.32068523016609,
          14.769695628777297,
          16.924970245572926,
          8.688606119948227,
          22.204630652913995,
          9.357480371570558,
          17.16234103825604,
          3.222689698509726,
          20.10599068681129,
          21.489128111448775,
          6.610406758251303,
          10.197821192716804
         ]
        },
        {
         "type": "surface",
         "x": [
          -2.7703227858557913,
          -1.997321997611267,
          -1.2243212093667428,
          -0.4513204211222188,
          0.32168036712230563,
          1.09468115536683,
          1.8676819436113536,
          2.640682731855878,
          3.4136835201004025,
          4.186684308344927
         ],
         "y": [
          -2.742171277622965,
          -1.9853996766673387,
          -1.2286280757117127,
          -0.4718564747560867,
          0.2849151261995395,
          1.0416867271551657,
          1.7984583281107915,
          2.5552299290664178,
          3.312001530022044,
          4.068773130977671
         ],
         "z": [
          [
           12.13911977241117,
           12.335156417511117,
           12.531193062611063,
           12.72722970771101,
           12.923266352810955,
           13.1193029979109,
           13.315339643010846,
           13.511376288110792,
           13.707412933210739,
           13.903449578310685
          ],
          [
           11.921975617334947,
           12.118012262434894,
           12.31404890753484,
           12.510085552634786,
           12.706122197734732,
           12.902158842834679,
           13.098195487934625,
           13.29423213303457,
           13.490268778134515,
           13.686305423234462
          ],
          [
           11.704831462258726,
           11.900868107358672,
           12.096904752458617,
           12.292941397558563,
           12.488978042658509,
           12.685014687758455,
           12.881051332858402,
           13.077087977958348,
           13.273124623058294,
           13.469161268158238
          ],
          [
           11.487687307182503,
           11.683723952282449,
           11.879760597382395,
           12.075797242482341,
           12.271833887582286,
           12.467870532682232,
           12.663907177782178,
           12.859943822882125,
           13.05598046798207,
           13.252017113082017
          ],
          [
           11.27054315210628,
           11.466579797206226,
           11.662616442306172,
           11.858653087406118,
           12.054689732506064,
           12.25072637760601,
           12.446763022705955,
           12.642799667805901,
           12.838836312905848,
           13.034872958005794
          ],
          [
           11.053398997030058,
           11.249435642130003,
           11.445472287229949,
           11.641508932329895,
           11.837545577429841,
           12.033582222529787,
           12.229618867629734,
           12.42565551272968,
           12.621692157829624,
           12.81772880292957
          ],
          [
           10.836254841953835,
           11.032291487053781,
           11.228328132153727,
           11.424364777253672,
           11.620401422353618,
           11.816438067453564,
           12.01247471255351,
           12.208511357653457,
           12.404548002753403,
           12.60058464785335
          ],
          [
           10.619110686877612,
           10.815147331977558,
           11.011183977077504,
           11.20722062217745,
           11.403257267277397,
           11.599293912377343,
           11.795330557477287,
           11.991367202577234,
           12.18740384767718,
           12.383440492777126
          ],
          [
           10.401966531801389,
           10.598003176901335,
           10.794039822001281,
           10.990076467101227,
           11.186113112201173,
           11.38214975730112,
           11.578186402401066,
           11.77422304750101,
           11.970259692600957,
           12.166296337700903
          ],
          [
           10.184822376725167,
           10.380859021825113,
           10.576895666925058,
           10.772932312025004,
           10.96896895712495,
           11.165005602224896,
           11.361042247324843,
           11.557078892424789,
           11.753115537524735,
           11.94915218262468
          ]
         ]
        }
       ],
       "layout": {
        "autosize": true,
        "legend": {
         "tracegroupgap": 0
        },
        "margin": {
         "t": 60
        },
        "scene": {
         "aspectmode": "auto",
         "aspectratio": {
          "x": 1,
          "y": 1,
          "z": 1
         },
         "domain": {
          "x": [
           0,
           1
          ],
          "y": [
           0,
           1
          ]
         },
         "xaxis": {
          "title": {
           "text": "x"
          },
          "type": "linear"
         },
         "yaxis": {
          "title": {
           "text": "y"
          },
          "type": "linear"
         },
         "zaxis": {
          "title": {
           "text": "z"
          },
          "type": "linear"
         }
        },
        "template": {
         "data": {
          "bar": [
           {
            "error_x": {
             "color": "#2a3f5f"
            },
            "error_y": {
             "color": "#2a3f5f"
            },
            "marker": {
             "line": {
              "color": "#E5ECF6",
              "width": 0.5
             },
             "pattern": {
              "fillmode": "overlay",
              "size": 10,
              "solidity": 0.2
             }
            },
            "type": "bar"
           }
          ],
          "barpolar": [
           {
            "marker": {
             "line": {
              "color": "#E5ECF6",
              "width": 0.5
             },
             "pattern": {
              "fillmode": "overlay",
              "size": 10,
              "solidity": 0.2
             }
            },
            "type": "barpolar"
           }
          ],
          "carpet": [
           {
            "aaxis": {
             "endlinecolor": "#2a3f5f",
             "gridcolor": "white",
             "linecolor": "white",
             "minorgridcolor": "white",
             "startlinecolor": "#2a3f5f"
            },
            "baxis": {
             "endlinecolor": "#2a3f5f",
             "gridcolor": "white",
             "linecolor": "white",
             "minorgridcolor": "white",
             "startlinecolor": "#2a3f5f"
            },
            "type": "carpet"
           }
          ],
          "choropleth": [
           {
            "colorbar": {
             "outlinewidth": 0,
             "ticks": ""
            },
            "type": "choropleth"
           }
          ],
          "contour": [
           {
            "colorbar": {
             "outlinewidth": 0,
             "ticks": ""
            },
            "colorscale": [
             [
              0,
              "#0d0887"
             ],
             [
              0.1111111111111111,
              "#46039f"
             ],
             [
              0.2222222222222222,
              "#7201a8"
             ],
             [
              0.3333333333333333,
              "#9c179e"
             ],
             [
              0.4444444444444444,
              "#bd3786"
             ],
             [
              0.5555555555555556,
              "#d8576b"
             ],
             [
              0.6666666666666666,
              "#ed7953"
             ],
             [
              0.7777777777777778,
              "#fb9f3a"
             ],
             [
              0.8888888888888888,
              "#fdca26"
             ],
             [
              1,
              "#f0f921"
             ]
            ],
            "type": "contour"
           }
          ],
          "contourcarpet": [
           {
            "colorbar": {
             "outlinewidth": 0,
             "ticks": ""
            },
            "type": "contourcarpet"
           }
          ],
          "heatmap": [
           {
            "colorbar": {
             "outlinewidth": 0,
             "ticks": ""
            },
            "colorscale": [
             [
              0,
              "#0d0887"
             ],
             [
              0.1111111111111111,
              "#46039f"
             ],
             [
              0.2222222222222222,
              "#7201a8"
             ],
             [
              0.3333333333333333,
              "#9c179e"
             ],
             [
              0.4444444444444444,
              "#bd3786"
             ],
             [
              0.5555555555555556,
              "#d8576b"
             ],
             [
              0.6666666666666666,
              "#ed7953"
             ],
             [
              0.7777777777777778,
              "#fb9f3a"
             ],
             [
              0.8888888888888888,
              "#fdca26"
             ],
             [
              1,
              "#f0f921"
             ]
            ],
            "type": "heatmap"
           }
          ],
          "heatmapgl": [
           {
            "colorbar": {
             "outlinewidth": 0,
             "ticks": ""
            },
            "colorscale": [
             [
              0,
              "#0d0887"
             ],
             [
              0.1111111111111111,
              "#46039f"
             ],
             [
              0.2222222222222222,
              "#7201a8"
             ],
             [
              0.3333333333333333,
              "#9c179e"
             ],
             [
              0.4444444444444444,
              "#bd3786"
             ],
             [
              0.5555555555555556,
              "#d8576b"
             ],
             [
              0.6666666666666666,
              "#ed7953"
             ],
             [
              0.7777777777777778,
              "#fb9f3a"
             ],
             [
              0.8888888888888888,
              "#fdca26"
             ],
             [
              1,
              "#f0f921"
             ]
            ],
            "type": "heatmapgl"
           }
          ],
          "histogram": [
           {
            "marker": {
             "pattern": {
              "fillmode": "overlay",
              "size": 10,
              "solidity": 0.2
             }
            },
            "type": "histogram"
           }
          ],
          "histogram2d": [
           {
            "colorbar": {
             "outlinewidth": 0,
             "ticks": ""
            },
            "colorscale": [
             [
              0,
              "#0d0887"
             ],
             [
              0.1111111111111111,
              "#46039f"
             ],
             [
              0.2222222222222222,
              "#7201a8"
             ],
             [
              0.3333333333333333,
              "#9c179e"
             ],
             [
              0.4444444444444444,
              "#bd3786"
             ],
             [
              0.5555555555555556,
              "#d8576b"
             ],
             [
              0.6666666666666666,
              "#ed7953"
             ],
             [
              0.7777777777777778,
              "#fb9f3a"
             ],
             [
              0.8888888888888888,
              "#fdca26"
             ],
             [
              1,
              "#f0f921"
             ]
            ],
            "type": "histogram2d"
           }
          ],
          "histogram2dcontour": [
           {
            "colorbar": {
             "outlinewidth": 0,
             "ticks": ""
            },
            "colorscale": [
             [
              0,
              "#0d0887"
             ],
             [
              0.1111111111111111,
              "#46039f"
             ],
             [
              0.2222222222222222,
              "#7201a8"
             ],
             [
              0.3333333333333333,
              "#9c179e"
             ],
             [
              0.4444444444444444,
              "#bd3786"
             ],
             [
              0.5555555555555556,
              "#d8576b"
             ],
             [
              0.6666666666666666,
              "#ed7953"
             ],
             [
              0.7777777777777778,
              "#fb9f3a"
             ],
             [
              0.8888888888888888,
              "#fdca26"
             ],
             [
              1,
              "#f0f921"
             ]
            ],
            "type": "histogram2dcontour"
           }
          ],
          "mesh3d": [
           {
            "colorbar": {
             "outlinewidth": 0,
             "ticks": ""
            },
            "type": "mesh3d"
           }
          ],
          "parcoords": [
           {
            "line": {
             "colorbar": {
              "outlinewidth": 0,
              "ticks": ""
             }
            },
            "type": "parcoords"
           }
          ],
          "pie": [
           {
            "automargin": true,
            "type": "pie"
           }
          ],
          "scatter": [
           {
            "fillpattern": {
             "fillmode": "overlay",
             "size": 10,
             "solidity": 0.2
            },
            "type": "scatter"
           }
          ],
          "scatter3d": [
           {
            "line": {
             "colorbar": {
              "outlinewidth": 0,
              "ticks": ""
             }
            },
            "marker": {
             "colorbar": {
              "outlinewidth": 0,
              "ticks": ""
             }
            },
            "type": "scatter3d"
           }
          ],
          "scattercarpet": [
           {
            "marker": {
             "colorbar": {
              "outlinewidth": 0,
              "ticks": ""
             }
            },
            "type": "scattercarpet"
           }
          ],
          "scattergeo": [
           {
            "marker": {
             "colorbar": {
              "outlinewidth": 0,
              "ticks": ""
             }
            },
            "type": "scattergeo"
           }
          ],
          "scattergl": [
           {
            "marker": {
             "colorbar": {
              "outlinewidth": 0,
              "ticks": ""
             }
            },
            "type": "scattergl"
           }
          ],
          "scattermapbox": [
           {
            "marker": {
             "colorbar": {
              "outlinewidth": 0,
              "ticks": ""
             }
            },
            "type": "scattermapbox"
           }
          ],
          "scatterpolar": [
           {
            "marker": {
             "colorbar": {
              "outlinewidth": 0,
              "ticks": ""
             }
            },
            "type": "scatterpolar"
           }
          ],
          "scatterpolargl": [
           {
            "marker": {
             "colorbar": {
              "outlinewidth": 0,
              "ticks": ""
             }
            },
            "type": "scatterpolargl"
           }
          ],
          "scatterternary": [
           {
            "marker": {
             "colorbar": {
              "outlinewidth": 0,
              "ticks": ""
             }
            },
            "type": "scatterternary"
           }
          ],
          "surface": [
           {
            "colorbar": {
             "outlinewidth": 0,
             "ticks": ""
            },
            "colorscale": [
             [
              0,
              "#0d0887"
             ],
             [
              0.1111111111111111,
              "#46039f"
             ],
             [
              0.2222222222222222,
              "#7201a8"
             ],
             [
              0.3333333333333333,
              "#9c179e"
             ],
             [
              0.4444444444444444,
              "#bd3786"
             ],
             [
              0.5555555555555556,
              "#d8576b"
             ],
             [
              0.6666666666666666,
              "#ed7953"
             ],
             [
              0.7777777777777778,
              "#fb9f3a"
             ],
             [
              0.8888888888888888,
              "#fdca26"
             ],
             [
              1,
              "#f0f921"
             ]
            ],
            "type": "surface"
           }
          ],
          "table": [
           {
            "cells": {
             "fill": {
              "color": "#EBF0F8"
             },
             "line": {
              "color": "white"
             }
            },
            "header": {
             "fill": {
              "color": "#C8D4E3"
             },
             "line": {
              "color": "white"
             }
            },
            "type": "table"
           }
          ]
         },
         "layout": {
          "annotationdefaults": {
           "arrowcolor": "#2a3f5f",
           "arrowhead": 0,
           "arrowwidth": 1
          },
          "autotypenumbers": "strict",
          "coloraxis": {
           "colorbar": {
            "outlinewidth": 0,
            "ticks": ""
           }
          },
          "colorscale": {
           "diverging": [
            [
             0,
             "#8e0152"
            ],
            [
             0.1,
             "#c51b7d"
            ],
            [
             0.2,
             "#de77ae"
            ],
            [
             0.3,
             "#f1b6da"
            ],
            [
             0.4,
             "#fde0ef"
            ],
            [
             0.5,
             "#f7f7f7"
            ],
            [
             0.6,
             "#e6f5d0"
            ],
            [
             0.7,
             "#b8e186"
            ],
            [
             0.8,
             "#7fbc41"
            ],
            [
             0.9,
             "#4d9221"
            ],
            [
             1,
             "#276419"
            ]
           ],
           "sequential": [
            [
             0,
             "#0d0887"
            ],
            [
             0.1111111111111111,
             "#46039f"
            ],
            [
             0.2222222222222222,
             "#7201a8"
            ],
            [
             0.3333333333333333,
             "#9c179e"
            ],
            [
             0.4444444444444444,
             "#bd3786"
            ],
            [
             0.5555555555555556,
             "#d8576b"
            ],
            [
             0.6666666666666666,
             "#ed7953"
            ],
            [
             0.7777777777777778,
             "#fb9f3a"
            ],
            [
             0.8888888888888888,
             "#fdca26"
            ],
            [
             1,
             "#f0f921"
            ]
           ],
           "sequentialminus": [
            [
             0,
             "#0d0887"
            ],
            [
             0.1111111111111111,
             "#46039f"
            ],
            [
             0.2222222222222222,
             "#7201a8"
            ],
            [
             0.3333333333333333,
             "#9c179e"
            ],
            [
             0.4444444444444444,
             "#bd3786"
            ],
            [
             0.5555555555555556,
             "#d8576b"
            ],
            [
             0.6666666666666666,
             "#ed7953"
            ],
            [
             0.7777777777777778,
             "#fb9f3a"
            ],
            [
             0.8888888888888888,
             "#fdca26"
            ],
            [
             1,
             "#f0f921"
            ]
           ]
          },
          "colorway": [
           "#636efa",
           "#EF553B",
           "#00cc96",
           "#ab63fa",
           "#FFA15A",
           "#19d3f3",
           "#FF6692",
           "#B6E880",
           "#FF97FF",
           "#FECB52"
          ],
          "font": {
           "color": "#2a3f5f"
          },
          "geo": {
           "bgcolor": "white",
           "lakecolor": "white",
           "landcolor": "#E5ECF6",
           "showlakes": true,
           "showland": true,
           "subunitcolor": "white"
          },
          "hoverlabel": {
           "align": "left"
          },
          "hovermode": "closest",
          "mapbox": {
           "style": "light"
          },
          "paper_bgcolor": "white",
          "plot_bgcolor": "#E5ECF6",
          "polar": {
           "angularaxis": {
            "gridcolor": "white",
            "linecolor": "white",
            "ticks": ""
           },
           "bgcolor": "#E5ECF6",
           "radialaxis": {
            "gridcolor": "white",
            "linecolor": "white",
            "ticks": ""
           }
          },
          "scene": {
           "xaxis": {
            "backgroundcolor": "#E5ECF6",
            "gridcolor": "white",
            "gridwidth": 2,
            "linecolor": "white",
            "showbackground": true,
            "ticks": "",
            "zerolinecolor": "white"
           },
           "yaxis": {
            "backgroundcolor": "#E5ECF6",
            "gridcolor": "white",
            "gridwidth": 2,
            "linecolor": "white",
            "showbackground": true,
            "ticks": "",
            "zerolinecolor": "white"
           },
           "zaxis": {
            "backgroundcolor": "#E5ECF6",
            "gridcolor": "white",
            "gridwidth": 2,
            "linecolor": "white",
            "showbackground": true,
            "ticks": "",
            "zerolinecolor": "white"
           }
          },
          "shapedefaults": {
           "line": {
            "color": "#2a3f5f"
           }
          },
          "ternary": {
           "aaxis": {
            "gridcolor": "white",
            "linecolor": "white",
            "ticks": ""
           },
           "baxis": {
            "gridcolor": "white",
            "linecolor": "white",
            "ticks": ""
           },
           "bgcolor": "#E5ECF6",
           "caxis": {
            "gridcolor": "white",
            "linecolor": "white",
            "ticks": ""
           }
          },
          "title": {
           "x": 0.05
          },
          "xaxis": {
           "automargin": true,
           "gridcolor": "white",
           "linecolor": "white",
           "ticks": "",
           "title": {
            "standoff": 15
           },
           "zerolinecolor": "white",
           "zerolinewidth": 2
          },
          "yaxis": {
           "automargin": true,
           "gridcolor": "white",
           "linecolor": "white",
           "ticks": "",
           "title": {
            "standoff": 15
           },
           "zerolinecolor": "white",
           "zerolinewidth": 2
          }
         }
        }
       }
      },
      "image/png": "[encoded data removed]",
      "text/html": [
       "<div>                            <div id=\"ac3f4222-7f79-47b0-8d70-a6d929ea7850\" class=\"plotly-graph-div\" style=\"height:525px; width:100%;\"></div>            <script type=\"text/javascript\">                require([\"plotly\"], function(Plotly) {                    window.PLOTLYENV=window.PLOTLYENV || {};                                    if (document.getElementById(\"ac3f4222-7f79-47b0-8d70-a6d929ea7850\")) {                    Plotly.newPlot(                        \"ac3f4222-7f79-47b0-8d70-a6d929ea7850\",                        [{\"hovertemplate\":\"x=%{x}\\u003cbr\\u003ey=%{y}\\u003cbr\\u003ez=%{z}\\u003cextra\\u003e\\u003c\\u002fextra\\u003e\",\"legendgroup\":\"\",\"marker\":{\"color\":\"#636efa\",\"symbol\":\"circle\"},\"mode\":\"markers\",\"name\":\"\",\"scene\":\"scene\",\"showlegend\":false,\"x\":[-2.3287895942665218,2.9237027660885744,-0.4843716630487136,1.6446933480656538,-0.5060186246203027,-2.337180306447115,-0.6665054828780095,-0.6374760208528905,0.7997765865832314,-2.455772576650216,1.3203935142951426,3.9349973063552293,2.349363402513397,3.2259662341307243,-0.44995561144219964,1.6816839765554787,0.0024306753096832168,3.204704329702464,-2.3304930236380654,3.578071280085344,1.6128349780784275,1.1142398656665753,-1.326593510559849,-2.1795578477468545,-1.7976295284311248,3.221079584422979,-0.527052323181664,-1.8929274804090344,-2.4799627670902136,0.003968386375384547,0.5502758219661921,-0.3448826562182945,0.4637247673924354,2.3986322748808417,-2.7703227858557913,3.5927245888237893,2.0414288658007784,4.055416992410424,1.5518848770281979,0.43429479842303076,3.172275064237988,1.4698793842025069,3.4571076081791228,0.7065951949690676,-0.07684579605067832,-1.330790292180628,-2.6898126354898313,-0.7412227270137253,-0.6192441819980039,-2.583905039809662,3.9769936530341283,2.0248155330714734,0.7919639867673793,3.462125210578101,3.646803562968879,3.5989142265647853,4.021227564244135,1.1125863812745793,1.2380801439807874,3.4999189428792468,0.2838697849702658,-1.8395038747294228,-0.5384483163144331,-1.7814251711109277,3.3983908829727607,3.005922933412278,3.7879653935156288,-0.6611525650200081,0.09489591551765253,2.6475720829119807,-0.28405178801690445,-0.841955188527868,3.8798395920226945,4.005513429139341,3.1431412385345103,3.011033824258817,-2.105839180878055,3.9887196486503855,3.9554453657558613,-0.11087644846618216,-0.32794720239542974,1.7325421142443833,-1.5808715862927003,-0.41894725731734717,0.9403668555089317,-1.56047422942463,0.30178810227706965,-1.3681095565869612,4.048556384998699,0.6089008555544808,3.14581279129244,0.6380621693325792,3.865075797404968,0.5373466488909346,-1.514727487078477,1.2267819241635953,4.186684308344927,2.6024672674112272,-1.055559189946237,-1.152377725111878],\"y\":[-1.2935832159182452,1.6069915736055034,2.854865154118163,-1.0347661287357675,1.3100411015279407,-2.104741581465844,3.391922800642666,3.387139296037131,-1.2353269022782927,0.6598795643204172,2.1573522010596458,2.4787785039215464,-1.6888397319643094,-0.7118986094165454,-0.8759401644154194,0.10480831547451386,-0.25424331074457474,-0.6725671452834181,-1.2881837681976656,-1.4328310540998168,-2.6665603113097465,-0.7200338249773166,0.47071813365211845,2.8249521833092057,-2.6101200739298127,-2.448620515114495,2.321686090119628,-1.9561315863514543,-2.6912400463367074,2.6047955712048445,1.3288471128109887,0.5363350423148683,-2.1865872016510104,2.417097382571896,1.243762840263627,3.941317452857648,1.7573808371020743,2.1307398687267822,2.004544437904192,1.260405020333585,1.475681383105968,1.9276320232753372,3.5977099648088116,0.4226321155380197,-1.6553380006803105,-0.8856193910749948,0.8019556916810049,0.670074074690445,4.068773130977671,-0.48436772007151285,1.998294226146868,-1.8548412928487183,-0.7616113855667663,1.3481214441359084,-2.5723003156294997,2.32389258102672,-0.2419233918102175,1.1720452042998568,-2.7137063520412625,0.6481199818514933,2.6441101243615037,-2.6608843819470174,-1.2276543313567099,0.3741174366508657,1.7707522175606787,1.222211271212137,-0.42224245400006977,0.8513443694778338,-0.3122043044301299,1.6329638911182256,-2.4480770519672417,3.706675884199613,3.5386069639764965,-0.12315032284547822,3.8388437164809552,3.01404827472237,2.9515502862729424,-0.765196861487806,2.573565726301873,0.3836830885753466,0.8901175997270085,-1.360144463499031,-0.24452081903328793,0.9194538938732961,3.5097170768862407,-2.4089665603898824,2.9757770747347214,-1.307803692052791,2.1256959107823503,3.252774980232445,-2.4868633397747493,2.0430603104834972,1.7970803045745605,-2.742171277622965,3.7384127097911053,-0.3683461856183752,-0.0635546080381637,3.2665026644896544,2.2100278731937584,2.7355533023545524],\"z\":[10.276521274914357,15.728501147792374,9.935834231141175,5.691020258778583,3.648042421299992,11.725901937535992,13.649028083779907,13.41675337513101,6.444209038848017,7.473287419137012,9.049909156089251,24.975923065908027,10.58273913266291,11.227469094854692,0.995882800809613,5.103045696587784,3.3893027166568848,12.250018225046185,9.307173758141797,15.516176906700448,12.484138253105519,3.7884634560567667,4.027993979810239,14.798872233441982,13.04983051762533,17.678330555747674,6.602968895217052,6.061338754400911,16.417479942892534,11.804823453721921,4.201448167121782,3.1362810708781357,5.3476888905348705,15.805277523403367,9.483571047740107,33.19749808799098,10.807148986674964,27.39340637723451,10.870602313679207,4.683184557480144,16.434574193729407,7.780468450053748,29.808124804279405,1.7504736650977222,5.650797130501868,5.053934497654518,8.092759033901237,2.2671283376757025,18.911056392538956,6.819155089515788,24.15173443196507,9.289332037613342,3.1722708841565868,16.722145794000465,19.85429845171912,21.91540599041044,19.659915708079534,5.595926996377047,10.445716191021337,16.583487675184582,11.370491671665567,10.954561267285893,3.6497969579360823,3.7020120639544913,18.56870945387833,14.452078603434755,18.436538924086236,1.8379306430692777,2.0903280742497605,14.078331275731218,6.519280790786039,15.893303077084079,30.43163835839213,18.978611407850856,28.762390490397152,22.256042423327624,15.658466681050983,19.11617280519129,27.353316531621616,1.2860508233603978,4.309179726957289,5.587192927194368,3.5171761114291966,3.2191528623686922,16.560095570231994,9.42952055723006,11.679192577041492,4.162466230239527,24.32068523016609,14.769695628777297,16.924970245572926,8.688606119948227,22.204630652913995,9.357480371570558,17.16234103825604,3.222689698509726,20.10599068681129,21.489128111448775,6.610406758251303,10.197821192716804],\"type\":\"scatter3d\"},{\"x\":[-2.7703227858557913,-1.997321997611267,-1.2243212093667428,-0.4513204211222188,0.32168036712230563,1.09468115536683,1.8676819436113536,2.640682731855878,3.4136835201004025,4.186684308344927],\"y\":[-2.742171277622965,-1.9853996766673387,-1.2286280757117127,-0.4718564747560867,0.2849151261995395,1.0416867271551657,1.7984583281107915,2.5552299290664178,3.312001530022044,4.068773130977671],\"z\":[[12.13911977241117,12.335156417511117,12.531193062611063,12.72722970771101,12.923266352810955,13.1193029979109,13.315339643010846,13.511376288110792,13.707412933210739,13.903449578310685],[11.921975617334947,12.118012262434894,12.31404890753484,12.510085552634786,12.706122197734732,12.902158842834679,13.098195487934625,13.29423213303457,13.490268778134515,13.686305423234462],[11.704831462258726,11.900868107358672,12.096904752458617,12.292941397558563,12.488978042658509,12.685014687758455,12.881051332858402,13.077087977958348,13.273124623058294,13.469161268158238],[11.487687307182503,11.683723952282449,11.879760597382395,12.075797242482341,12.271833887582286,12.467870532682232,12.663907177782178,12.859943822882125,13.05598046798207,13.252017113082017],[11.27054315210628,11.466579797206226,11.662616442306172,11.858653087406118,12.054689732506064,12.25072637760601,12.446763022705955,12.642799667805901,12.838836312905848,13.034872958005794],[11.053398997030058,11.249435642130003,11.445472287229949,11.641508932329895,11.837545577429841,12.033582222529787,12.229618867629734,12.42565551272968,12.621692157829624,12.81772880292957],[10.836254841953835,11.032291487053781,11.228328132153727,11.424364777253672,11.620401422353618,11.816438067453564,12.01247471255351,12.208511357653457,12.404548002753403,12.60058464785335],[10.619110686877612,10.815147331977558,11.011183977077504,11.20722062217745,11.403257267277397,11.599293912377343,11.795330557477287,11.991367202577234,12.18740384767718,12.383440492777126],[10.401966531801389,10.598003176901335,10.794039822001281,10.990076467101227,11.186113112201173,11.38214975730112,11.578186402401066,11.77422304750101,11.970259692600957,12.166296337700903],[10.184822376725167,10.380859021825113,10.576895666925058,10.772932312025004,10.96896895712495,11.165005602224896,11.361042247324843,11.557078892424789,11.753115537524735,11.94915218262468]],\"type\":\"surface\"}],                        {\"template\":{\"data\":{\"histogram2dcontour\":[{\"type\":\"histogram2dcontour\",\"colorbar\":{\"outlinewidth\":0,\"ticks\":\"\"},\"colorscale\":[[0.0,\"#0d0887\"],[0.1111111111111111,\"#46039f\"],[0.2222222222222222,\"#7201a8\"],[0.3333333333333333,\"#9c179e\"],[0.4444444444444444,\"#bd3786\"],[0.5555555555555556,\"#d8576b\"],[0.6666666666666666,\"#ed7953\"],[0.7777777777777778,\"#fb9f3a\"],[0.8888888888888888,\"#fdca26\"],[1.0,\"#f0f921\"]]}],\"choropleth\":[{\"type\":\"choropleth\",\"colorbar\":{\"outlinewidth\":0,\"ticks\":\"\"}}],\"histogram2d\":[{\"type\":\"histogram2d\",\"colorbar\":{\"outlinewidth\":0,\"ticks\":\"\"},\"colorscale\":[[0.0,\"#0d0887\"],[0.1111111111111111,\"#46039f\"],[0.2222222222222222,\"#7201a8\"],[0.3333333333333333,\"#9c179e\"],[0.4444444444444444,\"#bd3786\"],[0.5555555555555556,\"#d8576b\"],[0.6666666666666666,\"#ed7953\"],[0.7777777777777778,\"#fb9f3a\"],[0.8888888888888888,\"#fdca26\"],[1.0,\"#f0f921\"]]}],\"heatmap\":[{\"type\":\"heatmap\",\"colorbar\":{\"outlinewidth\":0,\"ticks\":\"\"},\"colorscale\":[[0.0,\"#0d0887\"],[0.1111111111111111,\"#46039f\"],[0.2222222222222222,\"#7201a8\"],[0.3333333333333333,\"#9c179e\"],[0.4444444444444444,\"#bd3786\"],[0.5555555555555556,\"#d8576b\"],[0.6666666666666666,\"#ed7953\"],[0.7777777777777778,\"#fb9f3a\"],[0.8888888888888888,\"#fdca26\"],[1.0,\"#f0f921\"]]}],\"heatmapgl\":[{\"type\":\"heatmapgl\",\"colorbar\":{\"outlinewidth\":0,\"ticks\":\"\"},\"colorscale\":[[0.0,\"#0d0887\"],[0.1111111111111111,\"#46039f\"],[0.2222222222222222,\"#7201a8\"],[0.3333333333333333,\"#9c179e\"],[0.4444444444444444,\"#bd3786\"],[0.5555555555555556,\"#d8576b\"],[0.6666666666666666,\"#ed7953\"],[0.7777777777777778,\"#fb9f3a\"],[0.8888888888888888,\"#fdca26\"],[1.0,\"#f0f921\"]]}],\"contourcarpet\":[{\"type\":\"contourcarpet\",\"colorbar\":{\"outlinewidth\":0,\"ticks\":\"\"}}],\"contour\":[{\"type\":\"contour\",\"colorbar\":{\"outlinewidth\":0,\"ticks\":\"\"},\"colorscale\":[[0.0,\"#0d0887\"],[0.1111111111111111,\"#46039f\"],[0.2222222222222222,\"#7201a8\"],[0.3333333333333333,\"#9c179e\"],[0.4444444444444444,\"#bd3786\"],[0.5555555555555556,\"#d8576b\"],[0.6666666666666666,\"#ed7953\"],[0.7777777777777778,\"#fb9f3a\"],[0.8888888888888888,\"#fdca26\"],[1.0,\"#f0f921\"]]}],\"surface\":[{\"type\":\"surface\",\"colorbar\":{\"outlinewidth\":0,\"ticks\":\"\"},\"colorscale\":[[0.0,\"#0d0887\"],[0.1111111111111111,\"#46039f\"],[0.2222222222222222,\"#7201a8\"],[0.3333333333333333,\"#9c179e\"],[0.4444444444444444,\"#bd3786\"],[0.5555555555555556,\"#d8576b\"],[0.6666666666666666,\"#ed7953\"],[0.7777777777777778,\"#fb9f3a\"],[0.8888888888888888,\"#fdca26\"],[1.0,\"#f0f921\"]]}],\"mesh3d\":[{\"type\":\"mesh3d\",\"colorbar\":{\"outlinewidth\":0,\"ticks\":\"\"}}],\"scatter\":[{\"fillpattern\":{\"fillmode\":\"overlay\",\"size\":10,\"solidity\":0.2},\"type\":\"scatter\"}],\"parcoords\":[{\"type\":\"parcoords\",\"line\":{\"colorbar\":{\"outlinewidth\":0,\"ticks\":\"\"}}}],\"scatterpolargl\":[{\"type\":\"scatterpolargl\",\"marker\":{\"colorbar\":{\"outlinewidth\":0,\"ticks\":\"\"}}}],\"bar\":[{\"error_x\":{\"color\":\"#2a3f5f\"},\"error_y\":{\"color\":\"#2a3f5f\"},\"marker\":{\"line\":{\"color\":\"#E5ECF6\",\"width\":0.5},\"pattern\":{\"fillmode\":\"overlay\",\"size\":10,\"solidity\":0.2}},\"type\":\"bar\"}],\"scattergeo\":[{\"type\":\"scattergeo\",\"marker\":{\"colorbar\":{\"outlinewidth\":0,\"ticks\":\"\"}}}],\"scatterpolar\":[{\"type\":\"scatterpolar\",\"marker\":{\"colorbar\":{\"outlinewidth\":0,\"ticks\":\"\"}}}],\"histogram\":[{\"marker\":{\"pattern\":{\"fillmode\":\"overlay\",\"size\":10,\"solidity\":0.2}},\"type\":\"histogram\"}],\"scattergl\":[{\"type\":\"scattergl\",\"marker\":{\"colorbar\":{\"outlinewidth\":0,\"ticks\":\"\"}}}],\"scatter3d\":[{\"type\":\"scatter3d\",\"line\":{\"colorbar\":{\"outlinewidth\":0,\"ticks\":\"\"}},\"marker\":{\"colorbar\":{\"outlinewidth\":0,\"ticks\":\"\"}}}],\"scattermapbox\":[{\"type\":\"scattermapbox\",\"marker\":{\"colorbar\":{\"outlinewidth\":0,\"ticks\":\"\"}}}],\"scatterternary\":[{\"type\":\"scatterternary\",\"marker\":{\"colorbar\":{\"outlinewidth\":0,\"ticks\":\"\"}}}],\"scattercarpet\":[{\"type\":\"scattercarpet\",\"marker\":{\"colorbar\":{\"outlinewidth\":0,\"ticks\":\"\"}}}],\"carpet\":[{\"aaxis\":{\"endlinecolor\":\"#2a3f5f\",\"gridcolor\":\"white\",\"linecolor\":\"white\",\"minorgridcolor\":\"white\",\"startlinecolor\":\"#2a3f5f\"},\"baxis\":{\"endlinecolor\":\"#2a3f5f\",\"gridcolor\":\"white\",\"linecolor\":\"white\",\"minorgridcolor\":\"white\",\"startlinecolor\":\"#2a3f5f\"},\"type\":\"carpet\"}],\"table\":[{\"cells\":{\"fill\":{\"color\":\"#EBF0F8\"},\"line\":{\"color\":\"white\"}},\"header\":{\"fill\":{\"color\":\"#C8D4E3\"},\"line\":{\"color\":\"white\"}},\"type\":\"table\"}],\"barpolar\":[{\"marker\":{\"line\":{\"color\":\"#E5ECF6\",\"width\":0.5},\"pattern\":{\"fillmode\":\"overlay\",\"size\":10,\"solidity\":0.2}},\"type\":\"barpolar\"}],\"pie\":[{\"automargin\":true,\"type\":\"pie\"}]},\"layout\":{\"autotypenumbers\":\"strict\",\"colorway\":[\"#636efa\",\"#EF553B\",\"#00cc96\",\"#ab63fa\",\"#FFA15A\",\"#19d3f3\",\"#FF6692\",\"#B6E880\",\"#FF97FF\",\"#FECB52\"],\"font\":{\"color\":\"#2a3f5f\"},\"hovermode\":\"closest\",\"hoverlabel\":{\"align\":\"left\"},\"paper_bgcolor\":\"white\",\"plot_bgcolor\":\"#E5ECF6\",\"polar\":{\"bgcolor\":\"#E5ECF6\",\"angularaxis\":{\"gridcolor\":\"white\",\"linecolor\":\"white\",\"ticks\":\"\"},\"radialaxis\":{\"gridcolor\":\"white\",\"linecolor\":\"white\",\"ticks\":\"\"}},\"ternary\":{\"bgcolor\":\"#E5ECF6\",\"aaxis\":{\"gridcolor\":\"white\",\"linecolor\":\"white\",\"ticks\":\"\"},\"baxis\":{\"gridcolor\":\"white\",\"linecolor\":\"white\",\"ticks\":\"\"},\"caxis\":{\"gridcolor\":\"white\",\"linecolor\":\"white\",\"ticks\":\"\"}},\"coloraxis\":{\"colorbar\":{\"outlinewidth\":0,\"ticks\":\"\"}},\"colorscale\":{\"sequential\":[[0.0,\"#0d0887\"],[0.1111111111111111,\"#46039f\"],[0.2222222222222222,\"#7201a8\"],[0.3333333333333333,\"#9c179e\"],[0.4444444444444444,\"#bd3786\"],[0.5555555555555556,\"#d8576b\"],[0.6666666666666666,\"#ed7953\"],[0.7777777777777778,\"#fb9f3a\"],[0.8888888888888888,\"#fdca26\"],[1.0,\"#f0f921\"]],\"sequentialminus\":[[0.0,\"#0d0887\"],[0.1111111111111111,\"#46039f\"],[0.2222222222222222,\"#7201a8\"],[0.3333333333333333,\"#9c179e\"],[0.4444444444444444,\"#bd3786\"],[0.5555555555555556,\"#d8576b\"],[0.6666666666666666,\"#ed7953\"],[0.7777777777777778,\"#fb9f3a\"],[0.8888888888888888,\"#fdca26\"],[1.0,\"#f0f921\"]],\"diverging\":[[0,\"#8e0152\"],[0.1,\"#c51b7d\"],[0.2,\"#de77ae\"],[0.3,\"#f1b6da\"],[0.4,\"#fde0ef\"],[0.5,\"#f7f7f7\"],[0.6,\"#e6f5d0\"],[0.7,\"#b8e186\"],[0.8,\"#7fbc41\"],[0.9,\"#4d9221\"],[1,\"#276419\"]]},\"xaxis\":{\"gridcolor\":\"white\",\"linecolor\":\"white\",\"ticks\":\"\",\"title\":{\"standoff\":15},\"zerolinecolor\":\"white\",\"automargin\":true,\"zerolinewidth\":2},\"yaxis\":{\"gridcolor\":\"white\",\"linecolor\":\"white\",\"ticks\":\"\",\"title\":{\"standoff\":15},\"zerolinecolor\":\"white\",\"automargin\":true,\"zerolinewidth\":2},\"scene\":{\"xaxis\":{\"backgroundcolor\":\"#E5ECF6\",\"gridcolor\":\"white\",\"linecolor\":\"white\",\"showbackground\":true,\"ticks\":\"\",\"zerolinecolor\":\"white\",\"gridwidth\":2},\"yaxis\":{\"backgroundcolor\":\"#E5ECF6\",\"gridcolor\":\"white\",\"linecolor\":\"white\",\"showbackground\":true,\"ticks\":\"\",\"zerolinecolor\":\"white\",\"gridwidth\":2},\"zaxis\":{\"backgroundcolor\":\"#E5ECF6\",\"gridcolor\":\"white\",\"linecolor\":\"white\",\"showbackground\":true,\"ticks\":\"\",\"zerolinecolor\":\"white\",\"gridwidth\":2}},\"shapedefaults\":{\"line\":{\"color\":\"#2a3f5f\"}},\"annotationdefaults\":{\"arrowcolor\":\"#2a3f5f\",\"arrowhead\":0,\"arrowwidth\":1},\"geo\":{\"bgcolor\":\"white\",\"landcolor\":\"#E5ECF6\",\"subunitcolor\":\"white\",\"showland\":true,\"showlakes\":true,\"lakecolor\":\"white\"},\"title\":{\"x\":0.05},\"mapbox\":{\"style\":\"light\"}}},\"scene\":{\"domain\":{\"x\":[0.0,1.0],\"y\":[0.0,1.0]},\"xaxis\":{\"title\":{\"text\":\"x\"}},\"yaxis\":{\"title\":{\"text\":\"y\"}},\"zaxis\":{\"title\":{\"text\":\"z\"}}},\"legend\":{\"tracegroupgap\":0},\"margin\":{\"t\":60}},                        {\"responsive\": true}                    ).then(function(){\n",
       "                            \n",
       "var gd = document.getElementById('ac3f4222-7f79-47b0-8d70-a6d929ea7850');\n",
       "var x = new MutationObserver(function (mutations, observer) {{\n",
       "        var display = window.getComputedStyle(gd).display;\n",
       "        if (!display || display === 'none') {{\n",
       "            console.log([gd, 'removed!']);\n",
       "            Plotly.purge(gd);\n",
       "            observer.disconnect();\n",
       "        }}\n",
       "}});\n",
       "\n",
       "// Listen for the removal of the full notebook cells\n",
       "var notebookContainer = gd.closest('#notebook-container');\n",
       "if (notebookContainer) {{\n",
       "    x.observe(notebookContainer, {childList: true});\n",
       "}}\n",
       "\n",
       "// Listen for the clearing of the current output cell\n",
       "var outputEl = gd.closest('.output');\n",
       "if (outputEl) {{\n",
       "    x.observe(outputEl, {childList: true});\n",
       "}}\n",
       "\n",
       "                        })                };                });            </script>        </div>"
      ]
     },
     "metadata": {},
     "output_type": "display_data"
    }
   ],
   "source": [
    "import plotly.graph_objects as go\n",
    "\n",
    "fig = px.scatter_3d(df, x=x.ravel(), y=y.ravel(), z=z.ravel())\n",
    "\n",
    "fig.add_trace(go.Surface(x = x_input, y = y_input, z =z_final ))\n",
    "\n",
    "fig.show()"
   ]
  },
  {
   "cell_type": "code",
   "execution_count": 105,
   "id": "6e8b31df-1054-4789-879e-21f5d9542a48",
   "metadata": {},
   "outputs": [
    {
     "data": {
      "text/plain": [
       "(100, 2)"
      ]
     },
     "execution_count": 105,
     "metadata": {},
     "output_type": "execute_result"
    }
   ],
   "source": [
    "X_multi = np.array([x,y]).reshape(100,2)\n",
    "X_multi.shape"
   ]
  },
  {
   "cell_type": "code",
   "execution_count": 106,
   "id": "c0233fa1-340d-497d-b445-2d03b5ad4156",
   "metadata": {},
   "outputs": [],
   "source": [
    "poly = PolynomialFeatures(degree=30)\n",
    "X_multi_trans = poly.fit_transform(X_multi)"
   ]
  },
  {
   "cell_type": "code",
   "execution_count": 107,
   "id": "f301faa7-4137-4923-a42e-82e201fd7f2e",
   "metadata": {},
   "outputs": [
    {
     "name": "stdout",
     "output_type": "stream",
     "text": [
      "Input features: 2\n",
      "Output features: 496\n",
      "Powers:\n",
      " [[ 0  0]\n",
      " [ 1  0]\n",
      " [ 0  1]\n",
      " [ 2  0]\n",
      " [ 1  1]\n",
      " [ 0  2]\n",
      " [ 3  0]\n",
      " [ 2  1]\n",
      " [ 1  2]\n",
      " [ 0  3]\n",
      " [ 4  0]\n",
      " [ 3  1]\n",
      " [ 2  2]\n",
      " [ 1  3]\n",
      " [ 0  4]\n",
      " [ 5  0]\n",
      " [ 4  1]\n",
      " [ 3  2]\n",
      " [ 2  3]\n",
      " [ 1  4]\n",
      " [ 0  5]\n",
      " [ 6  0]\n",
      " [ 5  1]\n",
      " [ 4  2]\n",
      " [ 3  3]\n",
      " [ 2  4]\n",
      " [ 1  5]\n",
      " [ 0  6]\n",
      " [ 7  0]\n",
      " [ 6  1]\n",
      " [ 5  2]\n",
      " [ 4  3]\n",
      " [ 3  4]\n",
      " [ 2  5]\n",
      " [ 1  6]\n",
      " [ 0  7]\n",
      " [ 8  0]\n",
      " [ 7  1]\n",
      " [ 6  2]\n",
      " [ 5  3]\n",
      " [ 4  4]\n",
      " [ 3  5]\n",
      " [ 2  6]\n",
      " [ 1  7]\n",
      " [ 0  8]\n",
      " [ 9  0]\n",
      " [ 8  1]\n",
      " [ 7  2]\n",
      " [ 6  3]\n",
      " [ 5  4]\n",
      " [ 4  5]\n",
      " [ 3  6]\n",
      " [ 2  7]\n",
      " [ 1  8]\n",
      " [ 0  9]\n",
      " [10  0]\n",
      " [ 9  1]\n",
      " [ 8  2]\n",
      " [ 7  3]\n",
      " [ 6  4]\n",
      " [ 5  5]\n",
      " [ 4  6]\n",
      " [ 3  7]\n",
      " [ 2  8]\n",
      " [ 1  9]\n",
      " [ 0 10]\n",
      " [11  0]\n",
      " [10  1]\n",
      " [ 9  2]\n",
      " [ 8  3]\n",
      " [ 7  4]\n",
      " [ 6  5]\n",
      " [ 5  6]\n",
      " [ 4  7]\n",
      " [ 3  8]\n",
      " [ 2  9]\n",
      " [ 1 10]\n",
      " [ 0 11]\n",
      " [12  0]\n",
      " [11  1]\n",
      " [10  2]\n",
      " [ 9  3]\n",
      " [ 8  4]\n",
      " [ 7  5]\n",
      " [ 6  6]\n",
      " [ 5  7]\n",
      " [ 4  8]\n",
      " [ 3  9]\n",
      " [ 2 10]\n",
      " [ 1 11]\n",
      " [ 0 12]\n",
      " [13  0]\n",
      " [12  1]\n",
      " [11  2]\n",
      " [10  3]\n",
      " [ 9  4]\n",
      " [ 8  5]\n",
      " [ 7  6]\n",
      " [ 6  7]\n",
      " [ 5  8]\n",
      " [ 4  9]\n",
      " [ 3 10]\n",
      " [ 2 11]\n",
      " [ 1 12]\n",
      " [ 0 13]\n",
      " [14  0]\n",
      " [13  1]\n",
      " [12  2]\n",
      " [11  3]\n",
      " [10  4]\n",
      " [ 9  5]\n",
      " [ 8  6]\n",
      " [ 7  7]\n",
      " [ 6  8]\n",
      " [ 5  9]\n",
      " [ 4 10]\n",
      " [ 3 11]\n",
      " [ 2 12]\n",
      " [ 1 13]\n",
      " [ 0 14]\n",
      " [15  0]\n",
      " [14  1]\n",
      " [13  2]\n",
      " [12  3]\n",
      " [11  4]\n",
      " [10  5]\n",
      " [ 9  6]\n",
      " [ 8  7]\n",
      " [ 7  8]\n",
      " [ 6  9]\n",
      " [ 5 10]\n",
      " [ 4 11]\n",
      " [ 3 12]\n",
      " [ 2 13]\n",
      " [ 1 14]\n",
      " [ 0 15]\n",
      " [16  0]\n",
      " [15  1]\n",
      " [14  2]\n",
      " [13  3]\n",
      " [12  4]\n",
      " [11  5]\n",
      " [10  6]\n",
      " [ 9  7]\n",
      " [ 8  8]\n",
      " [ 7  9]\n",
      " [ 6 10]\n",
      " [ 5 11]\n",
      " [ 4 12]\n",
      " [ 3 13]\n",
      " [ 2 14]\n",
      " [ 1 15]\n",
      " [ 0 16]\n",
      " [17  0]\n",
      " [16  1]\n",
      " [15  2]\n",
      " [14  3]\n",
      " [13  4]\n",
      " [12  5]\n",
      " [11  6]\n",
      " [10  7]\n",
      " [ 9  8]\n",
      " [ 8  9]\n",
      " [ 7 10]\n",
      " [ 6 11]\n",
      " [ 5 12]\n",
      " [ 4 13]\n",
      " [ 3 14]\n",
      " [ 2 15]\n",
      " [ 1 16]\n",
      " [ 0 17]\n",
      " [18  0]\n",
      " [17  1]\n",
      " [16  2]\n",
      " [15  3]\n",
      " [14  4]\n",
      " [13  5]\n",
      " [12  6]\n",
      " [11  7]\n",
      " [10  8]\n",
      " [ 9  9]\n",
      " [ 8 10]\n",
      " [ 7 11]\n",
      " [ 6 12]\n",
      " [ 5 13]\n",
      " [ 4 14]\n",
      " [ 3 15]\n",
      " [ 2 16]\n",
      " [ 1 17]\n",
      " [ 0 18]\n",
      " [19  0]\n",
      " [18  1]\n",
      " [17  2]\n",
      " [16  3]\n",
      " [15  4]\n",
      " [14  5]\n",
      " [13  6]\n",
      " [12  7]\n",
      " [11  8]\n",
      " [10  9]\n",
      " [ 9 10]\n",
      " [ 8 11]\n",
      " [ 7 12]\n",
      " [ 6 13]\n",
      " [ 5 14]\n",
      " [ 4 15]\n",
      " [ 3 16]\n",
      " [ 2 17]\n",
      " [ 1 18]\n",
      " [ 0 19]\n",
      " [20  0]\n",
      " [19  1]\n",
      " [18  2]\n",
      " [17  3]\n",
      " [16  4]\n",
      " [15  5]\n",
      " [14  6]\n",
      " [13  7]\n",
      " [12  8]\n",
      " [11  9]\n",
      " [10 10]\n",
      " [ 9 11]\n",
      " [ 8 12]\n",
      " [ 7 13]\n",
      " [ 6 14]\n",
      " [ 5 15]\n",
      " [ 4 16]\n",
      " [ 3 17]\n",
      " [ 2 18]\n",
      " [ 1 19]\n",
      " [ 0 20]\n",
      " [21  0]\n",
      " [20  1]\n",
      " [19  2]\n",
      " [18  3]\n",
      " [17  4]\n",
      " [16  5]\n",
      " [15  6]\n",
      " [14  7]\n",
      " [13  8]\n",
      " [12  9]\n",
      " [11 10]\n",
      " [10 11]\n",
      " [ 9 12]\n",
      " [ 8 13]\n",
      " [ 7 14]\n",
      " [ 6 15]\n",
      " [ 5 16]\n",
      " [ 4 17]\n",
      " [ 3 18]\n",
      " [ 2 19]\n",
      " [ 1 20]\n",
      " [ 0 21]\n",
      " [22  0]\n",
      " [21  1]\n",
      " [20  2]\n",
      " [19  3]\n",
      " [18  4]\n",
      " [17  5]\n",
      " [16  6]\n",
      " [15  7]\n",
      " [14  8]\n",
      " [13  9]\n",
      " [12 10]\n",
      " [11 11]\n",
      " [10 12]\n",
      " [ 9 13]\n",
      " [ 8 14]\n",
      " [ 7 15]\n",
      " [ 6 16]\n",
      " [ 5 17]\n",
      " [ 4 18]\n",
      " [ 3 19]\n",
      " [ 2 20]\n",
      " [ 1 21]\n",
      " [ 0 22]\n",
      " [23  0]\n",
      " [22  1]\n",
      " [21  2]\n",
      " [20  3]\n",
      " [19  4]\n",
      " [18  5]\n",
      " [17  6]\n",
      " [16  7]\n",
      " [15  8]\n",
      " [14  9]\n",
      " [13 10]\n",
      " [12 11]\n",
      " [11 12]\n",
      " [10 13]\n",
      " [ 9 14]\n",
      " [ 8 15]\n",
      " [ 7 16]\n",
      " [ 6 17]\n",
      " [ 5 18]\n",
      " [ 4 19]\n",
      " [ 3 20]\n",
      " [ 2 21]\n",
      " [ 1 22]\n",
      " [ 0 23]\n",
      " [24  0]\n",
      " [23  1]\n",
      " [22  2]\n",
      " [21  3]\n",
      " [20  4]\n",
      " [19  5]\n",
      " [18  6]\n",
      " [17  7]\n",
      " [16  8]\n",
      " [15  9]\n",
      " [14 10]\n",
      " [13 11]\n",
      " [12 12]\n",
      " [11 13]\n",
      " [10 14]\n",
      " [ 9 15]\n",
      " [ 8 16]\n",
      " [ 7 17]\n",
      " [ 6 18]\n",
      " [ 5 19]\n",
      " [ 4 20]\n",
      " [ 3 21]\n",
      " [ 2 22]\n",
      " [ 1 23]\n",
      " [ 0 24]\n",
      " [25  0]\n",
      " [24  1]\n",
      " [23  2]\n",
      " [22  3]\n",
      " [21  4]\n",
      " [20  5]\n",
      " [19  6]\n",
      " [18  7]\n",
      " [17  8]\n",
      " [16  9]\n",
      " [15 10]\n",
      " [14 11]\n",
      " [13 12]\n",
      " [12 13]\n",
      " [11 14]\n",
      " [10 15]\n",
      " [ 9 16]\n",
      " [ 8 17]\n",
      " [ 7 18]\n",
      " [ 6 19]\n",
      " [ 5 20]\n",
      " [ 4 21]\n",
      " [ 3 22]\n",
      " [ 2 23]\n",
      " [ 1 24]\n",
      " [ 0 25]\n",
      " [26  0]\n",
      " [25  1]\n",
      " [24  2]\n",
      " [23  3]\n",
      " [22  4]\n",
      " [21  5]\n",
      " [20  6]\n",
      " [19  7]\n",
      " [18  8]\n",
      " [17  9]\n",
      " [16 10]\n",
      " [15 11]\n",
      " [14 12]\n",
      " [13 13]\n",
      " [12 14]\n",
      " [11 15]\n",
      " [10 16]\n",
      " [ 9 17]\n",
      " [ 8 18]\n",
      " [ 7 19]\n",
      " [ 6 20]\n",
      " [ 5 21]\n",
      " [ 4 22]\n",
      " [ 3 23]\n",
      " [ 2 24]\n",
      " [ 1 25]\n",
      " [ 0 26]\n",
      " [27  0]\n",
      " [26  1]\n",
      " [25  2]\n",
      " [24  3]\n",
      " [23  4]\n",
      " [22  5]\n",
      " [21  6]\n",
      " [20  7]\n",
      " [19  8]\n",
      " [18  9]\n",
      " [17 10]\n",
      " [16 11]\n",
      " [15 12]\n",
      " [14 13]\n",
      " [13 14]\n",
      " [12 15]\n",
      " [11 16]\n",
      " [10 17]\n",
      " [ 9 18]\n",
      " [ 8 19]\n",
      " [ 7 20]\n",
      " [ 6 21]\n",
      " [ 5 22]\n",
      " [ 4 23]\n",
      " [ 3 24]\n",
      " [ 2 25]\n",
      " [ 1 26]\n",
      " [ 0 27]\n",
      " [28  0]\n",
      " [27  1]\n",
      " [26  2]\n",
      " [25  3]\n",
      " [24  4]\n",
      " [23  5]\n",
      " [22  6]\n",
      " [21  7]\n",
      " [20  8]\n",
      " [19  9]\n",
      " [18 10]\n",
      " [17 11]\n",
      " [16 12]\n",
      " [15 13]\n",
      " [14 14]\n",
      " [13 15]\n",
      " [12 16]\n",
      " [11 17]\n",
      " [10 18]\n",
      " [ 9 19]\n",
      " [ 8 20]\n",
      " [ 7 21]\n",
      " [ 6 22]\n",
      " [ 5 23]\n",
      " [ 4 24]\n",
      " [ 3 25]\n",
      " [ 2 26]\n",
      " [ 1 27]\n",
      " [ 0 28]\n",
      " [29  0]\n",
      " [28  1]\n",
      " [27  2]\n",
      " [26  3]\n",
      " [25  4]\n",
      " [24  5]\n",
      " [23  6]\n",
      " [22  7]\n",
      " [21  8]\n",
      " [20  9]\n",
      " [19 10]\n",
      " [18 11]\n",
      " [17 12]\n",
      " [16 13]\n",
      " [15 14]\n",
      " [14 15]\n",
      " [13 16]\n",
      " [12 17]\n",
      " [11 18]\n",
      " [10 19]\n",
      " [ 9 20]\n",
      " [ 8 21]\n",
      " [ 7 22]\n",
      " [ 6 23]\n",
      " [ 5 24]\n",
      " [ 4 25]\n",
      " [ 3 26]\n",
      " [ 2 27]\n",
      " [ 1 28]\n",
      " [ 0 29]\n",
      " [30  0]\n",
      " [29  1]\n",
      " [28  2]\n",
      " [27  3]\n",
      " [26  4]\n",
      " [25  5]\n",
      " [24  6]\n",
      " [23  7]\n",
      " [22  8]\n",
      " [21  9]\n",
      " [20 10]\n",
      " [19 11]\n",
      " [18 12]\n",
      " [17 13]\n",
      " [16 14]\n",
      " [15 15]\n",
      " [14 16]\n",
      " [13 17]\n",
      " [12 18]\n",
      " [11 19]\n",
      " [10 20]\n",
      " [ 9 21]\n",
      " [ 8 22]\n",
      " [ 7 23]\n",
      " [ 6 24]\n",
      " [ 5 25]\n",
      " [ 4 26]\n",
      " [ 3 27]\n",
      " [ 2 28]\n",
      " [ 1 29]\n",
      " [ 0 30]]\n"
     ]
    }
   ],
   "source": [
    "\n",
    "print(\"Input features:\", poly.n_features_in_)\n",
    "print(\"Output features:\", poly.n_output_features_)\n",
    "print(\"Powers:\\n\", poly.powers_)\n",
    "\n"
   ]
  },
  {
   "cell_type": "code",
   "execution_count": null,
   "id": "f505d6ae-477d-401e-af72-f52da4a89c73",
   "metadata": {},
   "outputs": [],
   "source": []
  },
  {
   "cell_type": "code",
   "execution_count": null,
   "id": "152ff06b-89c4-4a7e-8a1f-e9e1027010a1",
   "metadata": {},
   "outputs": [],
   "source": []
  },
  {
   "cell_type": "code",
   "execution_count": 36,
   "id": "9ad274bd-97f7-4c2a-89dc-c92bc4509496",
   "metadata": {},
   "outputs": [
    {
     "data": {
      "text/plain": [
       "(100, 496)"
      ]
     },
     "execution_count": 36,
     "metadata": {},
     "output_type": "execute_result"
    }
   ],
   "source": [
    "X_multi_trans.shape"
   ]
  },
  {
   "cell_type": "code",
   "execution_count": 37,
   "id": "624dc19d-49da-4c6c-9f60-dacd6cc247f9",
   "metadata": {},
   "outputs": [
    {
     "data": {
      "text/html": [
       "<style>#sk-container-id-3 {\n",
       "  /* Definition of color scheme common for light and dark mode */\n",
       "  --sklearn-color-text: black;\n",
       "  --sklearn-color-line: gray;\n",
       "  /* Definition of color scheme for unfitted estimators */\n",
       "  --sklearn-color-unfitted-level-0: #fff5e6;\n",
       "  --sklearn-color-unfitted-level-1: #f6e4d2;\n",
       "  --sklearn-color-unfitted-level-2: #ffe0b3;\n",
       "  --sklearn-color-unfitted-level-3: chocolate;\n",
       "  /* Definition of color scheme for fitted estimators */\n",
       "  --sklearn-color-fitted-level-0: #f0f8ff;\n",
       "  --sklearn-color-fitted-level-1: #d4ebff;\n",
       "  --sklearn-color-fitted-level-2: #b3dbfd;\n",
       "  --sklearn-color-fitted-level-3: cornflowerblue;\n",
       "\n",
       "  /* Specific color for light theme */\n",
       "  --sklearn-color-text-on-default-background: var(--sg-text-color, var(--theme-code-foreground, var(--jp-content-font-color1, black)));\n",
       "  --sklearn-color-background: var(--sg-background-color, var(--theme-background, var(--jp-layout-color0, white)));\n",
       "  --sklearn-color-border-box: var(--sg-text-color, var(--theme-code-foreground, var(--jp-content-font-color1, black)));\n",
       "  --sklearn-color-icon: #696969;\n",
       "\n",
       "  @media (prefers-color-scheme: dark) {\n",
       "    /* Redefinition of color scheme for dark theme */\n",
       "    --sklearn-color-text-on-default-background: var(--sg-text-color, var(--theme-code-foreground, var(--jp-content-font-color1, white)));\n",
       "    --sklearn-color-background: var(--sg-background-color, var(--theme-background, var(--jp-layout-color0, #111)));\n",
       "    --sklearn-color-border-box: var(--sg-text-color, var(--theme-code-foreground, var(--jp-content-font-color1, white)));\n",
       "    --sklearn-color-icon: #878787;\n",
       "  }\n",
       "}\n",
       "\n",
       "#sk-container-id-3 {\n",
       "  color: var(--sklearn-color-text);\n",
       "}\n",
       "\n",
       "#sk-container-id-3 pre {\n",
       "  padding: 0;\n",
       "}\n",
       "\n",
       "#sk-container-id-3 input.sk-hidden--visually {\n",
       "  border: 0;\n",
       "  clip: rect(1px 1px 1px 1px);\n",
       "  clip: rect(1px, 1px, 1px, 1px);\n",
       "  height: 1px;\n",
       "  margin: -1px;\n",
       "  overflow: hidden;\n",
       "  padding: 0;\n",
       "  position: absolute;\n",
       "  width: 1px;\n",
       "}\n",
       "\n",
       "#sk-container-id-3 div.sk-dashed-wrapped {\n",
       "  border: 1px dashed var(--sklearn-color-line);\n",
       "  margin: 0 0.4em 0.5em 0.4em;\n",
       "  box-sizing: border-box;\n",
       "  padding-bottom: 0.4em;\n",
       "  background-color: var(--sklearn-color-background);\n",
       "}\n",
       "\n",
       "#sk-container-id-3 div.sk-container {\n",
       "  /* jupyter's `normalize.less` sets `[hidden] { display: none; }`\n",
       "     but bootstrap.min.css set `[hidden] { display: none !important; }`\n",
       "     so we also need the `!important` here to be able to override the\n",
       "     default hidden behavior on the sphinx rendered scikit-learn.org.\n",
       "     See: https://github.com/scikit-learn/scikit-learn/issues/21755 */\n",
       "  display: inline-block !important;\n",
       "  position: relative;\n",
       "}\n",
       "\n",
       "#sk-container-id-3 div.sk-text-repr-fallback {\n",
       "  display: none;\n",
       "}\n",
       "\n",
       "div.sk-parallel-item,\n",
       "div.sk-serial,\n",
       "div.sk-item {\n",
       "  /* draw centered vertical line to link estimators */\n",
       "  background-image: linear-gradient(var(--sklearn-color-text-on-default-background), var(--sklearn-color-text-on-default-background));\n",
       "  background-size: 2px 100%;\n",
       "  background-repeat: no-repeat;\n",
       "  background-position: center center;\n",
       "}\n",
       "\n",
       "/* Parallel-specific style estimator block */\n",
       "\n",
       "#sk-container-id-3 div.sk-parallel-item::after {\n",
       "  content: \"\";\n",
       "  width: 100%;\n",
       "  border-bottom: 2px solid var(--sklearn-color-text-on-default-background);\n",
       "  flex-grow: 1;\n",
       "}\n",
       "\n",
       "#sk-container-id-3 div.sk-parallel {\n",
       "  display: flex;\n",
       "  align-items: stretch;\n",
       "  justify-content: center;\n",
       "  background-color: var(--sklearn-color-background);\n",
       "  position: relative;\n",
       "}\n",
       "\n",
       "#sk-container-id-3 div.sk-parallel-item {\n",
       "  display: flex;\n",
       "  flex-direction: column;\n",
       "}\n",
       "\n",
       "#sk-container-id-3 div.sk-parallel-item:first-child::after {\n",
       "  align-self: flex-end;\n",
       "  width: 50%;\n",
       "}\n",
       "\n",
       "#sk-container-id-3 div.sk-parallel-item:last-child::after {\n",
       "  align-self: flex-start;\n",
       "  width: 50%;\n",
       "}\n",
       "\n",
       "#sk-container-id-3 div.sk-parallel-item:only-child::after {\n",
       "  width: 0;\n",
       "}\n",
       "\n",
       "/* Serial-specific style estimator block */\n",
       "\n",
       "#sk-container-id-3 div.sk-serial {\n",
       "  display: flex;\n",
       "  flex-direction: column;\n",
       "  align-items: center;\n",
       "  background-color: var(--sklearn-color-background);\n",
       "  padding-right: 1em;\n",
       "  padding-left: 1em;\n",
       "}\n",
       "\n",
       "\n",
       "/* Toggleable style: style used for estimator/Pipeline/ColumnTransformer box that is\n",
       "clickable and can be expanded/collapsed.\n",
       "- Pipeline and ColumnTransformer use this feature and define the default style\n",
       "- Estimators will overwrite some part of the style using the `sk-estimator` class\n",
       "*/\n",
       "\n",
       "/* Pipeline and ColumnTransformer style (default) */\n",
       "\n",
       "#sk-container-id-3 div.sk-toggleable {\n",
       "  /* Default theme specific background. It is overwritten whether we have a\n",
       "  specific estimator or a Pipeline/ColumnTransformer */\n",
       "  background-color: var(--sklearn-color-background);\n",
       "}\n",
       "\n",
       "/* Toggleable label */\n",
       "#sk-container-id-3 label.sk-toggleable__label {\n",
       "  cursor: pointer;\n",
       "  display: block;\n",
       "  width: 100%;\n",
       "  margin-bottom: 0;\n",
       "  padding: 0.5em;\n",
       "  box-sizing: border-box;\n",
       "  text-align: center;\n",
       "}\n",
       "\n",
       "#sk-container-id-3 label.sk-toggleable__label-arrow:before {\n",
       "  /* Arrow on the left of the label */\n",
       "  content: \"▸\";\n",
       "  float: left;\n",
       "  margin-right: 0.25em;\n",
       "  color: var(--sklearn-color-icon);\n",
       "}\n",
       "\n",
       "#sk-container-id-3 label.sk-toggleable__label-arrow:hover:before {\n",
       "  color: var(--sklearn-color-text);\n",
       "}\n",
       "\n",
       "/* Toggleable content - dropdown */\n",
       "\n",
       "#sk-container-id-3 div.sk-toggleable__content {\n",
       "  max-height: 0;\n",
       "  max-width: 0;\n",
       "  overflow: hidden;\n",
       "  text-align: left;\n",
       "  /* unfitted */\n",
       "  background-color: var(--sklearn-color-unfitted-level-0);\n",
       "}\n",
       "\n",
       "#sk-container-id-3 div.sk-toggleable__content.fitted {\n",
       "  /* fitted */\n",
       "  background-color: var(--sklearn-color-fitted-level-0);\n",
       "}\n",
       "\n",
       "#sk-container-id-3 div.sk-toggleable__content pre {\n",
       "  margin: 0.2em;\n",
       "  border-radius: 0.25em;\n",
       "  color: var(--sklearn-color-text);\n",
       "  /* unfitted */\n",
       "  background-color: var(--sklearn-color-unfitted-level-0);\n",
       "}\n",
       "\n",
       "#sk-container-id-3 div.sk-toggleable__content.fitted pre {\n",
       "  /* unfitted */\n",
       "  background-color: var(--sklearn-color-fitted-level-0);\n",
       "}\n",
       "\n",
       "#sk-container-id-3 input.sk-toggleable__control:checked~div.sk-toggleable__content {\n",
       "  /* Expand drop-down */\n",
       "  max-height: 200px;\n",
       "  max-width: 100%;\n",
       "  overflow: auto;\n",
       "}\n",
       "\n",
       "#sk-container-id-3 input.sk-toggleable__control:checked~label.sk-toggleable__label-arrow:before {\n",
       "  content: \"▾\";\n",
       "}\n",
       "\n",
       "/* Pipeline/ColumnTransformer-specific style */\n",
       "\n",
       "#sk-container-id-3 div.sk-label input.sk-toggleable__control:checked~label.sk-toggleable__label {\n",
       "  color: var(--sklearn-color-text);\n",
       "  background-color: var(--sklearn-color-unfitted-level-2);\n",
       "}\n",
       "\n",
       "#sk-container-id-3 div.sk-label.fitted input.sk-toggleable__control:checked~label.sk-toggleable__label {\n",
       "  background-color: var(--sklearn-color-fitted-level-2);\n",
       "}\n",
       "\n",
       "/* Estimator-specific style */\n",
       "\n",
       "/* Colorize estimator box */\n",
       "#sk-container-id-3 div.sk-estimator input.sk-toggleable__control:checked~label.sk-toggleable__label {\n",
       "  /* unfitted */\n",
       "  background-color: var(--sklearn-color-unfitted-level-2);\n",
       "}\n",
       "\n",
       "#sk-container-id-3 div.sk-estimator.fitted input.sk-toggleable__control:checked~label.sk-toggleable__label {\n",
       "  /* fitted */\n",
       "  background-color: var(--sklearn-color-fitted-level-2);\n",
       "}\n",
       "\n",
       "#sk-container-id-3 div.sk-label label.sk-toggleable__label,\n",
       "#sk-container-id-3 div.sk-label label {\n",
       "  /* The background is the default theme color */\n",
       "  color: var(--sklearn-color-text-on-default-background);\n",
       "}\n",
       "\n",
       "/* On hover, darken the color of the background */\n",
       "#sk-container-id-3 div.sk-label:hover label.sk-toggleable__label {\n",
       "  color: var(--sklearn-color-text);\n",
       "  background-color: var(--sklearn-color-unfitted-level-2);\n",
       "}\n",
       "\n",
       "/* Label box, darken color on hover, fitted */\n",
       "#sk-container-id-3 div.sk-label.fitted:hover label.sk-toggleable__label.fitted {\n",
       "  color: var(--sklearn-color-text);\n",
       "  background-color: var(--sklearn-color-fitted-level-2);\n",
       "}\n",
       "\n",
       "/* Estimator label */\n",
       "\n",
       "#sk-container-id-3 div.sk-label label {\n",
       "  font-family: monospace;\n",
       "  font-weight: bold;\n",
       "  display: inline-block;\n",
       "  line-height: 1.2em;\n",
       "}\n",
       "\n",
       "#sk-container-id-3 div.sk-label-container {\n",
       "  text-align: center;\n",
       "}\n",
       "\n",
       "/* Estimator-specific */\n",
       "#sk-container-id-3 div.sk-estimator {\n",
       "  font-family: monospace;\n",
       "  border: 1px dotted var(--sklearn-color-border-box);\n",
       "  border-radius: 0.25em;\n",
       "  box-sizing: border-box;\n",
       "  margin-bottom: 0.5em;\n",
       "  /* unfitted */\n",
       "  background-color: var(--sklearn-color-unfitted-level-0);\n",
       "}\n",
       "\n",
       "#sk-container-id-3 div.sk-estimator.fitted {\n",
       "  /* fitted */\n",
       "  background-color: var(--sklearn-color-fitted-level-0);\n",
       "}\n",
       "\n",
       "/* on hover */\n",
       "#sk-container-id-3 div.sk-estimator:hover {\n",
       "  /* unfitted */\n",
       "  background-color: var(--sklearn-color-unfitted-level-2);\n",
       "}\n",
       "\n",
       "#sk-container-id-3 div.sk-estimator.fitted:hover {\n",
       "  /* fitted */\n",
       "  background-color: var(--sklearn-color-fitted-level-2);\n",
       "}\n",
       "\n",
       "/* Specification for estimator info (e.g. \"i\" and \"?\") */\n",
       "\n",
       "/* Common style for \"i\" and \"?\" */\n",
       "\n",
       ".sk-estimator-doc-link,\n",
       "a:link.sk-estimator-doc-link,\n",
       "a:visited.sk-estimator-doc-link {\n",
       "  float: right;\n",
       "  font-size: smaller;\n",
       "  line-height: 1em;\n",
       "  font-family: monospace;\n",
       "  background-color: var(--sklearn-color-background);\n",
       "  border-radius: 1em;\n",
       "  height: 1em;\n",
       "  width: 1em;\n",
       "  text-decoration: none !important;\n",
       "  margin-left: 1ex;\n",
       "  /* unfitted */\n",
       "  border: var(--sklearn-color-unfitted-level-1) 1pt solid;\n",
       "  color: var(--sklearn-color-unfitted-level-1);\n",
       "}\n",
       "\n",
       ".sk-estimator-doc-link.fitted,\n",
       "a:link.sk-estimator-doc-link.fitted,\n",
       "a:visited.sk-estimator-doc-link.fitted {\n",
       "  /* fitted */\n",
       "  border: var(--sklearn-color-fitted-level-1) 1pt solid;\n",
       "  color: var(--sklearn-color-fitted-level-1);\n",
       "}\n",
       "\n",
       "/* On hover */\n",
       "div.sk-estimator:hover .sk-estimator-doc-link:hover,\n",
       ".sk-estimator-doc-link:hover,\n",
       "div.sk-label-container:hover .sk-estimator-doc-link:hover,\n",
       ".sk-estimator-doc-link:hover {\n",
       "  /* unfitted */\n",
       "  background-color: var(--sklearn-color-unfitted-level-3);\n",
       "  color: var(--sklearn-color-background);\n",
       "  text-decoration: none;\n",
       "}\n",
       "\n",
       "div.sk-estimator.fitted:hover .sk-estimator-doc-link.fitted:hover,\n",
       ".sk-estimator-doc-link.fitted:hover,\n",
       "div.sk-label-container:hover .sk-estimator-doc-link.fitted:hover,\n",
       ".sk-estimator-doc-link.fitted:hover {\n",
       "  /* fitted */\n",
       "  background-color: var(--sklearn-color-fitted-level-3);\n",
       "  color: var(--sklearn-color-background);\n",
       "  text-decoration: none;\n",
       "}\n",
       "\n",
       "/* Span, style for the box shown on hovering the info icon */\n",
       ".sk-estimator-doc-link span {\n",
       "  display: none;\n",
       "  z-index: 9999;\n",
       "  position: relative;\n",
       "  font-weight: normal;\n",
       "  right: .2ex;\n",
       "  padding: .5ex;\n",
       "  margin: .5ex;\n",
       "  width: min-content;\n",
       "  min-width: 20ex;\n",
       "  max-width: 50ex;\n",
       "  color: var(--sklearn-color-text);\n",
       "  box-shadow: 2pt 2pt 4pt #999;\n",
       "  /* unfitted */\n",
       "  background: var(--sklearn-color-unfitted-level-0);\n",
       "  border: .5pt solid var(--sklearn-color-unfitted-level-3);\n",
       "}\n",
       "\n",
       ".sk-estimator-doc-link.fitted span {\n",
       "  /* fitted */\n",
       "  background: var(--sklearn-color-fitted-level-0);\n",
       "  border: var(--sklearn-color-fitted-level-3);\n",
       "}\n",
       "\n",
       ".sk-estimator-doc-link:hover span {\n",
       "  display: block;\n",
       "}\n",
       "\n",
       "/* \"?\"-specific style due to the `<a>` HTML tag */\n",
       "\n",
       "#sk-container-id-3 a.estimator_doc_link {\n",
       "  float: right;\n",
       "  font-size: 1rem;\n",
       "  line-height: 1em;\n",
       "  font-family: monospace;\n",
       "  background-color: var(--sklearn-color-background);\n",
       "  border-radius: 1rem;\n",
       "  height: 1rem;\n",
       "  width: 1rem;\n",
       "  text-decoration: none;\n",
       "  /* unfitted */\n",
       "  color: var(--sklearn-color-unfitted-level-1);\n",
       "  border: var(--sklearn-color-unfitted-level-1) 1pt solid;\n",
       "}\n",
       "\n",
       "#sk-container-id-3 a.estimator_doc_link.fitted {\n",
       "  /* fitted */\n",
       "  border: var(--sklearn-color-fitted-level-1) 1pt solid;\n",
       "  color: var(--sklearn-color-fitted-level-1);\n",
       "}\n",
       "\n",
       "/* On hover */\n",
       "#sk-container-id-3 a.estimator_doc_link:hover {\n",
       "  /* unfitted */\n",
       "  background-color: var(--sklearn-color-unfitted-level-3);\n",
       "  color: var(--sklearn-color-background);\n",
       "  text-decoration: none;\n",
       "}\n",
       "\n",
       "#sk-container-id-3 a.estimator_doc_link.fitted:hover {\n",
       "  /* fitted */\n",
       "  background-color: var(--sklearn-color-fitted-level-3);\n",
       "}\n",
       "</style><div id=\"sk-container-id-3\" class=\"sk-top-container\"><div class=\"sk-text-repr-fallback\"><pre>LinearRegression()</pre><b>In a Jupyter environment, please rerun this cell to show the HTML representation or trust the notebook. <br />On GitHub, the HTML representation is unable to render, please try loading this page with nbviewer.org.</b></div><div class=\"sk-container\" hidden><div class=\"sk-item\"><div class=\"sk-estimator fitted sk-toggleable\"><input class=\"sk-toggleable__control sk-hidden--visually\" id=\"sk-estimator-id-3\" type=\"checkbox\" checked><label for=\"sk-estimator-id-3\" class=\"sk-toggleable__label fitted sk-toggleable__label-arrow fitted\">&nbsp;&nbsp;LinearRegression<a class=\"sk-estimator-doc-link fitted\" rel=\"noreferrer\" target=\"_blank\" href=\"https://scikit-learn.org/1.4/modules/generated/sklearn.linear_model.LinearRegression.html\">?<span>Documentation for LinearRegression</span></a><span class=\"sk-estimator-doc-link fitted\">i<span>Fitted</span></span></label><div class=\"sk-toggleable__content fitted\"><pre>LinearRegression()</pre></div> </div></div></div></div>"
      ],
      "text/plain": [
       "LinearRegression()"
      ]
     },
     "execution_count": 37,
     "metadata": {},
     "output_type": "execute_result"
    }
   ],
   "source": [
    "lr = LinearRegression()\n",
    "lr.fit(X_multi_trans,z)"
   ]
  },
  {
   "cell_type": "code",
   "execution_count": 38,
   "id": "60dfcce6-b4ca-47b4-8086-189ca4184a74",
   "metadata": {},
   "outputs": [],
   "source": [
    "X_test_multi = poly.transform(final)"
   ]
  },
  {
   "cell_type": "code",
   "execution_count": 39,
   "id": "134217e1-850d-404c-979c-d4e3ed714c4e",
   "metadata": {},
   "outputs": [],
   "source": [
    "z_final = lr.predict(X_multi_trans).reshape(10,10)"
   ]
  },
  {
   "cell_type": "code",
   "execution_count": 40,
   "id": "ec9f7115-cad0-46e2-b4ad-e2069543b983",
   "metadata": {},
   "outputs": [
    {
     "data": {
      "application/vnd.plotly.v1+json": {
       "config": {
        "plotlyServerURL": "https://plot.ly"
       },
       "data": [
        {
         "hovertemplate": "x=%{x}<br>y=%{y}<br>z=%{z}<extra></extra>",
         "legendgroup": "",
         "marker": {
          "color": "#636efa",
          "symbol": "circle"
         },
         "mode": "markers",
         "name": "",
         "scene": "scene",
         "showlegend": false,
         "type": "scatter3d",
         "x": [
          0.6742660515473116,
          2.095645692727828,
          -2.1107493912691853,
          0.7654895283522238,
          0.45773847325546724,
          2.8249457775121405,
          2.742468495492256,
          -2.1076696045047907,
          -0.22885104446138627,
          -1.250770007765941,
          -1.4518451497121707,
          -0.5104066182093598,
          1.901626371147887,
          3.5338735470529565,
          2.260948590393018,
          3.16975457614115,
          2.391894565352211,
          1.44988096842971,
          -1.3766952963292818,
          2.270205960395619,
          3.808418219968698,
          -1.411235953069597,
          -2.3987291096842793,
          -1.3997569707798072,
          -1.8832082531899665,
          0.7246506342294601,
          -2.799114632174084,
          2.9858480314593594,
          1.3318306561947644,
          3.182690395934066,
          1.89002639249959,
          2.710307827501258,
          1.6855711695578055,
          -0.12129297576697162,
          -2.587080970248589,
          2.9197823401025413,
          -1.8568544563782905,
          -0.8560431537119917,
          0.7438706868555043,
          2.1818014069813856,
          3.259076624306177,
          1.200034696245167,
          2.9213219006389908,
          1.0076695470540824,
          3.6290868319138045,
          2.7502829708448218,
          -0.4633169921068303,
          -1.1585028518112361,
          -1.5863186059661767,
          1.065898705478335,
          3.8008196133169303,
          -1.2557123447604985,
          3.6808306853763195,
          0.8871902982961242,
          1.3066008153882933,
          3.123382515628866,
          1.1046968150131131,
          0.42952928864445594,
          2.857514953204946,
          3.1552942455283253,
          2.1041859549945086,
          2.6253176651497627,
          -0.8919021613387681,
          -0.7560358495171968,
          -0.2458442976142976,
          -0.0021763189551515794,
          3.1993373545391073,
          -2.4984194245705256,
          2.6721367728014966,
          3.2064846169975274,
          -1.9946138718432045,
          -0.8915002938044889,
          0.9337140588348083,
          -1.86331252283762,
          0.3408838311847804,
          -0.9030428107110535,
          -2.6514766863614434,
          2.449507622464049,
          0.8780998850367379,
          1.7217569916283555,
          3.5228687487025496,
          -1.3150857369066276,
          -0.6911785986287904,
          2.51298271330798,
          2.209427800308986,
          -2.4318288987606174,
          -1.5186363161328624,
          3.9948266009198354,
          -0.803469648088253,
          3.815018808929806,
          -0.46381595052223856,
          -1.3014206255889629,
          0.6559635569450872,
          -0.4941481489622994,
          0.9967486724818295,
          2.0603114848223054,
          -2.106445586716677,
          3.3504854148335,
          0.016250261433092383,
          0.4903562109407056
         ],
         "y": [
          -1.5053443386642669,
          0.43588201476603317,
          1.5496022640295228,
          4.0453421065869115,
          -1.6140279401432231,
          -2.4774681656487925,
          -0.03962436563747218,
          2.804689895154861,
          0.8318501750957363,
          -0.029354726339578807,
          2.3898801410318145,
          3.167074001793525,
          -2.4739732812329627,
          -0.244229848637461,
          -0.4983169700500518,
          0.1655323285057313,
          -0.8524067057223028,
          -2.6444674944128796,
          2.0503259141138246,
          -1.7533741061861692,
          2.8151249862808996,
          -2.745858477134679,
          2.0777850966136366,
          0.7162050885948847,
          2.5964421190696925,
          3.204403255652946,
          0.03179544023859826,
          2.412518324002156,
          1.3486988084193845,
          0.9430483337693105,
          2.0043897541851274,
          -2.5344452266843236,
          -1.3417253069239432,
          -0.4788912019479774,
          -2.0337085887187762,
          -1.1157390933207858,
          -1.785622797393241,
          3.3290208848259617,
          2.192847580467416,
          0.3391034648232827,
          0.45673753397428385,
          2.075412491592764,
          0.02534194515247634,
          -0.04963347128531437,
          0.01319312556362462,
          0.6081803828481491,
          1.5907930359056461,
          4.069891370871693,
          -2.1538109427051846,
          1.3416949416611965,
          0.8849453207214584,
          -1.5698624044112959,
          1.3510606708814938,
          3.7998718995532075,
          -1.8322138336274227,
          0.416289216613976,
          -0.5469164440942826,
          -1.1173576878160763,
          -0.857600204390403,
          2.883273906203132,
          3.958992120539671,
          2.845583642218961,
          1.6563889290580764,
          -2.1707535174135946,
          2.875382382278784,
          -0.5763136188427751,
          2.82317193250097,
          -0.9646122075908317,
          -1.1437345006614545,
          0.3313307211022267,
          2.372674027824604,
          0.77861634106947,
          0.8333428399635618,
          -0.11135060347675507,
          1.2464361811038556,
          3.876636163888251,
          2.1443310485142533,
          0.8521930752706934,
          -0.3844916413897064,
          0.3282259158772698,
          1.2230010591401772,
          -0.4093345381530966,
          -1.844096871766245,
          -2.1528003868427743,
          0.23506307477171884,
          -0.2789715566290152,
          0.6903028755958749,
          -2.6241496914366875,
          -1.180543215229434,
          3.79949662884429,
          -2.206159887822448,
          -0.3839293309286882,
          3.8975116683362163,
          -2.5045354450960726,
          -2.5543801728081417,
          2.384492779189036,
          0.11654403065523233,
          3.352935934617414,
          3.3198926648621123,
          -2.2308557191551057
         ],
         "z": [
          4.594919869070008,
          5.773644121456153,
          7.3912213235325455,
          20.385768442258424,
          3.6648789795190675,
          15.332403418622121,
          9.023210499359795,
          13.350928218754035,
          2.183027865389853,
          3.075586881048934,
          8.782097725653978,
          14.15579878293297,
          12.04561650133929,
          15.367640729436992,
          6.859799919223278,
          11.75961857456673,
          7.861763487129965,
          9.404611369404504,
          8.123235009792726,
          10.839690904774708,
          27.86301226780447,
          11.410076200235798,
          11.981867577051242,
          3.966320502629339,
          11.056974072117153,
          15.677392361390304,
          10.188161696389784,
          19.770486073872032,
          8.692576511739892,
          15.914330692840789,
          12.272160029752236,
          15.37353985117786,
          5.088729728708126,
          1.1368156456842375,
          10.936415390625976,
          12.309988976072795,
          8.610721966989512,
          14.620379135699066,
          10.36312328038651,
          7.305013621131955,
          14.267054630170295,
          7.060848398101383,
          10.715518795586872,
          2.7966716990314087,
          16.194042206164063,
          11.695037456594948,
          4.026749938477329,
          21.783702649547756,
          8.920610950677023,
          4.3064875063355945,
          19.96775068954391,
          5.185291720231089,
          18.77523395974504,
          19.441416873348583,
          7.824771994201854,
          12.75839909008764,
          5.421306807313016,
          5.312041965597875,
          12.017751850367437,
          21.64642404378908,
          23.782825298265788,
          19.02845986802934,
          4.825354779241591,
          6.923049062228271,
          10.22439079069402,
          2.1816353121086087,
          21.825648916702455,
          7.875347718959885,
          11.080342185129505,
          12.515649152789894,
          9.60262130571313,
          2.807142008680145,
          5.145356153881049,
          5.385076858539062,
          3.4941928973276877,
          16.352495202771983,
          13.481214329632888,
          10.033655689364306,
          3.574311291939279,
          5.487189247313397,
          17.03532741520502,
          3.2367797757936074,
          5.709400996849851,
          11.51468635648572,
          6.283034773243175,
          6.698574336591283,
          6.414591607538956,
          23.39984910225521,
          4.999676241903249,
          33.160513824701326,
          7.1573749443402965,
          3.801871914019445,
          16.39095248829886,
          6.9659246069625596,
          8.726745185799935,
          14.411182749229186,
          7.016188122505935,
          26.124043350069368,
          12.590819915285477,
          7.070357986565976
         ]
        },
        {
         "type": "surface",
         "x": [
          -2.799114632174084,
          -2.0442322729414264,
          -1.2893499137087687,
          -0.534467554476111,
          0.22041480475654662,
          0.9752971639892043,
          1.730179523221862,
          2.485061882454519,
          3.2399442416871773,
          3.9948266009198354
         ],
         "y": [
          -2.745858477134679,
          -1.9885529384673044,
          -1.2312473997999298,
          -0.473941861132555,
          0.2833636775348194,
          1.0406692162021938,
          1.797974754869569,
          2.5552802935369434,
          3.312585832204318,
          4.069891370871693
         ],
         "z": [
          [
           4.503955887873195,
           5.799782598973939,
           6.095292130253034,
           20.3134265707347,
           9.116124880682264,
           18.0090958438303,
           9.01975913508864,
           13.865909533343034,
           2.292140661972331,
           3.0060861207318847
          ],
          [
           8.795138315996843,
           12.336756863399165,
           11.977661831058645,
           15.371067957720475,
           6.409810023150163,
           14.00318546942504,
           7.788608897841561,
           9.402949290117936,
           8.043064488848136,
           10.771276473457652
          ],
          [
           27.855477289995868,
           11.58350230916472,
           11.986788706621843,
           9.036266859890523,
           10.98991899054045,
           15.685030894121843,
           10.188364939531999,
           20.372834043345172,
           9.02578367779112,
           15.94780631526442
          ],
          [
           14.684827899328189,
           9.018793950769497,
           9.016814872026284,
           1.137133555254655,
           10.461930231890397,
           12.232548448694393,
           8.54004445738173,
           9.016880033800588,
           10.312514262041764,
           7.233604352534991
          ],
          [
           14.27040381892653,
           7.022358436254541,
           11.154981517932134,
           2.7574185894343426,
           16.186167673907,
           9.291281186498416,
           9.016809383745958,
           21.715220886053665,
           8.921247439226823,
           9.016815835512785
          ],
          [
           19.785612401976657,
           5.177340464434343,
           19.171620733570997,
           19.16856008186074,
           9.016886471452723,
           11.727210001787858,
           6.137061824789958,
           9.01681923237857,
           11.873577659717517,
           21.574495121779144
          ],
          [
           23.7812079952571,
           18.959915213884194,
           5.663311915240007,
           6.847803299024923,
           10.205443089382237,
           1.8204010862398317,
           11.334574238346296,
           7.788828158489883,
           11.07498808368178,
           12.450538915204339
          ],
          [
           9.531469102283841,
           9.016813097884624,
           9.016816642022633,
           5.320040659746843,
           3.4633745634353144,
           16.27069151235822,
           13.477084116778093,
           9.96307645301818,
           9.02581862615658,
           5.924698186806159
          ],
          [
           17.042696909746844,
           3.1669333635006804,
           5.426945106825547,
           11.813976006350236,
           9.099007129070849,
           6.671069845092239,
           9.016883233449839,
           23.402316050371844,
           4.934379202285305,
           9.016815337749028
          ],
          [
           9.08440798488618,
           3.8308543244900246,
           9.016810546872042,
           7.199704930885451,
           8.726962046465593,
           14.348796307226399,
           7.020724253496843,
           26.2537467048976,
           12.603173212847429,
           7.069998698076921
          ]
         ]
        }
       ],
       "layout": {
        "autosize": true,
        "legend": {
         "tracegroupgap": 0
        },
        "margin": {
         "t": 60
        },
        "scene": {
         "aspectmode": "auto",
         "aspectratio": {
          "x": 1,
          "y": 1,
          "z": 1
         },
         "camera": {
          "center": {
           "x": 0,
           "y": 0,
           "z": 0
          },
          "eye": {
           "x": 1.039854032874572,
           "y": 1.0398540328745722,
           "z": 1.0398540328745722
          },
          "projection": {
           "type": "perspective"
          },
          "up": {
           "x": -0.1156747086774216,
           "y": 0.1310737581984304,
           "z": 0.9846009504789913
          }
         },
         "domain": {
          "x": [
           0,
           1
          ],
          "y": [
           0,
           1
          ]
         },
         "xaxis": {
          "title": {
           "text": "x"
          },
          "type": "linear"
         },
         "yaxis": {
          "title": {
           "text": "y"
          },
          "type": "linear"
         },
         "zaxis": {
          "range": [
           0,
           35
          ],
          "title": {
           "text": "z"
          },
          "type": "linear"
         }
        },
        "template": {
         "data": {
          "bar": [
           {
            "error_x": {
             "color": "#2a3f5f"
            },
            "error_y": {
             "color": "#2a3f5f"
            },
            "marker": {
             "line": {
              "color": "#E5ECF6",
              "width": 0.5
             },
             "pattern": {
              "fillmode": "overlay",
              "size": 10,
              "solidity": 0.2
             }
            },
            "type": "bar"
           }
          ],
          "barpolar": [
           {
            "marker": {
             "line": {
              "color": "#E5ECF6",
              "width": 0.5
             },
             "pattern": {
              "fillmode": "overlay",
              "size": 10,
              "solidity": 0.2
             }
            },
            "type": "barpolar"
           }
          ],
          "carpet": [
           {
            "aaxis": {
             "endlinecolor": "#2a3f5f",
             "gridcolor": "white",
             "linecolor": "white",
             "minorgridcolor": "white",
             "startlinecolor": "#2a3f5f"
            },
            "baxis": {
             "endlinecolor": "#2a3f5f",
             "gridcolor": "white",
             "linecolor": "white",
             "minorgridcolor": "white",
             "startlinecolor": "#2a3f5f"
            },
            "type": "carpet"
           }
          ],
          "choropleth": [
           {
            "colorbar": {
             "outlinewidth": 0,
             "ticks": ""
            },
            "type": "choropleth"
           }
          ],
          "contour": [
           {
            "colorbar": {
             "outlinewidth": 0,
             "ticks": ""
            },
            "colorscale": [
             [
              0,
              "#0d0887"
             ],
             [
              0.1111111111111111,
              "#46039f"
             ],
             [
              0.2222222222222222,
              "#7201a8"
             ],
             [
              0.3333333333333333,
              "#9c179e"
             ],
             [
              0.4444444444444444,
              "#bd3786"
             ],
             [
              0.5555555555555556,
              "#d8576b"
             ],
             [
              0.6666666666666666,
              "#ed7953"
             ],
             [
              0.7777777777777778,
              "#fb9f3a"
             ],
             [
              0.8888888888888888,
              "#fdca26"
             ],
             [
              1,
              "#f0f921"
             ]
            ],
            "type": "contour"
           }
          ],
          "contourcarpet": [
           {
            "colorbar": {
             "outlinewidth": 0,
             "ticks": ""
            },
            "type": "contourcarpet"
           }
          ],
          "heatmap": [
           {
            "colorbar": {
             "outlinewidth": 0,
             "ticks": ""
            },
            "colorscale": [
             [
              0,
              "#0d0887"
             ],
             [
              0.1111111111111111,
              "#46039f"
             ],
             [
              0.2222222222222222,
              "#7201a8"
             ],
             [
              0.3333333333333333,
              "#9c179e"
             ],
             [
              0.4444444444444444,
              "#bd3786"
             ],
             [
              0.5555555555555556,
              "#d8576b"
             ],
             [
              0.6666666666666666,
              "#ed7953"
             ],
             [
              0.7777777777777778,
              "#fb9f3a"
             ],
             [
              0.8888888888888888,
              "#fdca26"
             ],
             [
              1,
              "#f0f921"
             ]
            ],
            "type": "heatmap"
           }
          ],
          "heatmapgl": [
           {
            "colorbar": {
             "outlinewidth": 0,
             "ticks": ""
            },
            "colorscale": [
             [
              0,
              "#0d0887"
             ],
             [
              0.1111111111111111,
              "#46039f"
             ],
             [
              0.2222222222222222,
              "#7201a8"
             ],
             [
              0.3333333333333333,
              "#9c179e"
             ],
             [
              0.4444444444444444,
              "#bd3786"
             ],
             [
              0.5555555555555556,
              "#d8576b"
             ],
             [
              0.6666666666666666,
              "#ed7953"
             ],
             [
              0.7777777777777778,
              "#fb9f3a"
             ],
             [
              0.8888888888888888,
              "#fdca26"
             ],
             [
              1,
              "#f0f921"
             ]
            ],
            "type": "heatmapgl"
           }
          ],
          "histogram": [
           {
            "marker": {
             "pattern": {
              "fillmode": "overlay",
              "size": 10,
              "solidity": 0.2
             }
            },
            "type": "histogram"
           }
          ],
          "histogram2d": [
           {
            "colorbar": {
             "outlinewidth": 0,
             "ticks": ""
            },
            "colorscale": [
             [
              0,
              "#0d0887"
             ],
             [
              0.1111111111111111,
              "#46039f"
             ],
             [
              0.2222222222222222,
              "#7201a8"
             ],
             [
              0.3333333333333333,
              "#9c179e"
             ],
             [
              0.4444444444444444,
              "#bd3786"
             ],
             [
              0.5555555555555556,
              "#d8576b"
             ],
             [
              0.6666666666666666,
              "#ed7953"
             ],
             [
              0.7777777777777778,
              "#fb9f3a"
             ],
             [
              0.8888888888888888,
              "#fdca26"
             ],
             [
              1,
              "#f0f921"
             ]
            ],
            "type": "histogram2d"
           }
          ],
          "histogram2dcontour": [
           {
            "colorbar": {
             "outlinewidth": 0,
             "ticks": ""
            },
            "colorscale": [
             [
              0,
              "#0d0887"
             ],
             [
              0.1111111111111111,
              "#46039f"
             ],
             [
              0.2222222222222222,
              "#7201a8"
             ],
             [
              0.3333333333333333,
              "#9c179e"
             ],
             [
              0.4444444444444444,
              "#bd3786"
             ],
             [
              0.5555555555555556,
              "#d8576b"
             ],
             [
              0.6666666666666666,
              "#ed7953"
             ],
             [
              0.7777777777777778,
              "#fb9f3a"
             ],
             [
              0.8888888888888888,
              "#fdca26"
             ],
             [
              1,
              "#f0f921"
             ]
            ],
            "type": "histogram2dcontour"
           }
          ],
          "mesh3d": [
           {
            "colorbar": {
             "outlinewidth": 0,
             "ticks": ""
            },
            "type": "mesh3d"
           }
          ],
          "parcoords": [
           {
            "line": {
             "colorbar": {
              "outlinewidth": 0,
              "ticks": ""
             }
            },
            "type": "parcoords"
           }
          ],
          "pie": [
           {
            "automargin": true,
            "type": "pie"
           }
          ],
          "scatter": [
           {
            "fillpattern": {
             "fillmode": "overlay",
             "size": 10,
             "solidity": 0.2
            },
            "type": "scatter"
           }
          ],
          "scatter3d": [
           {
            "line": {
             "colorbar": {
              "outlinewidth": 0,
              "ticks": ""
             }
            },
            "marker": {
             "colorbar": {
              "outlinewidth": 0,
              "ticks": ""
             }
            },
            "type": "scatter3d"
           }
          ],
          "scattercarpet": [
           {
            "marker": {
             "colorbar": {
              "outlinewidth": 0,
              "ticks": ""
             }
            },
            "type": "scattercarpet"
           }
          ],
          "scattergeo": [
           {
            "marker": {
             "colorbar": {
              "outlinewidth": 0,
              "ticks": ""
             }
            },
            "type": "scattergeo"
           }
          ],
          "scattergl": [
           {
            "marker": {
             "colorbar": {
              "outlinewidth": 0,
              "ticks": ""
             }
            },
            "type": "scattergl"
           }
          ],
          "scattermapbox": [
           {
            "marker": {
             "colorbar": {
              "outlinewidth": 0,
              "ticks": ""
             }
            },
            "type": "scattermapbox"
           }
          ],
          "scatterpolar": [
           {
            "marker": {
             "colorbar": {
              "outlinewidth": 0,
              "ticks": ""
             }
            },
            "type": "scatterpolar"
           }
          ],
          "scatterpolargl": [
           {
            "marker": {
             "colorbar": {
              "outlinewidth": 0,
              "ticks": ""
             }
            },
            "type": "scatterpolargl"
           }
          ],
          "scatterternary": [
           {
            "marker": {
             "colorbar": {
              "outlinewidth": 0,
              "ticks": ""
             }
            },
            "type": "scatterternary"
           }
          ],
          "surface": [
           {
            "colorbar": {
             "outlinewidth": 0,
             "ticks": ""
            },
            "colorscale": [
             [
              0,
              "#0d0887"
             ],
             [
              0.1111111111111111,
              "#46039f"
             ],
             [
              0.2222222222222222,
              "#7201a8"
             ],
             [
              0.3333333333333333,
              "#9c179e"
             ],
             [
              0.4444444444444444,
              "#bd3786"
             ],
             [
              0.5555555555555556,
              "#d8576b"
             ],
             [
              0.6666666666666666,
              "#ed7953"
             ],
             [
              0.7777777777777778,
              "#fb9f3a"
             ],
             [
              0.8888888888888888,
              "#fdca26"
             ],
             [
              1,
              "#f0f921"
             ]
            ],
            "type": "surface"
           }
          ],
          "table": [
           {
            "cells": {
             "fill": {
              "color": "#EBF0F8"
             },
             "line": {
              "color": "white"
             }
            },
            "header": {
             "fill": {
              "color": "#C8D4E3"
             },
             "line": {
              "color": "white"
             }
            },
            "type": "table"
           }
          ]
         },
         "layout": {
          "annotationdefaults": {
           "arrowcolor": "#2a3f5f",
           "arrowhead": 0,
           "arrowwidth": 1
          },
          "autotypenumbers": "strict",
          "coloraxis": {
           "colorbar": {
            "outlinewidth": 0,
            "ticks": ""
           }
          },
          "colorscale": {
           "diverging": [
            [
             0,
             "#8e0152"
            ],
            [
             0.1,
             "#c51b7d"
            ],
            [
             0.2,
             "#de77ae"
            ],
            [
             0.3,
             "#f1b6da"
            ],
            [
             0.4,
             "#fde0ef"
            ],
            [
             0.5,
             "#f7f7f7"
            ],
            [
             0.6,
             "#e6f5d0"
            ],
            [
             0.7,
             "#b8e186"
            ],
            [
             0.8,
             "#7fbc41"
            ],
            [
             0.9,
             "#4d9221"
            ],
            [
             1,
             "#276419"
            ]
           ],
           "sequential": [
            [
             0,
             "#0d0887"
            ],
            [
             0.1111111111111111,
             "#46039f"
            ],
            [
             0.2222222222222222,
             "#7201a8"
            ],
            [
             0.3333333333333333,
             "#9c179e"
            ],
            [
             0.4444444444444444,
             "#bd3786"
            ],
            [
             0.5555555555555556,
             "#d8576b"
            ],
            [
             0.6666666666666666,
             "#ed7953"
            ],
            [
             0.7777777777777778,
             "#fb9f3a"
            ],
            [
             0.8888888888888888,
             "#fdca26"
            ],
            [
             1,
             "#f0f921"
            ]
           ],
           "sequentialminus": [
            [
             0,
             "#0d0887"
            ],
            [
             0.1111111111111111,
             "#46039f"
            ],
            [
             0.2222222222222222,
             "#7201a8"
            ],
            [
             0.3333333333333333,
             "#9c179e"
            ],
            [
             0.4444444444444444,
             "#bd3786"
            ],
            [
             0.5555555555555556,
             "#d8576b"
            ],
            [
             0.6666666666666666,
             "#ed7953"
            ],
            [
             0.7777777777777778,
             "#fb9f3a"
            ],
            [
             0.8888888888888888,
             "#fdca26"
            ],
            [
             1,
             "#f0f921"
            ]
           ]
          },
          "colorway": [
           "#636efa",
           "#EF553B",
           "#00cc96",
           "#ab63fa",
           "#FFA15A",
           "#19d3f3",
           "#FF6692",
           "#B6E880",
           "#FF97FF",
           "#FECB52"
          ],
          "font": {
           "color": "#2a3f5f"
          },
          "geo": {
           "bgcolor": "white",
           "lakecolor": "white",
           "landcolor": "#E5ECF6",
           "showlakes": true,
           "showland": true,
           "subunitcolor": "white"
          },
          "hoverlabel": {
           "align": "left"
          },
          "hovermode": "closest",
          "mapbox": {
           "style": "light"
          },
          "paper_bgcolor": "white",
          "plot_bgcolor": "#E5ECF6",
          "polar": {
           "angularaxis": {
            "gridcolor": "white",
            "linecolor": "white",
            "ticks": ""
           },
           "bgcolor": "#E5ECF6",
           "radialaxis": {
            "gridcolor": "white",
            "linecolor": "white",
            "ticks": ""
           }
          },
          "scene": {
           "xaxis": {
            "backgroundcolor": "#E5ECF6",
            "gridcolor": "white",
            "gridwidth": 2,
            "linecolor": "white",
            "showbackground": true,
            "ticks": "",
            "zerolinecolor": "white"
           },
           "yaxis": {
            "backgroundcolor": "#E5ECF6",
            "gridcolor": "white",
            "gridwidth": 2,
            "linecolor": "white",
            "showbackground": true,
            "ticks": "",
            "zerolinecolor": "white"
           },
           "zaxis": {
            "backgroundcolor": "#E5ECF6",
            "gridcolor": "white",
            "gridwidth": 2,
            "linecolor": "white",
            "showbackground": true,
            "ticks": "",
            "zerolinecolor": "white"
           }
          },
          "shapedefaults": {
           "line": {
            "color": "#2a3f5f"
           }
          },
          "ternary": {
           "aaxis": {
            "gridcolor": "white",
            "linecolor": "white",
            "ticks": ""
           },
           "baxis": {
            "gridcolor": "white",
            "linecolor": "white",
            "ticks": ""
           },
           "bgcolor": "#E5ECF6",
           "caxis": {
            "gridcolor": "white",
            "linecolor": "white",
            "ticks": ""
           }
          },
          "title": {
           "x": 0.05
          },
          "xaxis": {
           "automargin": true,
           "gridcolor": "white",
           "linecolor": "white",
           "ticks": "",
           "title": {
            "standoff": 15
           },
           "zerolinecolor": "white",
           "zerolinewidth": 2
          },
          "yaxis": {
           "automargin": true,
           "gridcolor": "white",
           "linecolor": "white",
           "ticks": "",
           "title": {
            "standoff": 15
           },
           "zerolinecolor": "white",
           "zerolinewidth": 2
          }
         }
        }
       }
      },
      "image/png": "[encoded data removed]",
      "text/html": [
       "<div>                            <div id=\"9efe2549-6889-4bb8-9b2f-70b28c61c3c8\" class=\"plotly-graph-div\" style=\"height:525px; width:100%;\"></div>            <script type=\"text/javascript\">                require([\"plotly\"], function(Plotly) {                    window.PLOTLYENV=window.PLOTLYENV || {};                                    if (document.getElementById(\"9efe2549-6889-4bb8-9b2f-70b28c61c3c8\")) {                    Plotly.newPlot(                        \"9efe2549-6889-4bb8-9b2f-70b28c61c3c8\",                        [{\"hovertemplate\":\"x=%{x}\\u003cbr\\u003ey=%{y}\\u003cbr\\u003ez=%{z}\\u003cextra\\u003e\\u003c\\u002fextra\\u003e\",\"legendgroup\":\"\",\"marker\":{\"color\":\"#636efa\",\"symbol\":\"circle\"},\"mode\":\"markers\",\"name\":\"\",\"scene\":\"scene\",\"showlegend\":false,\"x\":[0.6742660515473116,2.095645692727828,-2.1107493912691853,0.7654895283522238,0.45773847325546724,2.8249457775121405,2.742468495492256,-2.1076696045047907,-0.22885104446138627,-1.250770007765941,-1.4518451497121707,-0.5104066182093598,1.901626371147887,3.5338735470529565,2.260948590393018,3.16975457614115,2.391894565352211,1.44988096842971,-1.3766952963292818,2.270205960395619,3.808418219968698,-1.411235953069597,-2.3987291096842793,-1.3997569707798072,-1.8832082531899665,0.7246506342294601,-2.799114632174084,2.9858480314593594,1.3318306561947644,3.182690395934066,1.89002639249959,2.710307827501258,1.6855711695578055,-0.12129297576697162,-2.587080970248589,2.9197823401025413,-1.8568544563782905,-0.8560431537119917,0.7438706868555043,2.1818014069813856,3.259076624306177,1.200034696245167,2.9213219006389908,1.0076695470540824,3.6290868319138045,2.7502829708448218,-0.4633169921068303,-1.1585028518112361,-1.5863186059661767,1.065898705478335,3.8008196133169303,-1.2557123447604985,3.6808306853763195,0.8871902982961242,1.3066008153882933,3.123382515628866,1.1046968150131131,0.42952928864445594,2.857514953204946,3.1552942455283253,2.1041859549945086,2.6253176651497627,-0.8919021613387681,-0.7560358495171968,-0.2458442976142976,-0.0021763189551515794,3.1993373545391073,-2.4984194245705256,2.6721367728014966,3.2064846169975274,-1.9946138718432045,-0.8915002938044889,0.9337140588348083,-1.86331252283762,0.3408838311847804,-0.9030428107110535,-2.6514766863614434,2.449507622464049,0.8780998850367379,1.7217569916283555,3.5228687487025496,-1.3150857369066276,-0.6911785986287904,2.51298271330798,2.209427800308986,-2.4318288987606174,-1.5186363161328624,3.9948266009198354,-0.803469648088253,3.815018808929806,-0.46381595052223856,-1.3014206255889629,0.6559635569450872,-0.4941481489622994,0.9967486724818295,2.0603114848223054,-2.106445586716677,3.3504854148335,0.016250261433092383,0.4903562109407056],\"y\":[-1.5053443386642669,0.43588201476603317,1.5496022640295228,4.0453421065869115,-1.6140279401432231,-2.4774681656487925,-0.03962436563747218,2.804689895154861,0.8318501750957363,-0.029354726339578807,2.3898801410318145,3.167074001793525,-2.4739732812329627,-0.244229848637461,-0.4983169700500518,0.1655323285057313,-0.8524067057223028,-2.6444674944128796,2.0503259141138246,-1.7533741061861692,2.8151249862808996,-2.745858477134679,2.0777850966136366,0.7162050885948847,2.5964421190696925,3.204403255652946,0.03179544023859826,2.412518324002156,1.3486988084193845,0.9430483337693105,2.0043897541851274,-2.5344452266843236,-1.3417253069239432,-0.4788912019479774,-2.0337085887187762,-1.1157390933207858,-1.785622797393241,3.3290208848259617,2.192847580467416,0.3391034648232827,0.45673753397428385,2.075412491592764,0.02534194515247634,-0.04963347128531437,0.01319312556362462,0.6081803828481491,1.5907930359056461,4.069891370871693,-2.1538109427051846,1.3416949416611965,0.8849453207214584,-1.5698624044112959,1.3510606708814938,3.7998718995532075,-1.8322138336274227,0.416289216613976,-0.5469164440942826,-1.1173576878160763,-0.857600204390403,2.883273906203132,3.958992120539671,2.845583642218961,1.6563889290580764,-2.1707535174135946,2.875382382278784,-0.5763136188427751,2.82317193250097,-0.9646122075908317,-1.1437345006614545,0.3313307211022267,2.372674027824604,0.77861634106947,0.8333428399635618,-0.11135060347675507,1.2464361811038556,3.876636163888251,2.1443310485142533,0.8521930752706934,-0.3844916413897064,0.3282259158772698,1.2230010591401772,-0.4093345381530966,-1.844096871766245,-2.1528003868427743,0.23506307477171884,-0.2789715566290152,0.6903028755958749,-2.6241496914366875,-1.180543215229434,3.79949662884429,-2.206159887822448,-0.3839293309286882,3.8975116683362163,-2.5045354450960726,-2.5543801728081417,2.384492779189036,0.11654403065523233,3.352935934617414,3.3198926648621123,-2.2308557191551057],\"z\":[4.594919869070008,5.773644121456153,7.3912213235325455,20.385768442258424,3.6648789795190675,15.332403418622121,9.023210499359795,13.350928218754035,2.183027865389853,3.075586881048934,8.782097725653978,14.15579878293297,12.04561650133929,15.367640729436992,6.859799919223278,11.75961857456673,7.861763487129965,9.404611369404504,8.123235009792726,10.839690904774708,27.86301226780447,11.410076200235798,11.981867577051242,3.966320502629339,11.056974072117153,15.677392361390304,10.188161696389784,19.770486073872032,8.692576511739892,15.914330692840789,12.272160029752236,15.37353985117786,5.088729728708126,1.1368156456842375,10.936415390625976,12.309988976072795,8.610721966989512,14.620379135699066,10.36312328038651,7.305013621131955,14.267054630170295,7.060848398101383,10.715518795586872,2.7966716990314087,16.194042206164063,11.695037456594948,4.026749938477329,21.783702649547756,8.920610950677023,4.3064875063355945,19.96775068954391,5.185291720231089,18.77523395974504,19.441416873348583,7.824771994201854,12.75839909008764,5.421306807313016,5.312041965597875,12.017751850367437,21.64642404378908,23.782825298265788,19.02845986802934,4.825354779241591,6.923049062228271,10.22439079069402,2.1816353121086087,21.825648916702455,7.875347718959885,11.080342185129505,12.515649152789894,9.60262130571313,2.807142008680145,5.145356153881049,5.385076858539062,3.4941928973276877,16.352495202771983,13.481214329632888,10.033655689364306,3.574311291939279,5.487189247313397,17.03532741520502,3.2367797757936074,5.709400996849851,11.51468635648572,6.283034773243175,6.698574336591283,6.414591607538956,23.39984910225521,4.999676241903249,33.160513824701326,7.1573749443402965,3.801871914019445,16.39095248829886,6.9659246069625596,8.726745185799935,14.411182749229186,7.016188122505935,26.124043350069368,12.590819915285477,7.070357986565976],\"type\":\"scatter3d\"},{\"x\":[-2.799114632174084,-2.0442322729414264,-1.2893499137087687,-0.534467554476111,0.22041480475654662,0.9752971639892043,1.730179523221862,2.485061882454519,3.2399442416871773,3.9948266009198354],\"y\":[-2.745858477134679,-1.9885529384673044,-1.2312473997999298,-0.473941861132555,0.2833636775348194,1.0406692162021938,1.797974754869569,2.5552802935369434,3.312585832204318,4.069891370871693],\"z\":[[4.503955887873195,5.799782598973939,6.095292130253034,20.3134265707347,9.116124880682264,18.0090958438303,9.01975913508864,13.865909533343034,2.292140661972331,3.0060861207318847],[8.795138315996843,12.336756863399165,11.977661831058645,15.371067957720475,6.409810023150163,14.00318546942504,7.788608897841561,9.402949290117936,8.043064488848136,10.771276473457652],[27.855477289995868,11.58350230916472,11.986788706621843,9.036266859890523,10.98991899054045,15.685030894121843,10.188364939531999,20.372834043345172,9.02578367779112,15.94780631526442],[14.684827899328189,9.018793950769497,9.016814872026284,1.137133555254655,10.461930231890397,12.232548448694393,8.54004445738173,9.016880033800588,10.312514262041764,7.233604352534991],[14.27040381892653,7.022358436254541,11.154981517932134,2.7574185894343426,16.186167673907,9.291281186498416,9.016809383745958,21.715220886053665,8.921247439226823,9.016815835512785],[19.785612401976657,5.177340464434343,19.171620733570997,19.16856008186074,9.016886471452723,11.727210001787858,6.137061824789958,9.01681923237857,11.873577659717517,21.574495121779144],[23.7812079952571,18.959915213884194,5.663311915240007,6.847803299024923,10.205443089382237,1.8204010862398317,11.334574238346296,7.788828158489883,11.07498808368178,12.450538915204339],[9.531469102283841,9.016813097884624,9.016816642022633,5.320040659746843,3.4633745634353144,16.27069151235822,13.477084116778093,9.96307645301818,9.02581862615658,5.924698186806159],[17.042696909746844,3.1669333635006804,5.426945106825547,11.813976006350236,9.099007129070849,6.671069845092239,9.016883233449839,23.402316050371844,4.934379202285305,9.016815337749028],[9.08440798488618,3.8308543244900246,9.016810546872042,7.199704930885451,8.726962046465593,14.348796307226399,7.020724253496843,26.2537467048976,12.603173212847429,7.069998698076921]],\"type\":\"surface\"}],                        {\"template\":{\"data\":{\"histogram2dcontour\":[{\"type\":\"histogram2dcontour\",\"colorbar\":{\"outlinewidth\":0,\"ticks\":\"\"},\"colorscale\":[[0.0,\"#0d0887\"],[0.1111111111111111,\"#46039f\"],[0.2222222222222222,\"#7201a8\"],[0.3333333333333333,\"#9c179e\"],[0.4444444444444444,\"#bd3786\"],[0.5555555555555556,\"#d8576b\"],[0.6666666666666666,\"#ed7953\"],[0.7777777777777778,\"#fb9f3a\"],[0.8888888888888888,\"#fdca26\"],[1.0,\"#f0f921\"]]}],\"choropleth\":[{\"type\":\"choropleth\",\"colorbar\":{\"outlinewidth\":0,\"ticks\":\"\"}}],\"histogram2d\":[{\"type\":\"histogram2d\",\"colorbar\":{\"outlinewidth\":0,\"ticks\":\"\"},\"colorscale\":[[0.0,\"#0d0887\"],[0.1111111111111111,\"#46039f\"],[0.2222222222222222,\"#7201a8\"],[0.3333333333333333,\"#9c179e\"],[0.4444444444444444,\"#bd3786\"],[0.5555555555555556,\"#d8576b\"],[0.6666666666666666,\"#ed7953\"],[0.7777777777777778,\"#fb9f3a\"],[0.8888888888888888,\"#fdca26\"],[1.0,\"#f0f921\"]]}],\"heatmap\":[{\"type\":\"heatmap\",\"colorbar\":{\"outlinewidth\":0,\"ticks\":\"\"},\"colorscale\":[[0.0,\"#0d0887\"],[0.1111111111111111,\"#46039f\"],[0.2222222222222222,\"#7201a8\"],[0.3333333333333333,\"#9c179e\"],[0.4444444444444444,\"#bd3786\"],[0.5555555555555556,\"#d8576b\"],[0.6666666666666666,\"#ed7953\"],[0.7777777777777778,\"#fb9f3a\"],[0.8888888888888888,\"#fdca26\"],[1.0,\"#f0f921\"]]}],\"heatmapgl\":[{\"type\":\"heatmapgl\",\"colorbar\":{\"outlinewidth\":0,\"ticks\":\"\"},\"colorscale\":[[0.0,\"#0d0887\"],[0.1111111111111111,\"#46039f\"],[0.2222222222222222,\"#7201a8\"],[0.3333333333333333,\"#9c179e\"],[0.4444444444444444,\"#bd3786\"],[0.5555555555555556,\"#d8576b\"],[0.6666666666666666,\"#ed7953\"],[0.7777777777777778,\"#fb9f3a\"],[0.8888888888888888,\"#fdca26\"],[1.0,\"#f0f921\"]]}],\"contourcarpet\":[{\"type\":\"contourcarpet\",\"colorbar\":{\"outlinewidth\":0,\"ticks\":\"\"}}],\"contour\":[{\"type\":\"contour\",\"colorbar\":{\"outlinewidth\":0,\"ticks\":\"\"},\"colorscale\":[[0.0,\"#0d0887\"],[0.1111111111111111,\"#46039f\"],[0.2222222222222222,\"#7201a8\"],[0.3333333333333333,\"#9c179e\"],[0.4444444444444444,\"#bd3786\"],[0.5555555555555556,\"#d8576b\"],[0.6666666666666666,\"#ed7953\"],[0.7777777777777778,\"#fb9f3a\"],[0.8888888888888888,\"#fdca26\"],[1.0,\"#f0f921\"]]}],\"surface\":[{\"type\":\"surface\",\"colorbar\":{\"outlinewidth\":0,\"ticks\":\"\"},\"colorscale\":[[0.0,\"#0d0887\"],[0.1111111111111111,\"#46039f\"],[0.2222222222222222,\"#7201a8\"],[0.3333333333333333,\"#9c179e\"],[0.4444444444444444,\"#bd3786\"],[0.5555555555555556,\"#d8576b\"],[0.6666666666666666,\"#ed7953\"],[0.7777777777777778,\"#fb9f3a\"],[0.8888888888888888,\"#fdca26\"],[1.0,\"#f0f921\"]]}],\"mesh3d\":[{\"type\":\"mesh3d\",\"colorbar\":{\"outlinewidth\":0,\"ticks\":\"\"}}],\"scatter\":[{\"fillpattern\":{\"fillmode\":\"overlay\",\"size\":10,\"solidity\":0.2},\"type\":\"scatter\"}],\"parcoords\":[{\"type\":\"parcoords\",\"line\":{\"colorbar\":{\"outlinewidth\":0,\"ticks\":\"\"}}}],\"scatterpolargl\":[{\"type\":\"scatterpolargl\",\"marker\":{\"colorbar\":{\"outlinewidth\":0,\"ticks\":\"\"}}}],\"bar\":[{\"error_x\":{\"color\":\"#2a3f5f\"},\"error_y\":{\"color\":\"#2a3f5f\"},\"marker\":{\"line\":{\"color\":\"#E5ECF6\",\"width\":0.5},\"pattern\":{\"fillmode\":\"overlay\",\"size\":10,\"solidity\":0.2}},\"type\":\"bar\"}],\"scattergeo\":[{\"type\":\"scattergeo\",\"marker\":{\"colorbar\":{\"outlinewidth\":0,\"ticks\":\"\"}}}],\"scatterpolar\":[{\"type\":\"scatterpolar\",\"marker\":{\"colorbar\":{\"outlinewidth\":0,\"ticks\":\"\"}}}],\"histogram\":[{\"marker\":{\"pattern\":{\"fillmode\":\"overlay\",\"size\":10,\"solidity\":0.2}},\"type\":\"histogram\"}],\"scattergl\":[{\"type\":\"scattergl\",\"marker\":{\"colorbar\":{\"outlinewidth\":0,\"ticks\":\"\"}}}],\"scatter3d\":[{\"type\":\"scatter3d\",\"line\":{\"colorbar\":{\"outlinewidth\":0,\"ticks\":\"\"}},\"marker\":{\"colorbar\":{\"outlinewidth\":0,\"ticks\":\"\"}}}],\"scattermapbox\":[{\"type\":\"scattermapbox\",\"marker\":{\"colorbar\":{\"outlinewidth\":0,\"ticks\":\"\"}}}],\"scatterternary\":[{\"type\":\"scatterternary\",\"marker\":{\"colorbar\":{\"outlinewidth\":0,\"ticks\":\"\"}}}],\"scattercarpet\":[{\"type\":\"scattercarpet\",\"marker\":{\"colorbar\":{\"outlinewidth\":0,\"ticks\":\"\"}}}],\"carpet\":[{\"aaxis\":{\"endlinecolor\":\"#2a3f5f\",\"gridcolor\":\"white\",\"linecolor\":\"white\",\"minorgridcolor\":\"white\",\"startlinecolor\":\"#2a3f5f\"},\"baxis\":{\"endlinecolor\":\"#2a3f5f\",\"gridcolor\":\"white\",\"linecolor\":\"white\",\"minorgridcolor\":\"white\",\"startlinecolor\":\"#2a3f5f\"},\"type\":\"carpet\"}],\"table\":[{\"cells\":{\"fill\":{\"color\":\"#EBF0F8\"},\"line\":{\"color\":\"white\"}},\"header\":{\"fill\":{\"color\":\"#C8D4E3\"},\"line\":{\"color\":\"white\"}},\"type\":\"table\"}],\"barpolar\":[{\"marker\":{\"line\":{\"color\":\"#E5ECF6\",\"width\":0.5},\"pattern\":{\"fillmode\":\"overlay\",\"size\":10,\"solidity\":0.2}},\"type\":\"barpolar\"}],\"pie\":[{\"automargin\":true,\"type\":\"pie\"}]},\"layout\":{\"autotypenumbers\":\"strict\",\"colorway\":[\"#636efa\",\"#EF553B\",\"#00cc96\",\"#ab63fa\",\"#FFA15A\",\"#19d3f3\",\"#FF6692\",\"#B6E880\",\"#FF97FF\",\"#FECB52\"],\"font\":{\"color\":\"#2a3f5f\"},\"hovermode\":\"closest\",\"hoverlabel\":{\"align\":\"left\"},\"paper_bgcolor\":\"white\",\"plot_bgcolor\":\"#E5ECF6\",\"polar\":{\"bgcolor\":\"#E5ECF6\",\"angularaxis\":{\"gridcolor\":\"white\",\"linecolor\":\"white\",\"ticks\":\"\"},\"radialaxis\":{\"gridcolor\":\"white\",\"linecolor\":\"white\",\"ticks\":\"\"}},\"ternary\":{\"bgcolor\":\"#E5ECF6\",\"aaxis\":{\"gridcolor\":\"white\",\"linecolor\":\"white\",\"ticks\":\"\"},\"baxis\":{\"gridcolor\":\"white\",\"linecolor\":\"white\",\"ticks\":\"\"},\"caxis\":{\"gridcolor\":\"white\",\"linecolor\":\"white\",\"ticks\":\"\"}},\"coloraxis\":{\"colorbar\":{\"outlinewidth\":0,\"ticks\":\"\"}},\"colorscale\":{\"sequential\":[[0.0,\"#0d0887\"],[0.1111111111111111,\"#46039f\"],[0.2222222222222222,\"#7201a8\"],[0.3333333333333333,\"#9c179e\"],[0.4444444444444444,\"#bd3786\"],[0.5555555555555556,\"#d8576b\"],[0.6666666666666666,\"#ed7953\"],[0.7777777777777778,\"#fb9f3a\"],[0.8888888888888888,\"#fdca26\"],[1.0,\"#f0f921\"]],\"sequentialminus\":[[0.0,\"#0d0887\"],[0.1111111111111111,\"#46039f\"],[0.2222222222222222,\"#7201a8\"],[0.3333333333333333,\"#9c179e\"],[0.4444444444444444,\"#bd3786\"],[0.5555555555555556,\"#d8576b\"],[0.6666666666666666,\"#ed7953\"],[0.7777777777777778,\"#fb9f3a\"],[0.8888888888888888,\"#fdca26\"],[1.0,\"#f0f921\"]],\"diverging\":[[0,\"#8e0152\"],[0.1,\"#c51b7d\"],[0.2,\"#de77ae\"],[0.3,\"#f1b6da\"],[0.4,\"#fde0ef\"],[0.5,\"#f7f7f7\"],[0.6,\"#e6f5d0\"],[0.7,\"#b8e186\"],[0.8,\"#7fbc41\"],[0.9,\"#4d9221\"],[1,\"#276419\"]]},\"xaxis\":{\"gridcolor\":\"white\",\"linecolor\":\"white\",\"ticks\":\"\",\"title\":{\"standoff\":15},\"zerolinecolor\":\"white\",\"automargin\":true,\"zerolinewidth\":2},\"yaxis\":{\"gridcolor\":\"white\",\"linecolor\":\"white\",\"ticks\":\"\",\"title\":{\"standoff\":15},\"zerolinecolor\":\"white\",\"automargin\":true,\"zerolinewidth\":2},\"scene\":{\"xaxis\":{\"backgroundcolor\":\"#E5ECF6\",\"gridcolor\":\"white\",\"linecolor\":\"white\",\"showbackground\":true,\"ticks\":\"\",\"zerolinecolor\":\"white\",\"gridwidth\":2},\"yaxis\":{\"backgroundcolor\":\"#E5ECF6\",\"gridcolor\":\"white\",\"linecolor\":\"white\",\"showbackground\":true,\"ticks\":\"\",\"zerolinecolor\":\"white\",\"gridwidth\":2},\"zaxis\":{\"backgroundcolor\":\"#E5ECF6\",\"gridcolor\":\"white\",\"linecolor\":\"white\",\"showbackground\":true,\"ticks\":\"\",\"zerolinecolor\":\"white\",\"gridwidth\":2}},\"shapedefaults\":{\"line\":{\"color\":\"#2a3f5f\"}},\"annotationdefaults\":{\"arrowcolor\":\"#2a3f5f\",\"arrowhead\":0,\"arrowwidth\":1},\"geo\":{\"bgcolor\":\"white\",\"landcolor\":\"#E5ECF6\",\"subunitcolor\":\"white\",\"showland\":true,\"showlakes\":true,\"lakecolor\":\"white\"},\"title\":{\"x\":0.05},\"mapbox\":{\"style\":\"light\"}}},\"scene\":{\"domain\":{\"x\":[0.0,1.0],\"y\":[0.0,1.0]},\"xaxis\":{\"title\":{\"text\":\"x\"}},\"yaxis\":{\"title\":{\"text\":\"y\"}},\"zaxis\":{\"title\":{\"text\":\"z\"},\"range\":[0,35]}},\"legend\":{\"tracegroupgap\":0},\"margin\":{\"t\":60}},                        {\"responsive\": true}                    ).then(function(){\n",
       "                            \n",
       "var gd = document.getElementById('9efe2549-6889-4bb8-9b2f-70b28c61c3c8');\n",
       "var x = new MutationObserver(function (mutations, observer) {{\n",
       "        var display = window.getComputedStyle(gd).display;\n",
       "        if (!display || display === 'none') {{\n",
       "            console.log([gd, 'removed!']);\n",
       "            Plotly.purge(gd);\n",
       "            observer.disconnect();\n",
       "        }}\n",
       "}});\n",
       "\n",
       "// Listen for the removal of the full notebook cells\n",
       "var notebookContainer = gd.closest('#notebook-container');\n",
       "if (notebookContainer) {{\n",
       "    x.observe(notebookContainer, {childList: true});\n",
       "}}\n",
       "\n",
       "// Listen for the clearing of the current output cell\n",
       "var outputEl = gd.closest('.output');\n",
       "if (outputEl) {{\n",
       "    x.observe(outputEl, {childList: true});\n",
       "}}\n",
       "\n",
       "                        })                };                });            </script>        </div>"
      ]
     },
     "metadata": {},
     "output_type": "display_data"
    }
   ],
   "source": [
    "\n",
    "fig = px.scatter_3d(x=x.ravel(), y=y.ravel(), z=z.ravel())\n",
    "\n",
    "fig.add_trace(go.Surface(x = x_input, y = y_input, z =z_final))\n",
    "\n",
    "fig.update_layout(scene = dict(zaxis = dict(range=[0,35])))\n",
    "\n",
    "fig.show()"
   ]
  },
  {
   "cell_type": "code",
   "execution_count": null,
   "id": "2ff1d135-41a8-40e4-822f-292b4d90e5ce",
   "metadata": {},
   "outputs": [],
   "source": []
  }
 ],
 "metadata": {
  "kernelspec": {
   "display_name": "Python 3 (ipykernel)",
   "language": "python",
   "name": "python3"
  },
  "language_info": {
   "codemirror_mode": {
    "name": "ipython",
    "version": 3
   },
   "file_extension": ".py",
   "mimetype": "text/x-python",
   "name": "python",
   "nbconvert_exporter": "python",
   "pygments_lexer": "ipython3",
   "version": "3.12.4"
  }
 },
 "nbformat": 4,
 "nbformat_minor": 5
}
